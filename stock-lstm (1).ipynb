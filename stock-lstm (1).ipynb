{
 "cells": [
  {
   "cell_type": "markdown",
   "metadata": {
    "id": "iawuAPmkOAV_",
    "papermill": {
     "duration": 0.057956,
     "end_time": "2020-12-19T16:47:04.617890",
     "exception": false,
     "start_time": "2020-12-19T16:47:04.559934",
     "status": "completed"
    },
    "tags": []
   },
   "source": [
    "### Stock Market Prediction And Forecasting Using Stacked LSTM"
   ]
  },
  {
   "cell_type": "code",
   "execution_count": 1,
   "metadata": {
    "execution": {
     "iopub.execute_input": "2020-12-19T16:47:04.737118Z",
     "iopub.status.busy": "2020-12-19T16:47:04.736260Z",
     "iopub.status.idle": "2020-12-19T16:47:04.739911Z",
     "shell.execute_reply": "2020-12-19T16:47:04.739289Z"
    },
    "id": "wTbY136fOAWB",
    "papermill": {
     "duration": 0.065232,
     "end_time": "2020-12-19T16:47:04.740043",
     "exception": false,
     "start_time": "2020-12-19T16:47:04.674811",
     "status": "completed"
    },
    "tags": []
   },
   "outputs": [],
   "source": [
    "### Keras and Tensorflow >2.0"
   ]
  },
  {
   "cell_type": "code",
   "execution_count": 2,
   "metadata": {
    "execution": {
     "iopub.execute_input": "2020-12-19T16:47:04.859994Z",
     "iopub.status.busy": "2020-12-19T16:47:04.859242Z",
     "iopub.status.idle": "2020-12-19T16:47:04.862454Z",
     "shell.execute_reply": "2020-12-19T16:47:04.861894Z"
    },
    "papermill": {
     "duration": 0.065956,
     "end_time": "2020-12-19T16:47:04.862575",
     "exception": false,
     "start_time": "2020-12-19T16:47:04.796619",
     "status": "completed"
    },
    "tags": []
   },
   "outputs": [],
   "source": [
    "nop=0"
   ]
  },
  {
   "cell_type": "code",
   "execution_count": 3,
   "metadata": {
    "execution": {
     "iopub.execute_input": "2020-12-19T16:47:04.985742Z",
     "iopub.status.busy": "2020-12-19T16:47:04.984676Z",
     "iopub.status.idle": "2020-12-19T16:47:04.988007Z",
     "shell.execute_reply": "2020-12-19T16:47:04.987346Z"
    },
    "papermill": {
     "duration": 0.069249,
     "end_time": "2020-12-19T16:47:04.988121",
     "exception": false,
     "start_time": "2020-12-19T16:47:04.918872",
     "status": "completed"
    },
    "tags": []
   },
   "outputs": [],
   "source": [
    "import numpy as np\n",
    "import matplotlib.pyplot as plt\n",
    "import pandas as pd\n",
    "import requests\n",
    "import requests\n",
    "#url = 'https://min-api.cryptocompare.com/data/histominute'+'?fsym=BTC'+'&tsym=USD'+'&limit=2000'+'&aggregate=1'          \n",
    "def csvm(url,coun,nop):\n",
    "    response = requests.get(url)\n",
    "    data = response.json()['Data']\n",
    "   # print(data)\n",
    "    import pandas as pd\n",
    "    df = pd.DataFrame(data)\n",
    "    if coun==0:\n",
    "        d=df.iloc[0,0]\n",
    "    else:\n",
    "        d=10\n",
    "    print(d)\n",
    "    #df[\"time\"] = pd.to_datetime(df['time'], unit='s')\n",
    "    \n",
    "    df=df.rename(columns={\"time\": \"timestamp\"})\n",
    "    print(df)\n",
    "    aj=['volumefrom', 'volumeto','conversionType', 'conversionSymbol']\n",
    "    df=df.drop(aj,axis=1)\n",
    "        \n",
    "    #print(df)\n",
    "    #df.to_csv(\"Prices\"+str(nop)+\".csv\")\n",
    "    return d,df"
   ]
  },
  {
   "cell_type": "code",
   "execution_count": 4,
   "metadata": {
    "execution": {
     "iopub.execute_input": "2020-12-19T16:47:05.107453Z",
     "iopub.status.busy": "2020-12-19T16:47:05.106413Z",
     "iopub.status.idle": "2020-12-19T16:47:05.108828Z",
     "shell.execute_reply": "2020-12-19T16:47:05.109298Z"
    },
    "papermill": {
     "duration": 0.06367,
     "end_time": "2020-12-19T16:47:05.109489",
     "exception": false,
     "start_time": "2020-12-19T16:47:05.045819",
     "status": "completed"
    },
    "tags": []
   },
   "outputs": [],
   "source": [
    "url = 'https://min-api.cryptocompare.com/data/histominute'+'?fsym=BTC'+'&tsym=USD'+'&limit=2000'+'&aggregate=5'"
   ]
  },
  {
   "cell_type": "code",
   "execution_count": 5,
   "metadata": {
    "execution": {
     "iopub.execute_input": "2020-12-19T16:47:05.226738Z",
     "iopub.status.busy": "2020-12-19T16:47:05.225700Z",
     "iopub.status.idle": "2020-12-19T16:47:05.237064Z",
     "shell.execute_reply": "2020-12-19T16:47:05.237587Z"
    },
    "papermill": {
     "duration": 0.072497,
     "end_time": "2020-12-19T16:47:05.237753",
     "exception": false,
     "start_time": "2020-12-19T16:47:05.165256",
     "status": "completed"
    },
    "tags": []
   },
   "outputs": [],
   "source": [
    "def fx(url,nop):\n",
    "    #  \n",
    "    for i in range(5):\n",
    "        if i==0:\n",
    "            n,a=csvm(url,0,nop)\n",
    "            print(a)\n",
    "        elif i==1:\n",
    "            url=url+\"&toTs=\"+str(n)\n",
    "            print(url)\n",
    "            n-=120000\n",
    "            m,ab=csvm(url,1,nop)\n",
    "            print(ab)\n",
    "           # print(n)\n",
    "            a=pd.concat([ab,a],ignore_index=True)\n",
    "        else:\n",
    "            url=url[:-16]+\"&toTs=\"+str(n)\n",
    "            print(url)\n",
    "            n-=120000\n",
    "            m,ab=csvm(url,1,nop)\n",
    "            print(ab)\n",
    "           # print(n)\n",
    "            a=pd.concat([ab,a],ignore_index=True)\n",
    "        a.to_csv(\"Prices\"+str(nop)+\".csv\")"
   ]
  },
  {
   "cell_type": "code",
   "execution_count": 6,
   "metadata": {
    "execution": {
     "iopub.execute_input": "2020-12-19T16:47:05.354346Z",
     "iopub.status.busy": "2020-12-19T16:47:05.353322Z",
     "iopub.status.idle": "2020-12-19T16:47:11.481451Z",
     "shell.execute_reply": "2020-12-19T16:47:11.481937Z"
    },
    "papermill": {
     "duration": 6.188468,
     "end_time": "2020-12-19T16:47:11.482100",
     "exception": false,
     "start_time": "2020-12-19T16:47:05.293632",
     "status": "completed"
    },
    "tags": []
   },
   "outputs": [
    {
     "name": "stdout",
     "output_type": "stream",
     "text": [
      "1608276300\n",
      "      timestamp      high       low      open  volumefrom     volumeto  \\\n",
      "0    1608276300  22915.17  22888.05  22901.87       81.41   1864733.00   \n",
      "1    1608276600  22946.38  22902.79  22903.21      118.26   2709145.99   \n",
      "2    1608276900  23007.08  22935.70  22937.53      208.96   4803327.30   \n",
      "3    1608277200  23028.26  22993.19  23007.05      152.09   3491010.33   \n",
      "4    1608277500  23054.21  23011.81  23016.86      168.93   3892349.33   \n",
      "..          ...       ...       ...       ...         ...          ...   \n",
      "396  1608395100  24017.59  23861.32  23953.88      848.89  20296794.50   \n",
      "397  1608395400  23944.23  23831.12  23910.07      630.28  15058235.67   \n",
      "398  1608395700  23943.73  23828.68  23927.87      361.63   8645303.88   \n",
      "399  1608396000  24085.09  23894.06  23925.64      913.48  21983460.59   \n",
      "400  1608396300  24088.29  24014.44  24066.93      157.38   3790105.63   \n",
      "\n",
      "        close conversionType conversionSymbol  \n",
      "0    22903.21         direct                   \n",
      "1    22937.53         direct                   \n",
      "2    23007.05         direct                   \n",
      "3    23016.86         direct                   \n",
      "4    23035.63         direct                   \n",
      "..        ...            ...              ...  \n",
      "396  23910.07         direct                   \n",
      "397  23927.87         direct                   \n",
      "398  23925.64         direct                   \n",
      "399  24066.93         direct                   \n",
      "400  24080.73         direct                   \n",
      "\n",
      "[401 rows x 9 columns]\n",
      "      timestamp      high       low      open     close\n",
      "0    1608276300  22915.17  22888.05  22901.87  22903.21\n",
      "1    1608276600  22946.38  22902.79  22903.21  22937.53\n",
      "2    1608276900  23007.08  22935.70  22937.53  23007.05\n",
      "3    1608277200  23028.26  22993.19  23007.05  23016.86\n",
      "4    1608277500  23054.21  23011.81  23016.86  23035.63\n",
      "..          ...       ...       ...       ...       ...\n",
      "396  1608395100  24017.59  23861.32  23953.88  23910.07\n",
      "397  1608395400  23944.23  23831.12  23910.07  23927.87\n",
      "398  1608395700  23943.73  23828.68  23927.87  23925.64\n",
      "399  1608396000  24085.09  23894.06  23925.64  24066.93\n",
      "400  1608396300  24088.29  24014.44  24066.93  24080.73\n",
      "\n",
      "[401 rows x 5 columns]\n",
      "https://min-api.cryptocompare.com/data/histominute?fsym=BTC&tsym=USD&limit=2000&aggregate=5&toTs=1608276300\n",
      "10\n",
      "      timestamp      high       low      open  volumefrom     volumeto  \\\n",
      "0    1608156300  21342.87  21255.16  21298.18     438.460   9342507.52   \n",
      "1    1608156600  21336.94  21280.60  21322.44     453.110   9653273.23   \n",
      "2    1608156900  21404.07  21289.07  21310.95     453.070   9674943.28   \n",
      "3    1608157200  21442.92  21375.08  21376.28     558.790  11959746.77   \n",
      "4    1608157500  21405.65  21207.49  21404.45     613.160  13058285.46   \n",
      "..          ...       ...       ...       ...         ...          ...   \n",
      "396  1608275100  23011.08  22933.70  22950.80     205.760   4725644.08   \n",
      "397  1608275400  22959.05  22869.91  22959.05     165.150   3779277.69   \n",
      "398  1608275700  22894.32  22839.72  22889.66     201.380   4604826.38   \n",
      "399  1608276000  22914.10  22851.53  22890.88     244.410   5582334.44   \n",
      "400  1608276300  22903.35  22888.05  22901.87       7.947    181999.35   \n",
      "\n",
      "        close conversionType conversionSymbol  \n",
      "0    21322.44         direct                   \n",
      "1    21310.95         direct                   \n",
      "2    21376.28         direct                   \n",
      "3    21404.45         direct                   \n",
      "4    21306.28         direct                   \n",
      "..        ...            ...              ...  \n",
      "396  22959.05         direct                   \n",
      "397  22889.66         direct                   \n",
      "398  22890.88         direct                   \n",
      "399  22901.87         direct                   \n",
      "400  22897.67         direct                   \n",
      "\n",
      "[401 rows x 9 columns]\n",
      "      timestamp      high       low      open     close\n",
      "0    1608156300  21342.87  21255.16  21298.18  21322.44\n",
      "1    1608156600  21336.94  21280.60  21322.44  21310.95\n",
      "2    1608156900  21404.07  21289.07  21310.95  21376.28\n",
      "3    1608157200  21442.92  21375.08  21376.28  21404.45\n",
      "4    1608157500  21405.65  21207.49  21404.45  21306.28\n",
      "..          ...       ...       ...       ...       ...\n",
      "396  1608275100  23011.08  22933.70  22950.80  22959.05\n",
      "397  1608275400  22959.05  22869.91  22959.05  22889.66\n",
      "398  1608275700  22894.32  22839.72  22889.66  22890.88\n",
      "399  1608276000  22914.10  22851.53  22890.88  22901.87\n",
      "400  1608276300  22903.35  22888.05  22901.87  22897.67\n",
      "\n",
      "[401 rows x 5 columns]\n",
      "https://min-api.cryptocompare.com/data/histominute?fsym=BTC&tsym=USD&limit=2000&aggregate=5&toTs=1608156300\n",
      "10\n",
      "      timestamp      high       low      open  volumefrom     volumeto  \\\n",
      "0    1608036300  19301.58  19275.05  19301.38       93.61   1805740.10   \n",
      "1    1608036600  19294.75  19282.59  19291.83       88.97   1716310.58   \n",
      "2    1608036900  19315.72  19283.02  19287.78      175.72   3388000.93   \n",
      "3    1608037200  19310.32  19287.34  19297.15       93.94   1811627.11   \n",
      "4    1608037500  19314.50  19270.93  19288.70      153.22   2955556.36   \n",
      "..          ...       ...       ...       ...         ...          ...   \n",
      "396  1608155100  21144.03  20958.49  20966.90     1604.05  33789842.76   \n",
      "397  1608155400  21278.70  21093.01  21118.15     1311.43  27776126.43   \n",
      "398  1608155700  21284.02  21177.90  21239.16      882.55  18732161.98   \n",
      "399  1608156000  21357.24  21187.81  21188.39     1135.89  24205291.53   \n",
      "400  1608156300  21342.87  21297.23  21298.18       83.63   1784424.03   \n",
      "\n",
      "        close conversionType conversionSymbol  \n",
      "0    19291.83         direct                   \n",
      "1    19287.78         direct                   \n",
      "2    19297.15         direct                   \n",
      "3    19288.70         direct                   \n",
      "4    19310.93         direct                   \n",
      "..        ...            ...              ...  \n",
      "396  21118.15         direct                   \n",
      "397  21239.16         direct                   \n",
      "398  21188.39         direct                   \n",
      "399  21298.18         direct                   \n",
      "400  21317.90         direct                   \n",
      "\n",
      "[401 rows x 9 columns]\n",
      "      timestamp      high       low      open     close\n",
      "0    1608036300  19301.58  19275.05  19301.38  19291.83\n",
      "1    1608036600  19294.75  19282.59  19291.83  19287.78\n",
      "2    1608036900  19315.72  19283.02  19287.78  19297.15\n",
      "3    1608037200  19310.32  19287.34  19297.15  19288.70\n",
      "4    1608037500  19314.50  19270.93  19288.70  19310.93\n",
      "..          ...       ...       ...       ...       ...\n",
      "396  1608155100  21144.03  20958.49  20966.90  21118.15\n",
      "397  1608155400  21278.70  21093.01  21118.15  21239.16\n",
      "398  1608155700  21284.02  21177.90  21239.16  21188.39\n",
      "399  1608156000  21357.24  21187.81  21188.39  21298.18\n",
      "400  1608156300  21342.87  21297.23  21298.18  21317.90\n",
      "\n",
      "[401 rows x 5 columns]\n",
      "https://min-api.cryptocompare.com/data/histominute?fsym=BTC&tsym=USD&limit=2000&aggregate=5&toTs=1608036300\n",
      "10\n",
      "      timestamp      high       low      open  volumefrom     volumeto  \\\n",
      "0    1607916300  19267.17  19250.89  19260.26       74.58   1436338.33   \n",
      "1    1607916600  19269.34  19236.03  19266.31      108.12   2081842.51   \n",
      "2    1607916900  19264.93  19244.09  19260.39     1382.64  26635465.94   \n",
      "3    1607917200  19276.72  19241.64  19250.55       94.74   1824097.11   \n",
      "4    1607917500  19274.66  19246.29  19262.75       41.85    806142.65   \n",
      "..          ...       ...       ...       ...         ...          ...   \n",
      "396  1608035100  19382.66  19359.26  19371.55      149.49   2896629.32   \n",
      "397  1608035400  19369.08  19343.14  19359.29      102.57   1982594.69   \n",
      "398  1608035700  19350.61  19327.96  19344.42       67.47   1305005.21   \n",
      "399  1608036000  19332.55  19298.61  19328.28       83.42   1610657.34   \n",
      "400  1608036300  19301.58  19289.67  19301.38       16.60    320457.26   \n",
      "\n",
      "        close conversionType conversionSymbol  \n",
      "0    19266.31         direct                   \n",
      "1    19260.39         direct                   \n",
      "2    19250.55         direct                   \n",
      "3    19262.75         direct                   \n",
      "4    19255.03         direct                   \n",
      "..        ...            ...              ...  \n",
      "396  19359.29         direct                   \n",
      "397  19344.42         direct                   \n",
      "398  19328.28         direct                   \n",
      "399  19301.38         direct                   \n",
      "400  19290.07         direct                   \n",
      "\n",
      "[401 rows x 9 columns]\n",
      "      timestamp      high       low      open     close\n",
      "0    1607916300  19267.17  19250.89  19260.26  19266.31\n",
      "1    1607916600  19269.34  19236.03  19266.31  19260.39\n",
      "2    1607916900  19264.93  19244.09  19260.39  19250.55\n",
      "3    1607917200  19276.72  19241.64  19250.55  19262.75\n",
      "4    1607917500  19274.66  19246.29  19262.75  19255.03\n",
      "..          ...       ...       ...       ...       ...\n",
      "396  1608035100  19382.66  19359.26  19371.55  19359.29\n",
      "397  1608035400  19369.08  19343.14  19359.29  19344.42\n",
      "398  1608035700  19350.61  19327.96  19344.42  19328.28\n",
      "399  1608036000  19332.55  19298.61  19328.28  19301.38\n",
      "400  1608036300  19301.58  19289.67  19301.38  19290.07\n",
      "\n",
      "[401 rows x 5 columns]\n",
      "https://min-api.cryptocompare.com/data/histominute?fsym=BTC&tsym=USD&limit=2000&aggregate=5&toTs=1607916300\n",
      "10\n",
      "      timestamp      high       low      open  volumefrom     volumeto  \\\n",
      "0    1607796300  18595.87  18580.55  18594.68      109.51   2035901.91   \n",
      "1    1607796600  18595.02  18581.44  18590.41      117.10   2176966.78   \n",
      "2    1607796900  18636.46  18587.87  18588.47      255.74   4759012.99   \n",
      "3    1607797200  18740.98  18633.21  18633.21     1316.35  24615198.63   \n",
      "4    1607797500  18731.60  18694.38  18721.92      221.97   4152500.04   \n",
      "..          ...       ...       ...       ...         ...          ...   \n",
      "396  1607915100  19326.48  19304.62  19316.45      152.39   2944019.90   \n",
      "397  1607915400  19334.44  19304.06  19321.38      137.83   2662216.61   \n",
      "398  1607915700  19318.20  19283.70  19316.98       85.98   1659054.48   \n",
      "399  1607916000  19288.65  19258.00  19283.70      135.36   2608133.70   \n",
      "400  1607916300  19261.12  19253.03  19260.26       17.69    340626.41   \n",
      "\n",
      "        close conversionType conversionSymbol  \n",
      "0    18590.41         direct                   \n",
      "1    18588.47         direct                   \n",
      "2    18633.21         direct                   \n",
      "3    18721.92         direct                   \n",
      "4    18706.79         direct                   \n",
      "..        ...            ...              ...  \n",
      "396  19321.38         direct                   \n",
      "397  19316.98         direct                   \n",
      "398  19283.70         direct                   \n",
      "399  19260.26         direct                   \n",
      "400  19253.25         direct                   \n",
      "\n",
      "[401 rows x 9 columns]\n",
      "      timestamp      high       low      open     close\n",
      "0    1607796300  18595.87  18580.55  18594.68  18590.41\n",
      "1    1607796600  18595.02  18581.44  18590.41  18588.47\n",
      "2    1607796900  18636.46  18587.87  18588.47  18633.21\n",
      "3    1607797200  18740.98  18633.21  18633.21  18721.92\n",
      "4    1607797500  18731.60  18694.38  18721.92  18706.79\n",
      "..          ...       ...       ...       ...       ...\n",
      "396  1607915100  19326.48  19304.62  19316.45  19321.38\n",
      "397  1607915400  19334.44  19304.06  19321.38  19316.98\n",
      "398  1607915700  19318.20  19283.70  19316.98  19283.70\n",
      "399  1607916000  19288.65  19258.00  19283.70  19260.26\n",
      "400  1607916300  19261.12  19253.03  19260.26  19253.25\n",
      "\n",
      "[401 rows x 5 columns]\n"
     ]
    },
    {
     "data": {
      "text/html": [
       "<div>\n",
       "<style scoped>\n",
       "    .dataframe tbody tr th:only-of-type {\n",
       "        vertical-align: middle;\n",
       "    }\n",
       "\n",
       "    .dataframe tbody tr th {\n",
       "        vertical-align: top;\n",
       "    }\n",
       "\n",
       "    .dataframe thead th {\n",
       "        text-align: right;\n",
       "    }\n",
       "</style>\n",
       "<table border=\"1\" class=\"dataframe\">\n",
       "  <thead>\n",
       "    <tr style=\"text-align: right;\">\n",
       "      <th></th>\n",
       "      <th>Unnamed: 0</th>\n",
       "      <th>timestamp</th>\n",
       "      <th>high</th>\n",
       "      <th>low</th>\n",
       "      <th>open</th>\n",
       "      <th>close</th>\n",
       "    </tr>\n",
       "  </thead>\n",
       "  <tbody>\n",
       "    <tr>\n",
       "      <th>0</th>\n",
       "      <td>0</td>\n",
       "      <td>1607796300</td>\n",
       "      <td>18595.87</td>\n",
       "      <td>18580.55</td>\n",
       "      <td>18594.68</td>\n",
       "      <td>18590.41</td>\n",
       "    </tr>\n",
       "    <tr>\n",
       "      <th>1</th>\n",
       "      <td>1</td>\n",
       "      <td>1607796600</td>\n",
       "      <td>18595.02</td>\n",
       "      <td>18581.44</td>\n",
       "      <td>18590.41</td>\n",
       "      <td>18588.47</td>\n",
       "    </tr>\n",
       "    <tr>\n",
       "      <th>2</th>\n",
       "      <td>2</td>\n",
       "      <td>1607796900</td>\n",
       "      <td>18636.46</td>\n",
       "      <td>18587.87</td>\n",
       "      <td>18588.47</td>\n",
       "      <td>18633.21</td>\n",
       "    </tr>\n",
       "    <tr>\n",
       "      <th>3</th>\n",
       "      <td>3</td>\n",
       "      <td>1607797200</td>\n",
       "      <td>18740.98</td>\n",
       "      <td>18633.21</td>\n",
       "      <td>18633.21</td>\n",
       "      <td>18721.92</td>\n",
       "    </tr>\n",
       "    <tr>\n",
       "      <th>4</th>\n",
       "      <td>4</td>\n",
       "      <td>1607797500</td>\n",
       "      <td>18731.60</td>\n",
       "      <td>18694.38</td>\n",
       "      <td>18721.92</td>\n",
       "      <td>18706.79</td>\n",
       "    </tr>\n",
       "    <tr>\n",
       "      <th>...</th>\n",
       "      <td>...</td>\n",
       "      <td>...</td>\n",
       "      <td>...</td>\n",
       "      <td>...</td>\n",
       "      <td>...</td>\n",
       "      <td>...</td>\n",
       "    </tr>\n",
       "    <tr>\n",
       "      <th>2000</th>\n",
       "      <td>2000</td>\n",
       "      <td>1608395100</td>\n",
       "      <td>24017.59</td>\n",
       "      <td>23861.32</td>\n",
       "      <td>23953.88</td>\n",
       "      <td>23910.07</td>\n",
       "    </tr>\n",
       "    <tr>\n",
       "      <th>2001</th>\n",
       "      <td>2001</td>\n",
       "      <td>1608395400</td>\n",
       "      <td>23944.23</td>\n",
       "      <td>23831.12</td>\n",
       "      <td>23910.07</td>\n",
       "      <td>23927.87</td>\n",
       "    </tr>\n",
       "    <tr>\n",
       "      <th>2002</th>\n",
       "      <td>2002</td>\n",
       "      <td>1608395700</td>\n",
       "      <td>23943.73</td>\n",
       "      <td>23828.68</td>\n",
       "      <td>23927.87</td>\n",
       "      <td>23925.64</td>\n",
       "    </tr>\n",
       "    <tr>\n",
       "      <th>2003</th>\n",
       "      <td>2003</td>\n",
       "      <td>1608396000</td>\n",
       "      <td>24085.09</td>\n",
       "      <td>23894.06</td>\n",
       "      <td>23925.64</td>\n",
       "      <td>24066.93</td>\n",
       "    </tr>\n",
       "    <tr>\n",
       "      <th>2004</th>\n",
       "      <td>2004</td>\n",
       "      <td>1608396300</td>\n",
       "      <td>24088.29</td>\n",
       "      <td>24014.44</td>\n",
       "      <td>24066.93</td>\n",
       "      <td>24080.73</td>\n",
       "    </tr>\n",
       "  </tbody>\n",
       "</table>\n",
       "<p>2005 rows × 6 columns</p>\n",
       "</div>"
      ],
      "text/plain": [
       "      Unnamed: 0   timestamp      high       low      open     close\n",
       "0              0  1607796300  18595.87  18580.55  18594.68  18590.41\n",
       "1              1  1607796600  18595.02  18581.44  18590.41  18588.47\n",
       "2              2  1607796900  18636.46  18587.87  18588.47  18633.21\n",
       "3              3  1607797200  18740.98  18633.21  18633.21  18721.92\n",
       "4              4  1607797500  18731.60  18694.38  18721.92  18706.79\n",
       "...          ...         ...       ...       ...       ...       ...\n",
       "2000        2000  1608395100  24017.59  23861.32  23953.88  23910.07\n",
       "2001        2001  1608395400  23944.23  23831.12  23910.07  23927.87\n",
       "2002        2002  1608395700  23943.73  23828.68  23927.87  23925.64\n",
       "2003        2003  1608396000  24085.09  23894.06  23925.64  24066.93\n",
       "2004        2004  1608396300  24088.29  24014.44  24066.93  24080.73\n",
       "\n",
       "[2005 rows x 6 columns]"
      ]
     },
     "execution_count": 6,
     "metadata": {},
     "output_type": "execute_result"
    }
   ],
   "source": [
    "testt=fx(url,nop)\n",
    "testt=pd.read_csv(\"Prices\"+str(nop)+\".csv\")\n",
    "\n",
    "testt"
   ]
  },
  {
   "cell_type": "code",
   "execution_count": null,
   "metadata": {
    "papermill": {
     "duration": 0.098124,
     "end_time": "2020-12-19T16:47:11.654208",
     "exception": false,
     "start_time": "2020-12-19T16:47:11.556084",
     "status": "completed"
    },
    "tags": []
   },
   "outputs": [],
   "source": []
  },
  {
   "cell_type": "code",
   "execution_count": 7,
   "metadata": {
    "execution": {
     "iopub.execute_input": "2020-12-19T16:47:11.792555Z",
     "iopub.status.busy": "2020-12-19T16:47:11.791760Z",
     "iopub.status.idle": "2020-12-19T16:47:11.808007Z",
     "shell.execute_reply": "2020-12-19T16:47:11.808606Z"
    },
    "id": "SYo1rX6nOAWB",
    "papermill": {
     "duration": 0.091492,
     "end_time": "2020-12-19T16:47:11.808780",
     "exception": false,
     "start_time": "2020-12-19T16:47:11.717288",
     "status": "completed"
    },
    "tags": []
   },
   "outputs": [],
   "source": [
    "import pandas as pd\n",
    "import matplotlib.pyplot as plt\n",
    "import plotly.graph_objects as go"
   ]
  },
  {
   "cell_type": "code",
   "execution_count": 8,
   "metadata": {
    "execution": {
     "iopub.execute_input": "2020-12-19T16:47:11.934408Z",
     "iopub.status.busy": "2020-12-19T16:47:11.933692Z",
     "iopub.status.idle": "2020-12-19T16:47:11.968010Z",
     "shell.execute_reply": "2020-12-19T16:47:11.967439Z"
    },
    "id": "5uA_KSk9OAWC",
    "outputId": "2aaf40c8-60a2-4bd0-e214-d273b2879ca7",
    "papermill": {
     "duration": 0.099602,
     "end_time": "2020-12-19T16:47:11.968122",
     "exception": false,
     "start_time": "2020-12-19T16:47:11.868520",
     "status": "completed"
    },
    "tags": []
   },
   "outputs": [
    {
     "data": {
      "text/html": [
       "<div>\n",
       "<style scoped>\n",
       "    .dataframe tbody tr th:only-of-type {\n",
       "        vertical-align: middle;\n",
       "    }\n",
       "\n",
       "    .dataframe tbody tr th {\n",
       "        vertical-align: top;\n",
       "    }\n",
       "\n",
       "    .dataframe thead th {\n",
       "        text-align: right;\n",
       "    }\n",
       "</style>\n",
       "<table border=\"1\" class=\"dataframe\">\n",
       "  <thead>\n",
       "    <tr style=\"text-align: right;\">\n",
       "      <th></th>\n",
       "      <th>Unnamed: 0</th>\n",
       "      <th>timestamp</th>\n",
       "      <th>high</th>\n",
       "      <th>low</th>\n",
       "      <th>open</th>\n",
       "      <th>close</th>\n",
       "    </tr>\n",
       "  </thead>\n",
       "  <tbody>\n",
       "    <tr>\n",
       "      <th>0</th>\n",
       "      <td>0</td>\n",
       "      <td>2020-12-12 18:05:00</td>\n",
       "      <td>18595.87</td>\n",
       "      <td>18580.55</td>\n",
       "      <td>18594.68</td>\n",
       "      <td>18590.41</td>\n",
       "    </tr>\n",
       "    <tr>\n",
       "      <th>1</th>\n",
       "      <td>1</td>\n",
       "      <td>2020-12-12 18:10:00</td>\n",
       "      <td>18595.02</td>\n",
       "      <td>18581.44</td>\n",
       "      <td>18590.41</td>\n",
       "      <td>18588.47</td>\n",
       "    </tr>\n",
       "    <tr>\n",
       "      <th>2</th>\n",
       "      <td>2</td>\n",
       "      <td>2020-12-12 18:15:00</td>\n",
       "      <td>18636.46</td>\n",
       "      <td>18587.87</td>\n",
       "      <td>18588.47</td>\n",
       "      <td>18633.21</td>\n",
       "    </tr>\n",
       "    <tr>\n",
       "      <th>3</th>\n",
       "      <td>3</td>\n",
       "      <td>2020-12-12 18:20:00</td>\n",
       "      <td>18740.98</td>\n",
       "      <td>18633.21</td>\n",
       "      <td>18633.21</td>\n",
       "      <td>18721.92</td>\n",
       "    </tr>\n",
       "    <tr>\n",
       "      <th>4</th>\n",
       "      <td>4</td>\n",
       "      <td>2020-12-12 18:25:00</td>\n",
       "      <td>18731.60</td>\n",
       "      <td>18694.38</td>\n",
       "      <td>18721.92</td>\n",
       "      <td>18706.79</td>\n",
       "    </tr>\n",
       "    <tr>\n",
       "      <th>...</th>\n",
       "      <td>...</td>\n",
       "      <td>...</td>\n",
       "      <td>...</td>\n",
       "      <td>...</td>\n",
       "      <td>...</td>\n",
       "      <td>...</td>\n",
       "    </tr>\n",
       "    <tr>\n",
       "      <th>2000</th>\n",
       "      <td>2000</td>\n",
       "      <td>2020-12-19 16:25:00</td>\n",
       "      <td>24017.59</td>\n",
       "      <td>23861.32</td>\n",
       "      <td>23953.88</td>\n",
       "      <td>23910.07</td>\n",
       "    </tr>\n",
       "    <tr>\n",
       "      <th>2001</th>\n",
       "      <td>2001</td>\n",
       "      <td>2020-12-19 16:30:00</td>\n",
       "      <td>23944.23</td>\n",
       "      <td>23831.12</td>\n",
       "      <td>23910.07</td>\n",
       "      <td>23927.87</td>\n",
       "    </tr>\n",
       "    <tr>\n",
       "      <th>2002</th>\n",
       "      <td>2002</td>\n",
       "      <td>2020-12-19 16:35:00</td>\n",
       "      <td>23943.73</td>\n",
       "      <td>23828.68</td>\n",
       "      <td>23927.87</td>\n",
       "      <td>23925.64</td>\n",
       "    </tr>\n",
       "    <tr>\n",
       "      <th>2003</th>\n",
       "      <td>2003</td>\n",
       "      <td>2020-12-19 16:40:00</td>\n",
       "      <td>24085.09</td>\n",
       "      <td>23894.06</td>\n",
       "      <td>23925.64</td>\n",
       "      <td>24066.93</td>\n",
       "    </tr>\n",
       "    <tr>\n",
       "      <th>2004</th>\n",
       "      <td>2004</td>\n",
       "      <td>2020-12-19 16:45:00</td>\n",
       "      <td>24088.29</td>\n",
       "      <td>24014.44</td>\n",
       "      <td>24066.93</td>\n",
       "      <td>24080.73</td>\n",
       "    </tr>\n",
       "  </tbody>\n",
       "</table>\n",
       "<p>2005 rows × 6 columns</p>\n",
       "</div>"
      ],
      "text/plain": [
       "      Unnamed: 0           timestamp      high       low      open     close\n",
       "0              0 2020-12-12 18:05:00  18595.87  18580.55  18594.68  18590.41\n",
       "1              1 2020-12-12 18:10:00  18595.02  18581.44  18590.41  18588.47\n",
       "2              2 2020-12-12 18:15:00  18636.46  18587.87  18588.47  18633.21\n",
       "3              3 2020-12-12 18:20:00  18740.98  18633.21  18633.21  18721.92\n",
       "4              4 2020-12-12 18:25:00  18731.60  18694.38  18721.92  18706.79\n",
       "...          ...                 ...       ...       ...       ...       ...\n",
       "2000        2000 2020-12-19 16:25:00  24017.59  23861.32  23953.88  23910.07\n",
       "2001        2001 2020-12-19 16:30:00  23944.23  23831.12  23910.07  23927.87\n",
       "2002        2002 2020-12-19 16:35:00  23943.73  23828.68  23927.87  23925.64\n",
       "2003        2003 2020-12-19 16:40:00  24085.09  23894.06  23925.64  24066.93\n",
       "2004        2004 2020-12-19 16:45:00  24088.29  24014.44  24066.93  24080.73\n",
       "\n",
       "[2005 rows x 6 columns]"
      ]
     },
     "execution_count": 8,
     "metadata": {},
     "output_type": "execute_result"
    }
   ],
   "source": [
    "#csvm(url,0,0)\n",
    "df=pd.read_csv(\"Prices\"+str(nop)+\".csv\")\n",
    "#df=df[::-1#].reset_index().drop(columns=[\"index\"])\n",
    "df[\"timestamp\"]=pd.to_datetime(df[\"timestamp\"],unit=\"s\")\n",
    "df"
   ]
  },
  {
   "cell_type": "code",
   "execution_count": 9,
   "metadata": {
    "execution": {
     "iopub.execute_input": "2020-12-19T16:47:12.103897Z",
     "iopub.status.busy": "2020-12-19T16:47:12.102913Z",
     "iopub.status.idle": "2020-12-19T16:47:12.108261Z",
     "shell.execute_reply": "2020-12-19T16:47:12.107576Z"
    },
    "id": "vX0MBLWoOAWC",
    "outputId": "67afc6ab-9b25-4221-d99f-592d2ad69039",
    "papermill": {
     "duration": 0.080497,
     "end_time": "2020-12-19T16:47:12.108408",
     "exception": false,
     "start_time": "2020-12-19T16:47:12.027911",
     "status": "completed"
    },
    "tags": []
   },
   "outputs": [
    {
     "data": {
      "text/html": [
       "<div>\n",
       "<style scoped>\n",
       "    .dataframe tbody tr th:only-of-type {\n",
       "        vertical-align: middle;\n",
       "    }\n",
       "\n",
       "    .dataframe tbody tr th {\n",
       "        vertical-align: top;\n",
       "    }\n",
       "\n",
       "    .dataframe thead th {\n",
       "        text-align: right;\n",
       "    }\n",
       "</style>\n",
       "<table border=\"1\" class=\"dataframe\">\n",
       "  <thead>\n",
       "    <tr style=\"text-align: right;\">\n",
       "      <th></th>\n",
       "      <th>Unnamed: 0</th>\n",
       "      <th>timestamp</th>\n",
       "      <th>high</th>\n",
       "      <th>low</th>\n",
       "      <th>open</th>\n",
       "      <th>close</th>\n",
       "    </tr>\n",
       "  </thead>\n",
       "  <tbody>\n",
       "    <tr>\n",
       "      <th>0</th>\n",
       "      <td>0</td>\n",
       "      <td>2020-12-12 18:05:00</td>\n",
       "      <td>18595.87</td>\n",
       "      <td>18580.55</td>\n",
       "      <td>18594.68</td>\n",
       "      <td>18590.41</td>\n",
       "    </tr>\n",
       "    <tr>\n",
       "      <th>1</th>\n",
       "      <td>1</td>\n",
       "      <td>2020-12-12 18:10:00</td>\n",
       "      <td>18595.02</td>\n",
       "      <td>18581.44</td>\n",
       "      <td>18590.41</td>\n",
       "      <td>18588.47</td>\n",
       "    </tr>\n",
       "    <tr>\n",
       "      <th>2</th>\n",
       "      <td>2</td>\n",
       "      <td>2020-12-12 18:15:00</td>\n",
       "      <td>18636.46</td>\n",
       "      <td>18587.87</td>\n",
       "      <td>18588.47</td>\n",
       "      <td>18633.21</td>\n",
       "    </tr>\n",
       "    <tr>\n",
       "      <th>3</th>\n",
       "      <td>3</td>\n",
       "      <td>2020-12-12 18:20:00</td>\n",
       "      <td>18740.98</td>\n",
       "      <td>18633.21</td>\n",
       "      <td>18633.21</td>\n",
       "      <td>18721.92</td>\n",
       "    </tr>\n",
       "    <tr>\n",
       "      <th>4</th>\n",
       "      <td>4</td>\n",
       "      <td>2020-12-12 18:25:00</td>\n",
       "      <td>18731.60</td>\n",
       "      <td>18694.38</td>\n",
       "      <td>18721.92</td>\n",
       "      <td>18706.79</td>\n",
       "    </tr>\n",
       "  </tbody>\n",
       "</table>\n",
       "</div>"
      ],
      "text/plain": [
       "   Unnamed: 0           timestamp      high       low      open     close\n",
       "0           0 2020-12-12 18:05:00  18595.87  18580.55  18594.68  18590.41\n",
       "1           1 2020-12-12 18:10:00  18595.02  18581.44  18590.41  18588.47\n",
       "2           2 2020-12-12 18:15:00  18636.46  18587.87  18588.47  18633.21\n",
       "3           3 2020-12-12 18:20:00  18740.98  18633.21  18633.21  18721.92\n",
       "4           4 2020-12-12 18:25:00  18731.60  18694.38  18721.92  18706.79"
      ]
     },
     "execution_count": 9,
     "metadata": {},
     "output_type": "execute_result"
    }
   ],
   "source": [
    "df.head()"
   ]
  },
  {
   "cell_type": "code",
   "execution_count": 10,
   "metadata": {
    "execution": {
     "iopub.execute_input": "2020-12-19T16:47:12.247184Z",
     "iopub.status.busy": "2020-12-19T16:47:12.246091Z",
     "iopub.status.idle": "2020-12-19T16:47:12.249878Z",
     "shell.execute_reply": "2020-12-19T16:47:12.250807Z"
    },
    "id": "qpx2WmQdOAWE",
    "outputId": "69b0fd0d-a04f-4a3c-c76f-de4e7dd1773f",
    "papermill": {
     "duration": 0.081042,
     "end_time": "2020-12-19T16:47:12.251033",
     "exception": false,
     "start_time": "2020-12-19T16:47:12.169991",
     "status": "completed"
    },
    "tags": []
   },
   "outputs": [
    {
     "name": "stdout",
     "output_type": "stream",
     "text": [
      "<class 'pandas.core.frame.DataFrame'>\n",
      "RangeIndex: 2005 entries, 0 to 2004\n",
      "Data columns (total 6 columns):\n",
      " #   Column      Non-Null Count  Dtype         \n",
      "---  ------      --------------  -----         \n",
      " 0   Unnamed: 0  2005 non-null   int64         \n",
      " 1   timestamp   2005 non-null   datetime64[ns]\n",
      " 2   high        2005 non-null   float64       \n",
      " 3   low         2005 non-null   float64       \n",
      " 4   open        2005 non-null   float64       \n",
      " 5   close       2005 non-null   float64       \n",
      "dtypes: datetime64[ns](1), float64(4), int64(1)\n",
      "memory usage: 94.1 KB\n"
     ]
    }
   ],
   "source": [
    "df.info()"
   ]
  },
  {
   "cell_type": "code",
   "execution_count": 11,
   "metadata": {
    "execution": {
     "iopub.execute_input": "2020-12-19T16:47:12.388916Z",
     "iopub.status.busy": "2020-12-19T16:47:12.388018Z",
     "iopub.status.idle": "2020-12-19T16:47:12.392507Z",
     "shell.execute_reply": "2020-12-19T16:47:12.391832Z"
    },
    "id": "SqmdWN8QOAWE",
    "papermill": {
     "duration": 0.078492,
     "end_time": "2020-12-19T16:47:12.392621",
     "exception": false,
     "start_time": "2020-12-19T16:47:12.314129",
     "status": "completed"
    },
    "tags": []
   },
   "outputs": [],
   "source": [
    "df1=df.reset_index()['close']\n",
    "df11=pd.to_datetime(df[\"timestamp\"])"
   ]
  },
  {
   "cell_type": "code",
   "execution_count": 12,
   "metadata": {
    "execution": {
     "iopub.execute_input": "2020-12-19T16:47:12.524430Z",
     "iopub.status.busy": "2020-12-19T16:47:12.523567Z",
     "iopub.status.idle": "2020-12-19T16:47:12.526987Z",
     "shell.execute_reply": "2020-12-19T16:47:12.527544Z"
    },
    "id": "0mSh5HdDOAWE",
    "outputId": "a6ceef7f-626b-4b6e-d44c-1efc3c9a066a",
    "papermill": {
     "duration": 0.072762,
     "end_time": "2020-12-19T16:47:12.527698",
     "exception": false,
     "start_time": "2020-12-19T16:47:12.454936",
     "status": "completed"
    },
    "tags": []
   },
   "outputs": [
    {
     "data": {
      "text/plain": [
       "0      2020-12-12 18:05:00\n",
       "1      2020-12-12 18:10:00\n",
       "2      2020-12-12 18:15:00\n",
       "3      2020-12-12 18:20:00\n",
       "4      2020-12-12 18:25:00\n",
       "               ...        \n",
       "2000   2020-12-19 16:25:00\n",
       "2001   2020-12-19 16:30:00\n",
       "2002   2020-12-19 16:35:00\n",
       "2003   2020-12-19 16:40:00\n",
       "2004   2020-12-19 16:45:00\n",
       "Name: timestamp, Length: 2005, dtype: datetime64[ns]"
      ]
     },
     "execution_count": 12,
     "metadata": {},
     "output_type": "execute_result"
    }
   ],
   "source": [
    "df11"
   ]
  },
  {
   "cell_type": "code",
   "execution_count": 13,
   "metadata": {
    "execution": {
     "iopub.execute_input": "2020-12-19T16:47:12.668831Z",
     "iopub.status.busy": "2020-12-19T16:47:12.667643Z",
     "iopub.status.idle": "2020-12-19T16:47:12.672017Z",
     "shell.execute_reply": "2020-12-19T16:47:12.671515Z"
    },
    "id": "1HBHhYpiOAWE",
    "outputId": "3688e37a-f718-437e-f232-7b1bdd25392f",
    "papermill": {
     "duration": 0.072901,
     "end_time": "2020-12-19T16:47:12.672132",
     "exception": false,
     "start_time": "2020-12-19T16:47:12.599231",
     "status": "completed"
    },
    "tags": []
   },
   "outputs": [
    {
     "data": {
      "text/plain": [
       "0       18590.41\n",
       "1       18588.47\n",
       "2       18633.21\n",
       "3       18721.92\n",
       "4       18706.79\n",
       "          ...   \n",
       "2000    23910.07\n",
       "2001    23927.87\n",
       "2002    23925.64\n",
       "2003    24066.93\n",
       "2004    24080.73\n",
       "Name: close, Length: 2005, dtype: float64"
      ]
     },
     "execution_count": 13,
     "metadata": {},
     "output_type": "execute_result"
    }
   ],
   "source": [
    "dgp=df1\n",
    "\n",
    "dgp"
   ]
  },
  {
   "cell_type": "code",
   "execution_count": 14,
   "metadata": {
    "execution": {
     "iopub.execute_input": "2020-12-19T16:47:12.807536Z",
     "iopub.status.busy": "2020-12-19T16:47:12.806810Z",
     "iopub.status.idle": "2020-12-19T16:47:13.122689Z",
     "shell.execute_reply": "2020-12-19T16:47:13.121494Z"
    },
    "id": "ypX4BOkUOAWF",
    "outputId": "737b0744-ad99-4866-dc95-934333133984",
    "papermill": {
     "duration": 0.387016,
     "end_time": "2020-12-19T16:47:13.122819",
     "exception": false,
     "start_time": "2020-12-19T16:47:12.735803",
     "status": "completed"
    },
    "tags": []
   },
   "outputs": [
    {
     "data": {
      "text/html": [
       "        <script type=\"text/javascript\">\n",
       "        window.PlotlyConfig = {MathJaxConfig: 'local'};\n",
       "        if (window.MathJax) {MathJax.Hub.Config({SVG: {font: \"STIX-Web\"}});}\n",
       "        if (typeof require !== 'undefined') {\n",
       "        require.undef(\"plotly\");\n",
       "        requirejs.config({\n",
       "            paths: {\n",
       "                'plotly': ['https://cdn.plot.ly/plotly-latest.min']\n",
       "            }\n",
       "        });\n",
       "        require(['plotly'], function(Plotly) {\n",
       "            window._Plotly = Plotly;\n",
       "        });\n",
       "        }\n",
       "        </script>\n",
       "        "
      ]
     },
     "metadata": {},
     "output_type": "display_data"
    },
    {
     "data": {
      "text/html": [
       "<div>                            <div id=\"52406dc6-b08d-40f2-8f3d-f750d26b03a6\" class=\"plotly-graph-div\" style=\"height:525px; width:100%;\"></div>            <script type=\"text/javascript\">                require([\"plotly\"], function(Plotly) {                    window.PLOTLYENV=window.PLOTLYENV || {};                                    if (document.getElementById(\"52406dc6-b08d-40f2-8f3d-f750d26b03a6\")) {                    Plotly.newPlot(                        \"52406dc6-b08d-40f2-8f3d-f750d26b03a6\",                        [{\"marker\": {\"color\": \"seagreen\"}, \"mode\": \"lines\", \"type\": \"scatter\", \"x\": [\"2020-12-12T18:05:00\", \"2020-12-12T18:10:00\", \"2020-12-12T18:15:00\", \"2020-12-12T18:20:00\", \"2020-12-12T18:25:00\", \"2020-12-12T18:30:00\", \"2020-12-12T18:35:00\", \"2020-12-12T18:40:00\", \"2020-12-12T18:45:00\", \"2020-12-12T18:50:00\", \"2020-12-12T18:55:00\", \"2020-12-12T19:00:00\", \"2020-12-12T19:05:00\", \"2020-12-12T19:10:00\", \"2020-12-12T19:15:00\", \"2020-12-12T19:20:00\", \"2020-12-12T19:25:00\", \"2020-12-12T19:30:00\", \"2020-12-12T19:35:00\", \"2020-12-12T19:40:00\", \"2020-12-12T19:45:00\", \"2020-12-12T19:50:00\", \"2020-12-12T19:55:00\", \"2020-12-12T20:00:00\", \"2020-12-12T20:05:00\", \"2020-12-12T20:10:00\", \"2020-12-12T20:15:00\", \"2020-12-12T20:20:00\", \"2020-12-12T20:25:00\", \"2020-12-12T20:30:00\", \"2020-12-12T20:35:00\", \"2020-12-12T20:40:00\", \"2020-12-12T20:45:00\", \"2020-12-12T20:50:00\", \"2020-12-12T20:55:00\", \"2020-12-12T21:00:00\", \"2020-12-12T21:05:00\", \"2020-12-12T21:10:00\", \"2020-12-12T21:15:00\", \"2020-12-12T21:20:00\", \"2020-12-12T21:25:00\", \"2020-12-12T21:30:00\", \"2020-12-12T21:35:00\", \"2020-12-12T21:40:00\", \"2020-12-12T21:45:00\", \"2020-12-12T21:50:00\", \"2020-12-12T21:55:00\", \"2020-12-12T22:00:00\", \"2020-12-12T22:05:00\", \"2020-12-12T22:10:00\", \"2020-12-12T22:15:00\", \"2020-12-12T22:20:00\", \"2020-12-12T22:25:00\", \"2020-12-12T22:30:00\", \"2020-12-12T22:35:00\", \"2020-12-12T22:40:00\", \"2020-12-12T22:45:00\", \"2020-12-12T22:50:00\", \"2020-12-12T22:55:00\", \"2020-12-12T23:00:00\", \"2020-12-12T23:05:00\", \"2020-12-12T23:10:00\", \"2020-12-12T23:15:00\", \"2020-12-12T23:20:00\", \"2020-12-12T23:25:00\", \"2020-12-12T23:30:00\", \"2020-12-12T23:35:00\", \"2020-12-12T23:40:00\", \"2020-12-12T23:45:00\", \"2020-12-12T23:50:00\", \"2020-12-12T23:55:00\", \"2020-12-13T00:00:00\", \"2020-12-13T00:05:00\", \"2020-12-13T00:10:00\", \"2020-12-13T00:15:00\", \"2020-12-13T00:20:00\", \"2020-12-13T00:25:00\", \"2020-12-13T00:30:00\", \"2020-12-13T00:35:00\", \"2020-12-13T00:40:00\", \"2020-12-13T00:45:00\", \"2020-12-13T00:50:00\", \"2020-12-13T00:55:00\", \"2020-12-13T01:00:00\", \"2020-12-13T01:05:00\", \"2020-12-13T01:10:00\", \"2020-12-13T01:15:00\", \"2020-12-13T01:20:00\", \"2020-12-13T01:25:00\", \"2020-12-13T01:30:00\", \"2020-12-13T01:35:00\", \"2020-12-13T01:40:00\", \"2020-12-13T01:45:00\", \"2020-12-13T01:50:00\", \"2020-12-13T01:55:00\", \"2020-12-13T02:00:00\", \"2020-12-13T02:05:00\", \"2020-12-13T02:10:00\", \"2020-12-13T02:15:00\", \"2020-12-13T02:20:00\", \"2020-12-13T02:25:00\", \"2020-12-13T02:30:00\", \"2020-12-13T02:35:00\", \"2020-12-13T02:40:00\", \"2020-12-13T02:45:00\", \"2020-12-13T02:50:00\", \"2020-12-13T02:55:00\", \"2020-12-13T03:00:00\", \"2020-12-13T03:05:00\", \"2020-12-13T03:10:00\", \"2020-12-13T03:15:00\", \"2020-12-13T03:20:00\", \"2020-12-13T03:25:00\", \"2020-12-13T03:30:00\", \"2020-12-13T03:35:00\", \"2020-12-13T03:40:00\", \"2020-12-13T03:45:00\", \"2020-12-13T03:50:00\", \"2020-12-13T03:55:00\", \"2020-12-13T04:00:00\", \"2020-12-13T04:05:00\", \"2020-12-13T04:10:00\", \"2020-12-13T04:15:00\", \"2020-12-13T04:20:00\", \"2020-12-13T04:25:00\", \"2020-12-13T04:30:00\", \"2020-12-13T04:35:00\", \"2020-12-13T04:40:00\", \"2020-12-13T04:45:00\", \"2020-12-13T04:50:00\", \"2020-12-13T04:55:00\", \"2020-12-13T05:00:00\", \"2020-12-13T05:05:00\", \"2020-12-13T05:10:00\", \"2020-12-13T05:15:00\", \"2020-12-13T05:20:00\", \"2020-12-13T05:25:00\", \"2020-12-13T05:30:00\", \"2020-12-13T05:35:00\", \"2020-12-13T05:40:00\", \"2020-12-13T05:45:00\", \"2020-12-13T05:50:00\", \"2020-12-13T05:55:00\", \"2020-12-13T06:00:00\", \"2020-12-13T06:05:00\", \"2020-12-13T06:10:00\", \"2020-12-13T06:15:00\", \"2020-12-13T06:20:00\", \"2020-12-13T06:25:00\", \"2020-12-13T06:30:00\", \"2020-12-13T06:35:00\", \"2020-12-13T06:40:00\", \"2020-12-13T06:45:00\", \"2020-12-13T06:50:00\", \"2020-12-13T06:55:00\", \"2020-12-13T07:00:00\", \"2020-12-13T07:05:00\", \"2020-12-13T07:10:00\", \"2020-12-13T07:15:00\", \"2020-12-13T07:20:00\", \"2020-12-13T07:25:00\", \"2020-12-13T07:30:00\", \"2020-12-13T07:35:00\", \"2020-12-13T07:40:00\", \"2020-12-13T07:45:00\", \"2020-12-13T07:50:00\", \"2020-12-13T07:55:00\", \"2020-12-13T08:00:00\", \"2020-12-13T08:05:00\", \"2020-12-13T08:10:00\", \"2020-12-13T08:15:00\", \"2020-12-13T08:20:00\", \"2020-12-13T08:25:00\", \"2020-12-13T08:30:00\", \"2020-12-13T08:35:00\", \"2020-12-13T08:40:00\", \"2020-12-13T08:45:00\", \"2020-12-13T08:50:00\", \"2020-12-13T08:55:00\", \"2020-12-13T09:00:00\", \"2020-12-13T09:05:00\", \"2020-12-13T09:10:00\", \"2020-12-13T09:15:00\", \"2020-12-13T09:20:00\", \"2020-12-13T09:25:00\", \"2020-12-13T09:30:00\", \"2020-12-13T09:35:00\", \"2020-12-13T09:40:00\", \"2020-12-13T09:45:00\", \"2020-12-13T09:50:00\", \"2020-12-13T09:55:00\", \"2020-12-13T10:00:00\", \"2020-12-13T10:05:00\", \"2020-12-13T10:10:00\", \"2020-12-13T10:15:00\", \"2020-12-13T10:20:00\", \"2020-12-13T10:25:00\", \"2020-12-13T10:30:00\", \"2020-12-13T10:35:00\", \"2020-12-13T10:40:00\", \"2020-12-13T10:45:00\", \"2020-12-13T10:50:00\", \"2020-12-13T10:55:00\", \"2020-12-13T11:00:00\", \"2020-12-13T11:05:00\", \"2020-12-13T11:10:00\", \"2020-12-13T11:15:00\", \"2020-12-13T11:20:00\", \"2020-12-13T11:25:00\", \"2020-12-13T11:30:00\", \"2020-12-13T11:35:00\", \"2020-12-13T11:40:00\", \"2020-12-13T11:45:00\", \"2020-12-13T11:50:00\", \"2020-12-13T11:55:00\", \"2020-12-13T12:00:00\", \"2020-12-13T12:05:00\", \"2020-12-13T12:10:00\", \"2020-12-13T12:15:00\", \"2020-12-13T12:20:00\", \"2020-12-13T12:25:00\", \"2020-12-13T12:30:00\", \"2020-12-13T12:35:00\", \"2020-12-13T12:40:00\", \"2020-12-13T12:45:00\", \"2020-12-13T12:50:00\", \"2020-12-13T12:55:00\", \"2020-12-13T13:00:00\", \"2020-12-13T13:05:00\", \"2020-12-13T13:10:00\", \"2020-12-13T13:15:00\", \"2020-12-13T13:20:00\", \"2020-12-13T13:25:00\", \"2020-12-13T13:30:00\", \"2020-12-13T13:35:00\", \"2020-12-13T13:40:00\", \"2020-12-13T13:45:00\", \"2020-12-13T13:50:00\", \"2020-12-13T13:55:00\", \"2020-12-13T14:00:00\", \"2020-12-13T14:05:00\", \"2020-12-13T14:10:00\", \"2020-12-13T14:15:00\", \"2020-12-13T14:20:00\", \"2020-12-13T14:25:00\", \"2020-12-13T14:30:00\", \"2020-12-13T14:35:00\", \"2020-12-13T14:40:00\", \"2020-12-13T14:45:00\", \"2020-12-13T14:50:00\", \"2020-12-13T14:55:00\", \"2020-12-13T15:00:00\", \"2020-12-13T15:05:00\", \"2020-12-13T15:10:00\", \"2020-12-13T15:15:00\", \"2020-12-13T15:20:00\", \"2020-12-13T15:25:00\", \"2020-12-13T15:30:00\", \"2020-12-13T15:35:00\", \"2020-12-13T15:40:00\", \"2020-12-13T15:45:00\", \"2020-12-13T15:50:00\", \"2020-12-13T15:55:00\", \"2020-12-13T16:00:00\", \"2020-12-13T16:05:00\", \"2020-12-13T16:10:00\", \"2020-12-13T16:15:00\", \"2020-12-13T16:20:00\", \"2020-12-13T16:25:00\", \"2020-12-13T16:30:00\", \"2020-12-13T16:35:00\", \"2020-12-13T16:40:00\", \"2020-12-13T16:45:00\", \"2020-12-13T16:50:00\", \"2020-12-13T16:55:00\", \"2020-12-13T17:00:00\", \"2020-12-13T17:05:00\", \"2020-12-13T17:10:00\", \"2020-12-13T17:15:00\", \"2020-12-13T17:20:00\", \"2020-12-13T17:25:00\", \"2020-12-13T17:30:00\", \"2020-12-13T17:35:00\", \"2020-12-13T17:40:00\", \"2020-12-13T17:45:00\", \"2020-12-13T17:50:00\", \"2020-12-13T17:55:00\", \"2020-12-13T18:00:00\", \"2020-12-13T18:05:00\", \"2020-12-13T18:10:00\", \"2020-12-13T18:15:00\", \"2020-12-13T18:20:00\", \"2020-12-13T18:25:00\", \"2020-12-13T18:30:00\", \"2020-12-13T18:35:00\", \"2020-12-13T18:40:00\", \"2020-12-13T18:45:00\", \"2020-12-13T18:50:00\", \"2020-12-13T18:55:00\", \"2020-12-13T19:00:00\", \"2020-12-13T19:05:00\", \"2020-12-13T19:10:00\", \"2020-12-13T19:15:00\", \"2020-12-13T19:20:00\", \"2020-12-13T19:25:00\", \"2020-12-13T19:30:00\", \"2020-12-13T19:35:00\", \"2020-12-13T19:40:00\", \"2020-12-13T19:45:00\", \"2020-12-13T19:50:00\", \"2020-12-13T19:55:00\", \"2020-12-13T20:00:00\", \"2020-12-13T20:05:00\", \"2020-12-13T20:10:00\", \"2020-12-13T20:15:00\", \"2020-12-13T20:20:00\", \"2020-12-13T20:25:00\", \"2020-12-13T20:30:00\", \"2020-12-13T20:35:00\", \"2020-12-13T20:40:00\", \"2020-12-13T20:45:00\", \"2020-12-13T20:50:00\", \"2020-12-13T20:55:00\", \"2020-12-13T21:00:00\", \"2020-12-13T21:05:00\", \"2020-12-13T21:10:00\", \"2020-12-13T21:15:00\", \"2020-12-13T21:20:00\", \"2020-12-13T21:25:00\", \"2020-12-13T21:30:00\", \"2020-12-13T21:35:00\", \"2020-12-13T21:40:00\", \"2020-12-13T21:45:00\", \"2020-12-13T21:50:00\", \"2020-12-13T21:55:00\", \"2020-12-13T22:00:00\", \"2020-12-13T22:05:00\", \"2020-12-13T22:10:00\", \"2020-12-13T22:15:00\", \"2020-12-13T22:20:00\", \"2020-12-13T22:25:00\", \"2020-12-13T22:30:00\", \"2020-12-13T22:35:00\", \"2020-12-13T22:40:00\", \"2020-12-13T22:45:00\", \"2020-12-13T22:50:00\", \"2020-12-13T22:55:00\", \"2020-12-13T23:00:00\", \"2020-12-13T23:05:00\", \"2020-12-13T23:10:00\", \"2020-12-13T23:15:00\", \"2020-12-13T23:20:00\", \"2020-12-13T23:25:00\", \"2020-12-13T23:30:00\", \"2020-12-13T23:35:00\", \"2020-12-13T23:40:00\", \"2020-12-13T23:45:00\", \"2020-12-13T23:50:00\", \"2020-12-13T23:55:00\", \"2020-12-14T00:00:00\", \"2020-12-14T00:05:00\", \"2020-12-14T00:10:00\", \"2020-12-14T00:15:00\", \"2020-12-14T00:20:00\", \"2020-12-14T00:25:00\", \"2020-12-14T00:30:00\", \"2020-12-14T00:35:00\", \"2020-12-14T00:40:00\", \"2020-12-14T00:45:00\", \"2020-12-14T00:50:00\", \"2020-12-14T00:55:00\", \"2020-12-14T01:00:00\", \"2020-12-14T01:05:00\", \"2020-12-14T01:10:00\", \"2020-12-14T01:15:00\", \"2020-12-14T01:20:00\", \"2020-12-14T01:25:00\", \"2020-12-14T01:30:00\", \"2020-12-14T01:35:00\", \"2020-12-14T01:40:00\", \"2020-12-14T01:45:00\", \"2020-12-14T01:50:00\", \"2020-12-14T01:55:00\", \"2020-12-14T02:00:00\", \"2020-12-14T02:05:00\", \"2020-12-14T02:10:00\", \"2020-12-14T02:15:00\", \"2020-12-14T02:20:00\", \"2020-12-14T02:25:00\", \"2020-12-14T02:30:00\", \"2020-12-14T02:35:00\", \"2020-12-14T02:40:00\", \"2020-12-14T02:45:00\", \"2020-12-14T02:50:00\", \"2020-12-14T02:55:00\", \"2020-12-14T03:00:00\", \"2020-12-14T03:05:00\", \"2020-12-14T03:10:00\", \"2020-12-14T03:15:00\", \"2020-12-14T03:20:00\", \"2020-12-14T03:25:00\", \"2020-12-14T03:25:00\", \"2020-12-14T03:30:00\", \"2020-12-14T03:35:00\", \"2020-12-14T03:40:00\", \"2020-12-14T03:45:00\", \"2020-12-14T03:50:00\", \"2020-12-14T03:55:00\", \"2020-12-14T04:00:00\", \"2020-12-14T04:05:00\", \"2020-12-14T04:10:00\", \"2020-12-14T04:15:00\", \"2020-12-14T04:20:00\", \"2020-12-14T04:25:00\", \"2020-12-14T04:30:00\", \"2020-12-14T04:35:00\", \"2020-12-14T04:40:00\", \"2020-12-14T04:45:00\", \"2020-12-14T04:50:00\", \"2020-12-14T04:55:00\", \"2020-12-14T05:00:00\", \"2020-12-14T05:05:00\", \"2020-12-14T05:10:00\", \"2020-12-14T05:15:00\", \"2020-12-14T05:20:00\", \"2020-12-14T05:25:00\", \"2020-12-14T05:30:00\", \"2020-12-14T05:35:00\", \"2020-12-14T05:40:00\", \"2020-12-14T05:45:00\", \"2020-12-14T05:50:00\", \"2020-12-14T05:55:00\", \"2020-12-14T06:00:00\", \"2020-12-14T06:05:00\", \"2020-12-14T06:10:00\", \"2020-12-14T06:15:00\", \"2020-12-14T06:20:00\", \"2020-12-14T06:25:00\", \"2020-12-14T06:30:00\", \"2020-12-14T06:35:00\", \"2020-12-14T06:40:00\", \"2020-12-14T06:45:00\", \"2020-12-14T06:50:00\", \"2020-12-14T06:55:00\", \"2020-12-14T07:00:00\", \"2020-12-14T07:05:00\", \"2020-12-14T07:10:00\", \"2020-12-14T07:15:00\", \"2020-12-14T07:20:00\", \"2020-12-14T07:25:00\", \"2020-12-14T07:30:00\", \"2020-12-14T07:35:00\", \"2020-12-14T07:40:00\", \"2020-12-14T07:45:00\", \"2020-12-14T07:50:00\", \"2020-12-14T07:55:00\", \"2020-12-14T08:00:00\", \"2020-12-14T08:05:00\", \"2020-12-14T08:10:00\", \"2020-12-14T08:15:00\", \"2020-12-14T08:20:00\", \"2020-12-14T08:25:00\", \"2020-12-14T08:30:00\", \"2020-12-14T08:35:00\", \"2020-12-14T08:40:00\", \"2020-12-14T08:45:00\", \"2020-12-14T08:50:00\", \"2020-12-14T08:55:00\", \"2020-12-14T09:00:00\", \"2020-12-14T09:05:00\", \"2020-12-14T09:10:00\", \"2020-12-14T09:15:00\", \"2020-12-14T09:20:00\", \"2020-12-14T09:25:00\", \"2020-12-14T09:30:00\", \"2020-12-14T09:35:00\", \"2020-12-14T09:40:00\", \"2020-12-14T09:45:00\", \"2020-12-14T09:50:00\", \"2020-12-14T09:55:00\", \"2020-12-14T10:00:00\", \"2020-12-14T10:05:00\", \"2020-12-14T10:10:00\", \"2020-12-14T10:15:00\", \"2020-12-14T10:20:00\", \"2020-12-14T10:25:00\", \"2020-12-14T10:30:00\", \"2020-12-14T10:35:00\", \"2020-12-14T10:40:00\", \"2020-12-14T10:45:00\", \"2020-12-14T10:50:00\", \"2020-12-14T10:55:00\", \"2020-12-14T11:00:00\", \"2020-12-14T11:05:00\", \"2020-12-14T11:10:00\", \"2020-12-14T11:15:00\", \"2020-12-14T11:20:00\", \"2020-12-14T11:25:00\", \"2020-12-14T11:30:00\", \"2020-12-14T11:35:00\", \"2020-12-14T11:40:00\", \"2020-12-14T11:45:00\", \"2020-12-14T11:50:00\", \"2020-12-14T11:55:00\", \"2020-12-14T12:00:00\", \"2020-12-14T12:05:00\", \"2020-12-14T12:10:00\", \"2020-12-14T12:15:00\", \"2020-12-14T12:20:00\", \"2020-12-14T12:25:00\", \"2020-12-14T12:30:00\", \"2020-12-14T12:35:00\", \"2020-12-14T12:40:00\", \"2020-12-14T12:45:00\", \"2020-12-14T12:50:00\", \"2020-12-14T12:55:00\", \"2020-12-14T13:00:00\", \"2020-12-14T13:05:00\", \"2020-12-14T13:10:00\", \"2020-12-14T13:15:00\", \"2020-12-14T13:20:00\", \"2020-12-14T13:25:00\", \"2020-12-14T13:30:00\", \"2020-12-14T13:35:00\", \"2020-12-14T13:40:00\", \"2020-12-14T13:45:00\", \"2020-12-14T13:50:00\", \"2020-12-14T13:55:00\", \"2020-12-14T14:00:00\", \"2020-12-14T14:05:00\", \"2020-12-14T14:10:00\", \"2020-12-14T14:15:00\", \"2020-12-14T14:20:00\", \"2020-12-14T14:25:00\", \"2020-12-14T14:30:00\", \"2020-12-14T14:35:00\", \"2020-12-14T14:40:00\", \"2020-12-14T14:45:00\", \"2020-12-14T14:50:00\", \"2020-12-14T14:55:00\", \"2020-12-14T15:00:00\", \"2020-12-14T15:05:00\", \"2020-12-14T15:10:00\", \"2020-12-14T15:15:00\", \"2020-12-14T15:20:00\", \"2020-12-14T15:25:00\", \"2020-12-14T15:30:00\", \"2020-12-14T15:35:00\", \"2020-12-14T15:40:00\", \"2020-12-14T15:45:00\", \"2020-12-14T15:50:00\", \"2020-12-14T15:55:00\", \"2020-12-14T16:00:00\", \"2020-12-14T16:05:00\", \"2020-12-14T16:10:00\", \"2020-12-14T16:15:00\", \"2020-12-14T16:20:00\", \"2020-12-14T16:25:00\", \"2020-12-14T16:30:00\", \"2020-12-14T16:35:00\", \"2020-12-14T16:40:00\", \"2020-12-14T16:45:00\", \"2020-12-14T16:50:00\", \"2020-12-14T16:55:00\", \"2020-12-14T17:00:00\", \"2020-12-14T17:05:00\", \"2020-12-14T17:10:00\", \"2020-12-14T17:15:00\", \"2020-12-14T17:20:00\", \"2020-12-14T17:25:00\", \"2020-12-14T17:30:00\", \"2020-12-14T17:35:00\", \"2020-12-14T17:40:00\", \"2020-12-14T17:45:00\", \"2020-12-14T17:50:00\", \"2020-12-14T17:55:00\", \"2020-12-14T18:00:00\", \"2020-12-14T18:05:00\", \"2020-12-14T18:10:00\", \"2020-12-14T18:15:00\", \"2020-12-14T18:20:00\", \"2020-12-14T18:25:00\", \"2020-12-14T18:30:00\", \"2020-12-14T18:35:00\", \"2020-12-14T18:40:00\", \"2020-12-14T18:45:00\", \"2020-12-14T18:50:00\", \"2020-12-14T18:55:00\", \"2020-12-14T19:00:00\", \"2020-12-14T19:05:00\", \"2020-12-14T19:10:00\", \"2020-12-14T19:15:00\", \"2020-12-14T19:20:00\", \"2020-12-14T19:25:00\", \"2020-12-14T19:30:00\", \"2020-12-14T19:35:00\", \"2020-12-14T19:40:00\", \"2020-12-14T19:45:00\", \"2020-12-14T19:50:00\", \"2020-12-14T19:55:00\", \"2020-12-14T20:00:00\", \"2020-12-14T20:05:00\", \"2020-12-14T20:10:00\", \"2020-12-14T20:15:00\", \"2020-12-14T20:20:00\", \"2020-12-14T20:25:00\", \"2020-12-14T20:30:00\", \"2020-12-14T20:35:00\", \"2020-12-14T20:40:00\", \"2020-12-14T20:45:00\", \"2020-12-14T20:50:00\", \"2020-12-14T20:55:00\", \"2020-12-14T21:00:00\", \"2020-12-14T21:05:00\", \"2020-12-14T21:10:00\", \"2020-12-14T21:15:00\", \"2020-12-14T21:20:00\", \"2020-12-14T21:25:00\", \"2020-12-14T21:30:00\", \"2020-12-14T21:35:00\", \"2020-12-14T21:40:00\", \"2020-12-14T21:45:00\", \"2020-12-14T21:50:00\", \"2020-12-14T21:55:00\", \"2020-12-14T22:00:00\", \"2020-12-14T22:05:00\", \"2020-12-14T22:10:00\", \"2020-12-14T22:15:00\", \"2020-12-14T22:20:00\", \"2020-12-14T22:25:00\", \"2020-12-14T22:30:00\", \"2020-12-14T22:35:00\", \"2020-12-14T22:40:00\", \"2020-12-14T22:45:00\", \"2020-12-14T22:50:00\", \"2020-12-14T22:55:00\", \"2020-12-14T23:00:00\", \"2020-12-14T23:05:00\", \"2020-12-14T23:10:00\", \"2020-12-14T23:15:00\", \"2020-12-14T23:20:00\", \"2020-12-14T23:25:00\", \"2020-12-14T23:30:00\", \"2020-12-14T23:35:00\", \"2020-12-14T23:40:00\", \"2020-12-14T23:45:00\", \"2020-12-14T23:50:00\", \"2020-12-14T23:55:00\", \"2020-12-15T00:00:00\", \"2020-12-15T00:05:00\", \"2020-12-15T00:10:00\", \"2020-12-15T00:15:00\", \"2020-12-15T00:20:00\", \"2020-12-15T00:25:00\", \"2020-12-15T00:30:00\", \"2020-12-15T00:35:00\", \"2020-12-15T00:40:00\", \"2020-12-15T00:45:00\", \"2020-12-15T00:50:00\", \"2020-12-15T00:55:00\", \"2020-12-15T01:00:00\", \"2020-12-15T01:05:00\", \"2020-12-15T01:10:00\", \"2020-12-15T01:15:00\", \"2020-12-15T01:20:00\", \"2020-12-15T01:25:00\", \"2020-12-15T01:30:00\", \"2020-12-15T01:35:00\", \"2020-12-15T01:40:00\", \"2020-12-15T01:45:00\", \"2020-12-15T01:50:00\", \"2020-12-15T01:55:00\", \"2020-12-15T02:00:00\", \"2020-12-15T02:05:00\", \"2020-12-15T02:10:00\", \"2020-12-15T02:15:00\", \"2020-12-15T02:20:00\", \"2020-12-15T02:25:00\", \"2020-12-15T02:30:00\", \"2020-12-15T02:35:00\", \"2020-12-15T02:40:00\", \"2020-12-15T02:45:00\", \"2020-12-15T02:50:00\", \"2020-12-15T02:55:00\", \"2020-12-15T03:00:00\", \"2020-12-15T03:05:00\", \"2020-12-15T03:10:00\", \"2020-12-15T03:15:00\", \"2020-12-15T03:20:00\", \"2020-12-15T03:25:00\", \"2020-12-15T03:30:00\", \"2020-12-15T03:35:00\", \"2020-12-15T03:40:00\", \"2020-12-15T03:45:00\", \"2020-12-15T03:50:00\", \"2020-12-15T03:55:00\", \"2020-12-15T04:00:00\", \"2020-12-15T04:05:00\", \"2020-12-15T04:10:00\", \"2020-12-15T04:15:00\", \"2020-12-15T04:20:00\", \"2020-12-15T04:25:00\", \"2020-12-15T04:30:00\", \"2020-12-15T04:35:00\", \"2020-12-15T04:40:00\", \"2020-12-15T04:45:00\", \"2020-12-15T04:50:00\", \"2020-12-15T04:55:00\", \"2020-12-15T05:00:00\", \"2020-12-15T05:05:00\", \"2020-12-15T05:10:00\", \"2020-12-15T05:15:00\", \"2020-12-15T05:20:00\", \"2020-12-15T05:25:00\", \"2020-12-15T05:30:00\", \"2020-12-15T05:35:00\", \"2020-12-15T05:40:00\", \"2020-12-15T05:45:00\", \"2020-12-15T05:50:00\", \"2020-12-15T05:55:00\", \"2020-12-15T06:00:00\", \"2020-12-15T06:05:00\", \"2020-12-15T06:10:00\", \"2020-12-15T06:15:00\", \"2020-12-15T06:20:00\", \"2020-12-15T06:25:00\", \"2020-12-15T06:30:00\", \"2020-12-15T06:35:00\", \"2020-12-15T06:40:00\", \"2020-12-15T06:45:00\", \"2020-12-15T06:50:00\", \"2020-12-15T06:55:00\", \"2020-12-15T07:00:00\", \"2020-12-15T07:05:00\", \"2020-12-15T07:10:00\", \"2020-12-15T07:15:00\", \"2020-12-15T07:20:00\", \"2020-12-15T07:25:00\", \"2020-12-15T07:30:00\", \"2020-12-15T07:35:00\", \"2020-12-15T07:40:00\", \"2020-12-15T07:45:00\", \"2020-12-15T07:50:00\", \"2020-12-15T07:55:00\", \"2020-12-15T08:00:00\", \"2020-12-15T08:05:00\", \"2020-12-15T08:10:00\", \"2020-12-15T08:15:00\", \"2020-12-15T08:20:00\", \"2020-12-15T08:25:00\", \"2020-12-15T08:30:00\", \"2020-12-15T08:35:00\", \"2020-12-15T08:40:00\", \"2020-12-15T08:45:00\", \"2020-12-15T08:50:00\", \"2020-12-15T08:55:00\", \"2020-12-15T09:00:00\", \"2020-12-15T09:05:00\", \"2020-12-15T09:10:00\", \"2020-12-15T09:15:00\", \"2020-12-15T09:20:00\", \"2020-12-15T09:25:00\", \"2020-12-15T09:30:00\", \"2020-12-15T09:35:00\", \"2020-12-15T09:40:00\", \"2020-12-15T09:45:00\", \"2020-12-15T09:50:00\", \"2020-12-15T09:55:00\", \"2020-12-15T10:00:00\", \"2020-12-15T10:05:00\", \"2020-12-15T10:10:00\", \"2020-12-15T10:15:00\", \"2020-12-15T10:20:00\", \"2020-12-15T10:25:00\", \"2020-12-15T10:30:00\", \"2020-12-15T10:35:00\", \"2020-12-15T10:40:00\", \"2020-12-15T10:45:00\", \"2020-12-15T10:50:00\", \"2020-12-15T10:55:00\", \"2020-12-15T11:00:00\", \"2020-12-15T11:05:00\", \"2020-12-15T11:10:00\", \"2020-12-15T11:15:00\", \"2020-12-15T11:20:00\", \"2020-12-15T11:25:00\", \"2020-12-15T11:30:00\", \"2020-12-15T11:35:00\", \"2020-12-15T11:40:00\", \"2020-12-15T11:45:00\", \"2020-12-15T11:50:00\", \"2020-12-15T11:55:00\", \"2020-12-15T12:00:00\", \"2020-12-15T12:05:00\", \"2020-12-15T12:10:00\", \"2020-12-15T12:15:00\", \"2020-12-15T12:20:00\", \"2020-12-15T12:25:00\", \"2020-12-15T12:30:00\", \"2020-12-15T12:35:00\", \"2020-12-15T12:40:00\", \"2020-12-15T12:45:00\", \"2020-12-15T12:45:00\", \"2020-12-15T12:50:00\", \"2020-12-15T12:55:00\", \"2020-12-15T13:00:00\", \"2020-12-15T13:05:00\", \"2020-12-15T13:10:00\", \"2020-12-15T13:15:00\", \"2020-12-15T13:20:00\", \"2020-12-15T13:25:00\", \"2020-12-15T13:30:00\", \"2020-12-15T13:35:00\", \"2020-12-15T13:40:00\", \"2020-12-15T13:45:00\", \"2020-12-15T13:50:00\", \"2020-12-15T13:55:00\", \"2020-12-15T14:00:00\", \"2020-12-15T14:05:00\", \"2020-12-15T14:10:00\", \"2020-12-15T14:15:00\", \"2020-12-15T14:20:00\", \"2020-12-15T14:25:00\", \"2020-12-15T14:30:00\", \"2020-12-15T14:35:00\", \"2020-12-15T14:40:00\", \"2020-12-15T14:45:00\", \"2020-12-15T14:50:00\", \"2020-12-15T14:55:00\", \"2020-12-15T15:00:00\", \"2020-12-15T15:05:00\", \"2020-12-15T15:10:00\", \"2020-12-15T15:15:00\", \"2020-12-15T15:20:00\", \"2020-12-15T15:25:00\", \"2020-12-15T15:30:00\", \"2020-12-15T15:35:00\", \"2020-12-15T15:40:00\", \"2020-12-15T15:45:00\", \"2020-12-15T15:50:00\", \"2020-12-15T15:55:00\", \"2020-12-15T16:00:00\", \"2020-12-15T16:05:00\", \"2020-12-15T16:10:00\", \"2020-12-15T16:15:00\", \"2020-12-15T16:20:00\", \"2020-12-15T16:25:00\", \"2020-12-15T16:30:00\", \"2020-12-15T16:35:00\", \"2020-12-15T16:40:00\", \"2020-12-15T16:45:00\", \"2020-12-15T16:50:00\", \"2020-12-15T16:55:00\", \"2020-12-15T17:00:00\", \"2020-12-15T17:05:00\", \"2020-12-15T17:10:00\", \"2020-12-15T17:15:00\", \"2020-12-15T17:20:00\", \"2020-12-15T17:25:00\", \"2020-12-15T17:30:00\", \"2020-12-15T17:35:00\", \"2020-12-15T17:40:00\", \"2020-12-15T17:45:00\", \"2020-12-15T17:50:00\", \"2020-12-15T17:55:00\", \"2020-12-15T18:00:00\", \"2020-12-15T18:05:00\", \"2020-12-15T18:10:00\", \"2020-12-15T18:15:00\", \"2020-12-15T18:20:00\", \"2020-12-15T18:25:00\", \"2020-12-15T18:30:00\", \"2020-12-15T18:35:00\", \"2020-12-15T18:40:00\", \"2020-12-15T18:45:00\", \"2020-12-15T18:50:00\", \"2020-12-15T18:55:00\", \"2020-12-15T19:00:00\", \"2020-12-15T19:05:00\", \"2020-12-15T19:10:00\", \"2020-12-15T19:15:00\", \"2020-12-15T19:20:00\", \"2020-12-15T19:25:00\", \"2020-12-15T19:30:00\", \"2020-12-15T19:35:00\", \"2020-12-15T19:40:00\", \"2020-12-15T19:45:00\", \"2020-12-15T19:50:00\", \"2020-12-15T19:55:00\", \"2020-12-15T20:00:00\", \"2020-12-15T20:05:00\", \"2020-12-15T20:10:00\", \"2020-12-15T20:15:00\", \"2020-12-15T20:20:00\", \"2020-12-15T20:25:00\", \"2020-12-15T20:30:00\", \"2020-12-15T20:35:00\", \"2020-12-15T20:40:00\", \"2020-12-15T20:45:00\", \"2020-12-15T20:50:00\", \"2020-12-15T20:55:00\", \"2020-12-15T21:00:00\", \"2020-12-15T21:05:00\", \"2020-12-15T21:10:00\", \"2020-12-15T21:15:00\", \"2020-12-15T21:20:00\", \"2020-12-15T21:25:00\", \"2020-12-15T21:30:00\", \"2020-12-15T21:35:00\", \"2020-12-15T21:40:00\", \"2020-12-15T21:45:00\", \"2020-12-15T21:50:00\", \"2020-12-15T21:55:00\", \"2020-12-15T22:00:00\", \"2020-12-15T22:05:00\", \"2020-12-15T22:10:00\", \"2020-12-15T22:15:00\", \"2020-12-15T22:20:00\", \"2020-12-15T22:25:00\", \"2020-12-15T22:30:00\", \"2020-12-15T22:35:00\", \"2020-12-15T22:40:00\", \"2020-12-15T22:45:00\", \"2020-12-15T22:50:00\", \"2020-12-15T22:55:00\", \"2020-12-15T23:00:00\", \"2020-12-15T23:05:00\", \"2020-12-15T23:10:00\", \"2020-12-15T23:15:00\", \"2020-12-15T23:20:00\", \"2020-12-15T23:25:00\", \"2020-12-15T23:30:00\", \"2020-12-15T23:35:00\", \"2020-12-15T23:40:00\", \"2020-12-15T23:45:00\", \"2020-12-15T23:50:00\", \"2020-12-15T23:55:00\", \"2020-12-16T00:00:00\", \"2020-12-16T00:05:00\", \"2020-12-16T00:10:00\", \"2020-12-16T00:15:00\", \"2020-12-16T00:20:00\", \"2020-12-16T00:25:00\", \"2020-12-16T00:30:00\", \"2020-12-16T00:35:00\", \"2020-12-16T00:40:00\", \"2020-12-16T00:45:00\", \"2020-12-16T00:50:00\", \"2020-12-16T00:55:00\", \"2020-12-16T01:00:00\", \"2020-12-16T01:05:00\", \"2020-12-16T01:10:00\", \"2020-12-16T01:15:00\", \"2020-12-16T01:20:00\", \"2020-12-16T01:25:00\", \"2020-12-16T01:30:00\", \"2020-12-16T01:35:00\", \"2020-12-16T01:40:00\", \"2020-12-16T01:45:00\", \"2020-12-16T01:50:00\", \"2020-12-16T01:55:00\", \"2020-12-16T02:00:00\", \"2020-12-16T02:05:00\", \"2020-12-16T02:10:00\", \"2020-12-16T02:15:00\", \"2020-12-16T02:20:00\", \"2020-12-16T02:25:00\", \"2020-12-16T02:30:00\", \"2020-12-16T02:35:00\", \"2020-12-16T02:40:00\", \"2020-12-16T02:45:00\", \"2020-12-16T02:50:00\", \"2020-12-16T02:55:00\", \"2020-12-16T03:00:00\", \"2020-12-16T03:05:00\", \"2020-12-16T03:10:00\", \"2020-12-16T03:15:00\", \"2020-12-16T03:20:00\", \"2020-12-16T03:25:00\", \"2020-12-16T03:30:00\", \"2020-12-16T03:35:00\", \"2020-12-16T03:40:00\", \"2020-12-16T03:45:00\", \"2020-12-16T03:50:00\", \"2020-12-16T03:55:00\", \"2020-12-16T04:00:00\", \"2020-12-16T04:05:00\", \"2020-12-16T04:10:00\", \"2020-12-16T04:15:00\", \"2020-12-16T04:20:00\", \"2020-12-16T04:25:00\", \"2020-12-16T04:30:00\", \"2020-12-16T04:35:00\", \"2020-12-16T04:40:00\", \"2020-12-16T04:45:00\", \"2020-12-16T04:50:00\", \"2020-12-16T04:55:00\", \"2020-12-16T05:00:00\", \"2020-12-16T05:05:00\", \"2020-12-16T05:10:00\", \"2020-12-16T05:15:00\", \"2020-12-16T05:20:00\", \"2020-12-16T05:25:00\", \"2020-12-16T05:30:00\", \"2020-12-16T05:35:00\", \"2020-12-16T05:40:00\", \"2020-12-16T05:45:00\", \"2020-12-16T05:50:00\", \"2020-12-16T05:55:00\", \"2020-12-16T06:00:00\", \"2020-12-16T06:05:00\", \"2020-12-16T06:10:00\", \"2020-12-16T06:15:00\", \"2020-12-16T06:20:00\", \"2020-12-16T06:25:00\", \"2020-12-16T06:30:00\", \"2020-12-16T06:35:00\", \"2020-12-16T06:40:00\", \"2020-12-16T06:45:00\", \"2020-12-16T06:50:00\", \"2020-12-16T06:55:00\", \"2020-12-16T07:00:00\", \"2020-12-16T07:05:00\", \"2020-12-16T07:10:00\", \"2020-12-16T07:15:00\", \"2020-12-16T07:20:00\", \"2020-12-16T07:25:00\", \"2020-12-16T07:30:00\", \"2020-12-16T07:35:00\", \"2020-12-16T07:40:00\", \"2020-12-16T07:45:00\", \"2020-12-16T07:50:00\", \"2020-12-16T07:55:00\", \"2020-12-16T08:00:00\", \"2020-12-16T08:05:00\", \"2020-12-16T08:10:00\", \"2020-12-16T08:15:00\", \"2020-12-16T08:20:00\", \"2020-12-16T08:25:00\", \"2020-12-16T08:30:00\", \"2020-12-16T08:35:00\", \"2020-12-16T08:40:00\", \"2020-12-16T08:45:00\", \"2020-12-16T08:50:00\", \"2020-12-16T08:55:00\", \"2020-12-16T09:00:00\", \"2020-12-16T09:05:00\", \"2020-12-16T09:10:00\", \"2020-12-16T09:15:00\", \"2020-12-16T09:20:00\", \"2020-12-16T09:25:00\", \"2020-12-16T09:30:00\", \"2020-12-16T09:35:00\", \"2020-12-16T09:40:00\", \"2020-12-16T09:45:00\", \"2020-12-16T09:50:00\", \"2020-12-16T09:55:00\", \"2020-12-16T10:00:00\", \"2020-12-16T10:05:00\", \"2020-12-16T10:10:00\", \"2020-12-16T10:15:00\", \"2020-12-16T10:20:00\", \"2020-12-16T10:25:00\", \"2020-12-16T10:30:00\", \"2020-12-16T10:35:00\", \"2020-12-16T10:40:00\", \"2020-12-16T10:45:00\", \"2020-12-16T10:50:00\", \"2020-12-16T10:55:00\", \"2020-12-16T11:00:00\", \"2020-12-16T11:05:00\", \"2020-12-16T11:10:00\", \"2020-12-16T11:15:00\", \"2020-12-16T11:20:00\", \"2020-12-16T11:25:00\", \"2020-12-16T11:30:00\", \"2020-12-16T11:35:00\", \"2020-12-16T11:40:00\", \"2020-12-16T11:45:00\", \"2020-12-16T11:50:00\", \"2020-12-16T11:55:00\", \"2020-12-16T12:00:00\", \"2020-12-16T12:05:00\", \"2020-12-16T12:10:00\", \"2020-12-16T12:15:00\", \"2020-12-16T12:20:00\", \"2020-12-16T12:25:00\", \"2020-12-16T12:30:00\", \"2020-12-16T12:35:00\", \"2020-12-16T12:40:00\", \"2020-12-16T12:45:00\", \"2020-12-16T12:50:00\", \"2020-12-16T12:55:00\", \"2020-12-16T13:00:00\", \"2020-12-16T13:05:00\", \"2020-12-16T13:10:00\", \"2020-12-16T13:15:00\", \"2020-12-16T13:20:00\", \"2020-12-16T13:25:00\", \"2020-12-16T13:30:00\", \"2020-12-16T13:35:00\", \"2020-12-16T13:40:00\", \"2020-12-16T13:45:00\", \"2020-12-16T13:50:00\", \"2020-12-16T13:55:00\", \"2020-12-16T14:00:00\", \"2020-12-16T14:05:00\", \"2020-12-16T14:10:00\", \"2020-12-16T14:15:00\", \"2020-12-16T14:20:00\", \"2020-12-16T14:25:00\", \"2020-12-16T14:30:00\", \"2020-12-16T14:35:00\", \"2020-12-16T14:40:00\", \"2020-12-16T14:45:00\", \"2020-12-16T14:50:00\", \"2020-12-16T14:55:00\", \"2020-12-16T15:00:00\", \"2020-12-16T15:05:00\", \"2020-12-16T15:10:00\", \"2020-12-16T15:15:00\", \"2020-12-16T15:20:00\", \"2020-12-16T15:25:00\", \"2020-12-16T15:30:00\", \"2020-12-16T15:35:00\", \"2020-12-16T15:40:00\", \"2020-12-16T15:45:00\", \"2020-12-16T15:50:00\", \"2020-12-16T15:55:00\", \"2020-12-16T16:00:00\", \"2020-12-16T16:05:00\", \"2020-12-16T16:10:00\", \"2020-12-16T16:15:00\", \"2020-12-16T16:20:00\", \"2020-12-16T16:25:00\", \"2020-12-16T16:30:00\", \"2020-12-16T16:35:00\", \"2020-12-16T16:40:00\", \"2020-12-16T16:45:00\", \"2020-12-16T16:50:00\", \"2020-12-16T16:55:00\", \"2020-12-16T17:00:00\", \"2020-12-16T17:05:00\", \"2020-12-16T17:10:00\", \"2020-12-16T17:15:00\", \"2020-12-16T17:20:00\", \"2020-12-16T17:25:00\", \"2020-12-16T17:30:00\", \"2020-12-16T17:35:00\", \"2020-12-16T17:40:00\", \"2020-12-16T17:45:00\", \"2020-12-16T17:50:00\", \"2020-12-16T17:55:00\", \"2020-12-16T18:00:00\", \"2020-12-16T18:05:00\", \"2020-12-16T18:10:00\", \"2020-12-16T18:15:00\", \"2020-12-16T18:20:00\", \"2020-12-16T18:25:00\", \"2020-12-16T18:30:00\", \"2020-12-16T18:35:00\", \"2020-12-16T18:40:00\", \"2020-12-16T18:45:00\", \"2020-12-16T18:50:00\", \"2020-12-16T18:55:00\", \"2020-12-16T19:00:00\", \"2020-12-16T19:05:00\", \"2020-12-16T19:10:00\", \"2020-12-16T19:15:00\", \"2020-12-16T19:20:00\", \"2020-12-16T19:25:00\", \"2020-12-16T19:30:00\", \"2020-12-16T19:35:00\", \"2020-12-16T19:40:00\", \"2020-12-16T19:45:00\", \"2020-12-16T19:50:00\", \"2020-12-16T19:55:00\", \"2020-12-16T20:00:00\", \"2020-12-16T20:05:00\", \"2020-12-16T20:10:00\", \"2020-12-16T20:15:00\", \"2020-12-16T20:20:00\", \"2020-12-16T20:25:00\", \"2020-12-16T20:30:00\", \"2020-12-16T20:35:00\", \"2020-12-16T20:40:00\", \"2020-12-16T20:45:00\", \"2020-12-16T20:50:00\", \"2020-12-16T20:55:00\", \"2020-12-16T21:00:00\", \"2020-12-16T21:05:00\", \"2020-12-16T21:10:00\", \"2020-12-16T21:15:00\", \"2020-12-16T21:20:00\", \"2020-12-16T21:25:00\", \"2020-12-16T21:30:00\", \"2020-12-16T21:35:00\", \"2020-12-16T21:40:00\", \"2020-12-16T21:45:00\", \"2020-12-16T21:50:00\", \"2020-12-16T21:55:00\", \"2020-12-16T22:00:00\", \"2020-12-16T22:05:00\", \"2020-12-16T22:05:00\", \"2020-12-16T22:10:00\", \"2020-12-16T22:15:00\", \"2020-12-16T22:20:00\", \"2020-12-16T22:25:00\", \"2020-12-16T22:30:00\", \"2020-12-16T22:35:00\", \"2020-12-16T22:40:00\", \"2020-12-16T22:45:00\", \"2020-12-16T22:50:00\", \"2020-12-16T22:55:00\", \"2020-12-16T23:00:00\", \"2020-12-16T23:05:00\", \"2020-12-16T23:10:00\", \"2020-12-16T23:15:00\", \"2020-12-16T23:20:00\", \"2020-12-16T23:25:00\", \"2020-12-16T23:30:00\", \"2020-12-16T23:35:00\", \"2020-12-16T23:40:00\", \"2020-12-16T23:45:00\", \"2020-12-16T23:50:00\", \"2020-12-16T23:55:00\", \"2020-12-17T00:00:00\", \"2020-12-17T00:05:00\", \"2020-12-17T00:10:00\", \"2020-12-17T00:15:00\", \"2020-12-17T00:20:00\", \"2020-12-17T00:25:00\", \"2020-12-17T00:30:00\", \"2020-12-17T00:35:00\", \"2020-12-17T00:40:00\", \"2020-12-17T00:45:00\", \"2020-12-17T00:50:00\", \"2020-12-17T00:55:00\", \"2020-12-17T01:00:00\", \"2020-12-17T01:05:00\", \"2020-12-17T01:10:00\", \"2020-12-17T01:15:00\", \"2020-12-17T01:20:00\", \"2020-12-17T01:25:00\", \"2020-12-17T01:30:00\", \"2020-12-17T01:35:00\", \"2020-12-17T01:40:00\", \"2020-12-17T01:45:00\", \"2020-12-17T01:50:00\", \"2020-12-17T01:55:00\", \"2020-12-17T02:00:00\", \"2020-12-17T02:05:00\", \"2020-12-17T02:10:00\", \"2020-12-17T02:15:00\", \"2020-12-17T02:20:00\", \"2020-12-17T02:25:00\", \"2020-12-17T02:30:00\", \"2020-12-17T02:35:00\", \"2020-12-17T02:40:00\", \"2020-12-17T02:45:00\", \"2020-12-17T02:50:00\", \"2020-12-17T02:55:00\", \"2020-12-17T03:00:00\", \"2020-12-17T03:05:00\", \"2020-12-17T03:10:00\", \"2020-12-17T03:15:00\", \"2020-12-17T03:20:00\", \"2020-12-17T03:25:00\", \"2020-12-17T03:30:00\", \"2020-12-17T03:35:00\", \"2020-12-17T03:40:00\", \"2020-12-17T03:45:00\", \"2020-12-17T03:50:00\", \"2020-12-17T03:55:00\", \"2020-12-17T04:00:00\", \"2020-12-17T04:05:00\", \"2020-12-17T04:10:00\", \"2020-12-17T04:15:00\", \"2020-12-17T04:20:00\", \"2020-12-17T04:25:00\", \"2020-12-17T04:30:00\", \"2020-12-17T04:35:00\", \"2020-12-17T04:40:00\", \"2020-12-17T04:45:00\", \"2020-12-17T04:50:00\", \"2020-12-17T04:55:00\", \"2020-12-17T05:00:00\", \"2020-12-17T05:05:00\", \"2020-12-17T05:10:00\", \"2020-12-17T05:15:00\", \"2020-12-17T05:20:00\", \"2020-12-17T05:25:00\", \"2020-12-17T05:30:00\", \"2020-12-17T05:35:00\", \"2020-12-17T05:40:00\", \"2020-12-17T05:45:00\", \"2020-12-17T05:50:00\", \"2020-12-17T05:55:00\", \"2020-12-17T06:00:00\", \"2020-12-17T06:05:00\", \"2020-12-17T06:10:00\", \"2020-12-17T06:15:00\", \"2020-12-17T06:20:00\", \"2020-12-17T06:25:00\", \"2020-12-17T06:30:00\", \"2020-12-17T06:35:00\", \"2020-12-17T06:40:00\", \"2020-12-17T06:45:00\", \"2020-12-17T06:50:00\", \"2020-12-17T06:55:00\", \"2020-12-17T07:00:00\", \"2020-12-17T07:05:00\", \"2020-12-17T07:10:00\", \"2020-12-17T07:15:00\", \"2020-12-17T07:20:00\", \"2020-12-17T07:25:00\", \"2020-12-17T07:30:00\", \"2020-12-17T07:35:00\", \"2020-12-17T07:40:00\", \"2020-12-17T07:45:00\", \"2020-12-17T07:50:00\", \"2020-12-17T07:55:00\", \"2020-12-17T08:00:00\", \"2020-12-17T08:05:00\", \"2020-12-17T08:10:00\", \"2020-12-17T08:15:00\", \"2020-12-17T08:20:00\", \"2020-12-17T08:25:00\", \"2020-12-17T08:30:00\", \"2020-12-17T08:35:00\", \"2020-12-17T08:40:00\", \"2020-12-17T08:45:00\", \"2020-12-17T08:50:00\", \"2020-12-17T08:55:00\", \"2020-12-17T09:00:00\", \"2020-12-17T09:05:00\", \"2020-12-17T09:10:00\", \"2020-12-17T09:15:00\", \"2020-12-17T09:20:00\", \"2020-12-17T09:25:00\", \"2020-12-17T09:30:00\", \"2020-12-17T09:35:00\", \"2020-12-17T09:40:00\", \"2020-12-17T09:45:00\", \"2020-12-17T09:50:00\", \"2020-12-17T09:55:00\", \"2020-12-17T10:00:00\", \"2020-12-17T10:05:00\", \"2020-12-17T10:10:00\", \"2020-12-17T10:15:00\", \"2020-12-17T10:20:00\", \"2020-12-17T10:25:00\", \"2020-12-17T10:30:00\", \"2020-12-17T10:35:00\", \"2020-12-17T10:40:00\", \"2020-12-17T10:45:00\", \"2020-12-17T10:50:00\", \"2020-12-17T10:55:00\", \"2020-12-17T11:00:00\", \"2020-12-17T11:05:00\", \"2020-12-17T11:10:00\", \"2020-12-17T11:15:00\", \"2020-12-17T11:20:00\", \"2020-12-17T11:25:00\", \"2020-12-17T11:30:00\", \"2020-12-17T11:35:00\", \"2020-12-17T11:40:00\", \"2020-12-17T11:45:00\", \"2020-12-17T11:50:00\", \"2020-12-17T11:55:00\", \"2020-12-17T12:00:00\", \"2020-12-17T12:05:00\", \"2020-12-17T12:10:00\", \"2020-12-17T12:15:00\", \"2020-12-17T12:20:00\", \"2020-12-17T12:25:00\", \"2020-12-17T12:30:00\", \"2020-12-17T12:35:00\", \"2020-12-17T12:40:00\", \"2020-12-17T12:45:00\", \"2020-12-17T12:50:00\", \"2020-12-17T12:55:00\", \"2020-12-17T13:00:00\", \"2020-12-17T13:05:00\", \"2020-12-17T13:10:00\", \"2020-12-17T13:15:00\", \"2020-12-17T13:20:00\", \"2020-12-17T13:25:00\", \"2020-12-17T13:30:00\", \"2020-12-17T13:35:00\", \"2020-12-17T13:40:00\", \"2020-12-17T13:45:00\", \"2020-12-17T13:50:00\", \"2020-12-17T13:55:00\", \"2020-12-17T14:00:00\", \"2020-12-17T14:05:00\", \"2020-12-17T14:10:00\", \"2020-12-17T14:15:00\", \"2020-12-17T14:20:00\", \"2020-12-17T14:25:00\", \"2020-12-17T14:30:00\", \"2020-12-17T14:35:00\", \"2020-12-17T14:40:00\", \"2020-12-17T14:45:00\", \"2020-12-17T14:50:00\", \"2020-12-17T14:55:00\", \"2020-12-17T15:00:00\", \"2020-12-17T15:05:00\", \"2020-12-17T15:10:00\", \"2020-12-17T15:15:00\", \"2020-12-17T15:20:00\", \"2020-12-17T15:25:00\", \"2020-12-17T15:30:00\", \"2020-12-17T15:35:00\", \"2020-12-17T15:40:00\", \"2020-12-17T15:45:00\", \"2020-12-17T15:50:00\", \"2020-12-17T15:55:00\", \"2020-12-17T16:00:00\", \"2020-12-17T16:05:00\", \"2020-12-17T16:10:00\", \"2020-12-17T16:15:00\", \"2020-12-17T16:20:00\", \"2020-12-17T16:25:00\", \"2020-12-17T16:30:00\", \"2020-12-17T16:35:00\", \"2020-12-17T16:40:00\", \"2020-12-17T16:45:00\", \"2020-12-17T16:50:00\", \"2020-12-17T16:55:00\", \"2020-12-17T17:00:00\", \"2020-12-17T17:05:00\", \"2020-12-17T17:10:00\", \"2020-12-17T17:15:00\", \"2020-12-17T17:20:00\", \"2020-12-17T17:25:00\", \"2020-12-17T17:30:00\", \"2020-12-17T17:35:00\", \"2020-12-17T17:40:00\", \"2020-12-17T17:45:00\", \"2020-12-17T17:50:00\", \"2020-12-17T17:55:00\", \"2020-12-17T18:00:00\", \"2020-12-17T18:05:00\", \"2020-12-17T18:10:00\", \"2020-12-17T18:15:00\", \"2020-12-17T18:20:00\", \"2020-12-17T18:25:00\", \"2020-12-17T18:30:00\", \"2020-12-17T18:35:00\", \"2020-12-17T18:40:00\", \"2020-12-17T18:45:00\", \"2020-12-17T18:50:00\", \"2020-12-17T18:55:00\", \"2020-12-17T19:00:00\", \"2020-12-17T19:05:00\", \"2020-12-17T19:10:00\", \"2020-12-17T19:15:00\", \"2020-12-17T19:20:00\", \"2020-12-17T19:25:00\", \"2020-12-17T19:30:00\", \"2020-12-17T19:35:00\", \"2020-12-17T19:40:00\", \"2020-12-17T19:45:00\", \"2020-12-17T19:50:00\", \"2020-12-17T19:55:00\", \"2020-12-17T20:00:00\", \"2020-12-17T20:05:00\", \"2020-12-17T20:10:00\", \"2020-12-17T20:15:00\", \"2020-12-17T20:20:00\", \"2020-12-17T20:25:00\", \"2020-12-17T20:30:00\", \"2020-12-17T20:35:00\", \"2020-12-17T20:40:00\", \"2020-12-17T20:45:00\", \"2020-12-17T20:50:00\", \"2020-12-17T20:55:00\", \"2020-12-17T21:00:00\", \"2020-12-17T21:05:00\", \"2020-12-17T21:10:00\", \"2020-12-17T21:15:00\", \"2020-12-17T21:20:00\", \"2020-12-17T21:25:00\", \"2020-12-17T21:30:00\", \"2020-12-17T21:35:00\", \"2020-12-17T21:40:00\", \"2020-12-17T21:45:00\", \"2020-12-17T21:50:00\", \"2020-12-17T21:55:00\", \"2020-12-17T22:00:00\", \"2020-12-17T22:05:00\", \"2020-12-17T22:10:00\", \"2020-12-17T22:15:00\", \"2020-12-17T22:20:00\", \"2020-12-17T22:25:00\", \"2020-12-17T22:30:00\", \"2020-12-17T22:35:00\", \"2020-12-17T22:40:00\", \"2020-12-17T22:45:00\", \"2020-12-17T22:50:00\", \"2020-12-17T22:55:00\", \"2020-12-17T23:00:00\", \"2020-12-17T23:05:00\", \"2020-12-17T23:10:00\", \"2020-12-17T23:15:00\", \"2020-12-17T23:20:00\", \"2020-12-17T23:25:00\", \"2020-12-17T23:30:00\", \"2020-12-17T23:35:00\", \"2020-12-17T23:40:00\", \"2020-12-17T23:45:00\", \"2020-12-17T23:50:00\", \"2020-12-17T23:55:00\", \"2020-12-18T00:00:00\", \"2020-12-18T00:05:00\", \"2020-12-18T00:10:00\", \"2020-12-18T00:15:00\", \"2020-12-18T00:20:00\", \"2020-12-18T00:25:00\", \"2020-12-18T00:30:00\", \"2020-12-18T00:35:00\", \"2020-12-18T00:40:00\", \"2020-12-18T00:45:00\", \"2020-12-18T00:50:00\", \"2020-12-18T00:55:00\", \"2020-12-18T01:00:00\", \"2020-12-18T01:05:00\", \"2020-12-18T01:10:00\", \"2020-12-18T01:15:00\", \"2020-12-18T01:20:00\", \"2020-12-18T01:25:00\", \"2020-12-18T01:30:00\", \"2020-12-18T01:35:00\", \"2020-12-18T01:40:00\", \"2020-12-18T01:45:00\", \"2020-12-18T01:50:00\", \"2020-12-18T01:55:00\", \"2020-12-18T02:00:00\", \"2020-12-18T02:05:00\", \"2020-12-18T02:10:00\", \"2020-12-18T02:15:00\", \"2020-12-18T02:20:00\", \"2020-12-18T02:25:00\", \"2020-12-18T02:30:00\", \"2020-12-18T02:35:00\", \"2020-12-18T02:40:00\", \"2020-12-18T02:45:00\", \"2020-12-18T02:50:00\", \"2020-12-18T02:55:00\", \"2020-12-18T03:00:00\", \"2020-12-18T03:05:00\", \"2020-12-18T03:10:00\", \"2020-12-18T03:15:00\", \"2020-12-18T03:20:00\", \"2020-12-18T03:25:00\", \"2020-12-18T03:30:00\", \"2020-12-18T03:35:00\", \"2020-12-18T03:40:00\", \"2020-12-18T03:45:00\", \"2020-12-18T03:50:00\", \"2020-12-18T03:55:00\", \"2020-12-18T04:00:00\", \"2020-12-18T04:05:00\", \"2020-12-18T04:10:00\", \"2020-12-18T04:15:00\", \"2020-12-18T04:20:00\", \"2020-12-18T04:25:00\", \"2020-12-18T04:30:00\", \"2020-12-18T04:35:00\", \"2020-12-18T04:40:00\", \"2020-12-18T04:45:00\", \"2020-12-18T04:50:00\", \"2020-12-18T04:55:00\", \"2020-12-18T05:00:00\", \"2020-12-18T05:05:00\", \"2020-12-18T05:10:00\", \"2020-12-18T05:15:00\", \"2020-12-18T05:20:00\", \"2020-12-18T05:25:00\", \"2020-12-18T05:30:00\", \"2020-12-18T05:35:00\", \"2020-12-18T05:40:00\", \"2020-12-18T05:45:00\", \"2020-12-18T05:50:00\", \"2020-12-18T05:55:00\", \"2020-12-18T06:00:00\", \"2020-12-18T06:05:00\", \"2020-12-18T06:10:00\", \"2020-12-18T06:15:00\", \"2020-12-18T06:20:00\", \"2020-12-18T06:25:00\", \"2020-12-18T06:30:00\", \"2020-12-18T06:35:00\", \"2020-12-18T06:40:00\", \"2020-12-18T06:45:00\", \"2020-12-18T06:50:00\", \"2020-12-18T06:55:00\", \"2020-12-18T07:00:00\", \"2020-12-18T07:05:00\", \"2020-12-18T07:10:00\", \"2020-12-18T07:15:00\", \"2020-12-18T07:20:00\", \"2020-12-18T07:25:00\", \"2020-12-18T07:25:00\", \"2020-12-18T07:30:00\", \"2020-12-18T07:35:00\", \"2020-12-18T07:40:00\", \"2020-12-18T07:45:00\", \"2020-12-18T07:50:00\", \"2020-12-18T07:55:00\", \"2020-12-18T08:00:00\", \"2020-12-18T08:05:00\", \"2020-12-18T08:10:00\", \"2020-12-18T08:15:00\", \"2020-12-18T08:20:00\", \"2020-12-18T08:25:00\", \"2020-12-18T08:30:00\", \"2020-12-18T08:35:00\", \"2020-12-18T08:40:00\", \"2020-12-18T08:45:00\", \"2020-12-18T08:50:00\", \"2020-12-18T08:55:00\", \"2020-12-18T09:00:00\", \"2020-12-18T09:05:00\", \"2020-12-18T09:10:00\", \"2020-12-18T09:15:00\", \"2020-12-18T09:20:00\", \"2020-12-18T09:25:00\", \"2020-12-18T09:30:00\", \"2020-12-18T09:35:00\", \"2020-12-18T09:40:00\", \"2020-12-18T09:45:00\", \"2020-12-18T09:50:00\", \"2020-12-18T09:55:00\", \"2020-12-18T10:00:00\", \"2020-12-18T10:05:00\", \"2020-12-18T10:10:00\", \"2020-12-18T10:15:00\", \"2020-12-18T10:20:00\", \"2020-12-18T10:25:00\", \"2020-12-18T10:30:00\", \"2020-12-18T10:35:00\", \"2020-12-18T10:40:00\", \"2020-12-18T10:45:00\", \"2020-12-18T10:50:00\", \"2020-12-18T10:55:00\", \"2020-12-18T11:00:00\", \"2020-12-18T11:05:00\", \"2020-12-18T11:10:00\", \"2020-12-18T11:15:00\", \"2020-12-18T11:20:00\", \"2020-12-18T11:25:00\", \"2020-12-18T11:30:00\", \"2020-12-18T11:35:00\", \"2020-12-18T11:40:00\", \"2020-12-18T11:45:00\", \"2020-12-18T11:50:00\", \"2020-12-18T11:55:00\", \"2020-12-18T12:00:00\", \"2020-12-18T12:05:00\", \"2020-12-18T12:10:00\", \"2020-12-18T12:15:00\", \"2020-12-18T12:20:00\", \"2020-12-18T12:25:00\", \"2020-12-18T12:30:00\", \"2020-12-18T12:35:00\", \"2020-12-18T12:40:00\", \"2020-12-18T12:45:00\", \"2020-12-18T12:50:00\", \"2020-12-18T12:55:00\", \"2020-12-18T13:00:00\", \"2020-12-18T13:05:00\", \"2020-12-18T13:10:00\", \"2020-12-18T13:15:00\", \"2020-12-18T13:20:00\", \"2020-12-18T13:25:00\", \"2020-12-18T13:30:00\", \"2020-12-18T13:35:00\", \"2020-12-18T13:40:00\", \"2020-12-18T13:45:00\", \"2020-12-18T13:50:00\", \"2020-12-18T13:55:00\", \"2020-12-18T14:00:00\", \"2020-12-18T14:05:00\", \"2020-12-18T14:10:00\", \"2020-12-18T14:15:00\", \"2020-12-18T14:20:00\", \"2020-12-18T14:25:00\", \"2020-12-18T14:30:00\", \"2020-12-18T14:35:00\", \"2020-12-18T14:40:00\", \"2020-12-18T14:45:00\", \"2020-12-18T14:50:00\", \"2020-12-18T14:55:00\", \"2020-12-18T15:00:00\", \"2020-12-18T15:05:00\", \"2020-12-18T15:10:00\", \"2020-12-18T15:15:00\", \"2020-12-18T15:20:00\", \"2020-12-18T15:25:00\", \"2020-12-18T15:30:00\", \"2020-12-18T15:35:00\", \"2020-12-18T15:40:00\", \"2020-12-18T15:45:00\", \"2020-12-18T15:50:00\", \"2020-12-18T15:55:00\", \"2020-12-18T16:00:00\", \"2020-12-18T16:05:00\", \"2020-12-18T16:10:00\", \"2020-12-18T16:15:00\", \"2020-12-18T16:20:00\", \"2020-12-18T16:25:00\", \"2020-12-18T16:30:00\", \"2020-12-18T16:35:00\", \"2020-12-18T16:40:00\", \"2020-12-18T16:45:00\", \"2020-12-18T16:50:00\", \"2020-12-18T16:55:00\", \"2020-12-18T17:00:00\", \"2020-12-18T17:05:00\", \"2020-12-18T17:10:00\", \"2020-12-18T17:15:00\", \"2020-12-18T17:20:00\", \"2020-12-18T17:25:00\", \"2020-12-18T17:30:00\", \"2020-12-18T17:35:00\", \"2020-12-18T17:40:00\", \"2020-12-18T17:45:00\", \"2020-12-18T17:50:00\", \"2020-12-18T17:55:00\", \"2020-12-18T18:00:00\", \"2020-12-18T18:05:00\", \"2020-12-18T18:10:00\", \"2020-12-18T18:15:00\", \"2020-12-18T18:20:00\", \"2020-12-18T18:25:00\", \"2020-12-18T18:30:00\", \"2020-12-18T18:35:00\", \"2020-12-18T18:40:00\", \"2020-12-18T18:45:00\", \"2020-12-18T18:50:00\", \"2020-12-18T18:55:00\", \"2020-12-18T19:00:00\", \"2020-12-18T19:05:00\", \"2020-12-18T19:10:00\", \"2020-12-18T19:15:00\", \"2020-12-18T19:20:00\", \"2020-12-18T19:25:00\", \"2020-12-18T19:30:00\", \"2020-12-18T19:35:00\", \"2020-12-18T19:40:00\", \"2020-12-18T19:45:00\", \"2020-12-18T19:50:00\", \"2020-12-18T19:55:00\", \"2020-12-18T20:00:00\", \"2020-12-18T20:05:00\", \"2020-12-18T20:10:00\", \"2020-12-18T20:15:00\", \"2020-12-18T20:20:00\", \"2020-12-18T20:25:00\", \"2020-12-18T20:30:00\", \"2020-12-18T20:35:00\", \"2020-12-18T20:40:00\", \"2020-12-18T20:45:00\", \"2020-12-18T20:50:00\", \"2020-12-18T20:55:00\", \"2020-12-18T21:00:00\", \"2020-12-18T21:05:00\", \"2020-12-18T21:10:00\", \"2020-12-18T21:15:00\", \"2020-12-18T21:20:00\", \"2020-12-18T21:25:00\", \"2020-12-18T21:30:00\", \"2020-12-18T21:35:00\", \"2020-12-18T21:40:00\", \"2020-12-18T21:45:00\", \"2020-12-18T21:50:00\", \"2020-12-18T21:55:00\", \"2020-12-18T22:00:00\", \"2020-12-18T22:05:00\", \"2020-12-18T22:10:00\", \"2020-12-18T22:15:00\", \"2020-12-18T22:20:00\", \"2020-12-18T22:25:00\", \"2020-12-18T22:30:00\", \"2020-12-18T22:35:00\", \"2020-12-18T22:40:00\", \"2020-12-18T22:45:00\", \"2020-12-18T22:50:00\", \"2020-12-18T22:55:00\", \"2020-12-18T23:00:00\", \"2020-12-18T23:05:00\", \"2020-12-18T23:10:00\", \"2020-12-18T23:15:00\", \"2020-12-18T23:20:00\", \"2020-12-18T23:25:00\", \"2020-12-18T23:30:00\", \"2020-12-18T23:35:00\", \"2020-12-18T23:40:00\", \"2020-12-18T23:45:00\", \"2020-12-18T23:50:00\", \"2020-12-18T23:55:00\", \"2020-12-19T00:00:00\", \"2020-12-19T00:05:00\", \"2020-12-19T00:10:00\", \"2020-12-19T00:15:00\", \"2020-12-19T00:20:00\", \"2020-12-19T00:25:00\", \"2020-12-19T00:30:00\", \"2020-12-19T00:35:00\", \"2020-12-19T00:40:00\", \"2020-12-19T00:45:00\", \"2020-12-19T00:50:00\", \"2020-12-19T00:55:00\", \"2020-12-19T01:00:00\", \"2020-12-19T01:05:00\", \"2020-12-19T01:10:00\", \"2020-12-19T01:15:00\", \"2020-12-19T01:20:00\", \"2020-12-19T01:25:00\", \"2020-12-19T01:30:00\", \"2020-12-19T01:35:00\", \"2020-12-19T01:40:00\", \"2020-12-19T01:45:00\", \"2020-12-19T01:50:00\", \"2020-12-19T01:55:00\", \"2020-12-19T02:00:00\", \"2020-12-19T02:05:00\", \"2020-12-19T02:10:00\", \"2020-12-19T02:15:00\", \"2020-12-19T02:20:00\", \"2020-12-19T02:25:00\", \"2020-12-19T02:30:00\", \"2020-12-19T02:35:00\", \"2020-12-19T02:40:00\", \"2020-12-19T02:45:00\", \"2020-12-19T02:50:00\", \"2020-12-19T02:55:00\", \"2020-12-19T03:00:00\", \"2020-12-19T03:05:00\", \"2020-12-19T03:10:00\", \"2020-12-19T03:15:00\", \"2020-12-19T03:20:00\", \"2020-12-19T03:25:00\", \"2020-12-19T03:30:00\", \"2020-12-19T03:35:00\", \"2020-12-19T03:40:00\", \"2020-12-19T03:45:00\", \"2020-12-19T03:50:00\", \"2020-12-19T03:55:00\", \"2020-12-19T04:00:00\", \"2020-12-19T04:05:00\", \"2020-12-19T04:10:00\", \"2020-12-19T04:15:00\", \"2020-12-19T04:20:00\", \"2020-12-19T04:25:00\", \"2020-12-19T04:30:00\", \"2020-12-19T04:35:00\", \"2020-12-19T04:40:00\", \"2020-12-19T04:45:00\", \"2020-12-19T04:50:00\", \"2020-12-19T04:55:00\", \"2020-12-19T05:00:00\", \"2020-12-19T05:05:00\", \"2020-12-19T05:10:00\", \"2020-12-19T05:15:00\", \"2020-12-19T05:20:00\", \"2020-12-19T05:25:00\", \"2020-12-19T05:30:00\", \"2020-12-19T05:35:00\", \"2020-12-19T05:40:00\", \"2020-12-19T05:45:00\", \"2020-12-19T05:50:00\", \"2020-12-19T05:55:00\", \"2020-12-19T06:00:00\", \"2020-12-19T06:05:00\", \"2020-12-19T06:10:00\", \"2020-12-19T06:15:00\", \"2020-12-19T06:20:00\", \"2020-12-19T06:25:00\", \"2020-12-19T06:30:00\", \"2020-12-19T06:35:00\", \"2020-12-19T06:40:00\", \"2020-12-19T06:45:00\", \"2020-12-19T06:50:00\", \"2020-12-19T06:55:00\", \"2020-12-19T07:00:00\", \"2020-12-19T07:05:00\", \"2020-12-19T07:10:00\", \"2020-12-19T07:15:00\", \"2020-12-19T07:20:00\", \"2020-12-19T07:25:00\", \"2020-12-19T07:30:00\", \"2020-12-19T07:35:00\", \"2020-12-19T07:40:00\", \"2020-12-19T07:45:00\", \"2020-12-19T07:50:00\", \"2020-12-19T07:55:00\", \"2020-12-19T08:00:00\", \"2020-12-19T08:05:00\", \"2020-12-19T08:10:00\", \"2020-12-19T08:15:00\", \"2020-12-19T08:20:00\", \"2020-12-19T08:25:00\", \"2020-12-19T08:30:00\", \"2020-12-19T08:35:00\", \"2020-12-19T08:40:00\", \"2020-12-19T08:45:00\", \"2020-12-19T08:50:00\", \"2020-12-19T08:55:00\", \"2020-12-19T09:00:00\", \"2020-12-19T09:05:00\", \"2020-12-19T09:10:00\", \"2020-12-19T09:15:00\", \"2020-12-19T09:20:00\", \"2020-12-19T09:25:00\", \"2020-12-19T09:30:00\", \"2020-12-19T09:35:00\", \"2020-12-19T09:40:00\", \"2020-12-19T09:45:00\", \"2020-12-19T09:50:00\", \"2020-12-19T09:55:00\", \"2020-12-19T10:00:00\", \"2020-12-19T10:05:00\", \"2020-12-19T10:10:00\", \"2020-12-19T10:15:00\", \"2020-12-19T10:20:00\", \"2020-12-19T10:25:00\", \"2020-12-19T10:30:00\", \"2020-12-19T10:35:00\", \"2020-12-19T10:40:00\", \"2020-12-19T10:45:00\", \"2020-12-19T10:50:00\", \"2020-12-19T10:55:00\", \"2020-12-19T11:00:00\", \"2020-12-19T11:05:00\", \"2020-12-19T11:10:00\", \"2020-12-19T11:15:00\", \"2020-12-19T11:20:00\", \"2020-12-19T11:25:00\", \"2020-12-19T11:30:00\", \"2020-12-19T11:35:00\", \"2020-12-19T11:40:00\", \"2020-12-19T11:45:00\", \"2020-12-19T11:50:00\", \"2020-12-19T11:55:00\", \"2020-12-19T12:00:00\", \"2020-12-19T12:05:00\", \"2020-12-19T12:10:00\", \"2020-12-19T12:15:00\", \"2020-12-19T12:20:00\", \"2020-12-19T12:25:00\", \"2020-12-19T12:30:00\", \"2020-12-19T12:35:00\", \"2020-12-19T12:40:00\", \"2020-12-19T12:45:00\", \"2020-12-19T12:50:00\", \"2020-12-19T12:55:00\", \"2020-12-19T13:00:00\", \"2020-12-19T13:05:00\", \"2020-12-19T13:10:00\", \"2020-12-19T13:15:00\", \"2020-12-19T13:20:00\", \"2020-12-19T13:25:00\", \"2020-12-19T13:30:00\", \"2020-12-19T13:35:00\", \"2020-12-19T13:40:00\", \"2020-12-19T13:45:00\", \"2020-12-19T13:50:00\", \"2020-12-19T13:55:00\", \"2020-12-19T14:00:00\", \"2020-12-19T14:05:00\", \"2020-12-19T14:10:00\", \"2020-12-19T14:15:00\", \"2020-12-19T14:20:00\", \"2020-12-19T14:25:00\", \"2020-12-19T14:30:00\", \"2020-12-19T14:35:00\", \"2020-12-19T14:40:00\", \"2020-12-19T14:45:00\", \"2020-12-19T14:50:00\", \"2020-12-19T14:55:00\", \"2020-12-19T15:00:00\", \"2020-12-19T15:05:00\", \"2020-12-19T15:10:00\", \"2020-12-19T15:15:00\", \"2020-12-19T15:20:00\", \"2020-12-19T15:25:00\", \"2020-12-19T15:30:00\", \"2020-12-19T15:35:00\", \"2020-12-19T15:40:00\", \"2020-12-19T15:45:00\", \"2020-12-19T15:50:00\", \"2020-12-19T15:55:00\", \"2020-12-19T16:00:00\", \"2020-12-19T16:05:00\", \"2020-12-19T16:10:00\", \"2020-12-19T16:15:00\", \"2020-12-19T16:20:00\", \"2020-12-19T16:25:00\", \"2020-12-19T16:30:00\", \"2020-12-19T16:35:00\", \"2020-12-19T16:40:00\", \"2020-12-19T16:45:00\"], \"y\": [18590.41, 18588.47, 18633.21, 18721.92, 18706.79, 18724.44, 18720.33, 18696.27, 18710.14, 18706.85, 18699.22, 18731.07, 18730.74, 18778.8, 18786.52, 18784.95, 18820.37, 18761.98, 18759.28, 18767.02, 18774.49, 18740.89, 18810.23, 18805.99, 18794.57, 18784.83, 18788.94, 18797.4, 18800.8, 18823.78, 18797.36, 18780.04, 18760.36, 18769.86, 18781.38, 18825.87, 18801.49, 18809.96, 18812.93, 18794.89, 18787.81, 18832.9, 18820.46, 18777.5, 18777.76, 18778.91, 18805.7, 18807.39, 18790.89, 18794.05, 18803.21, 18793.15, 18813.96, 18816.81, 18885.97, 18902.49, 18867.52, 18893.54, 18883.89, 18845.09, 18824.98, 18804.91, 18826.41, 18821.66, 18816.63, 18829.32, 18818.37, 18806.65, 18805.62, 18808.09, 18814.98, 18864.74, 18869.56, 18839.93, 18859.05, 18849.81, 18804.23, 18787.19, 18748.56, 18767.94, 18772.43, 18779.72, 18770.0, 18798.44, 18800.15, 18765.09, 18757.21, 18773.04, 18793.85, 18791.73, 18773.81, 18794.12, 18812.24, 18809.47, 18807.38, 18804.78, 18791.35, 18777.58, 18804.52, 18816.81, 18823.78, 18800.33, 18790.42, 18782.69, 18788.06, 18805.5, 18824.26, 18829.29, 18839.34, 18822.94, 18819.04, 18795.72, 18805.63, 18789.47, 18785.1, 18784.15, 18785.02, 18788.86, 18795.19, 18816.34, 18828.64, 18793.43, 18821.65, 18836.96, 18830.19, 18839.48, 18857.04, 18887.85, 18874.07, 18861.87, 18860.52, 18863.87, 18866.91, 18880.24, 18889.75, 18896.75, 18922.77, 18911.54, 18910.97, 18893.03, 18871.74, 18881.22, 18862.61, 18889.18, 18890.08, 18915.23, 18924.87, 18921.58, 18937.12, 18918.39, 18904.65, 18909.33, 18911.28, 18950.36, 18981.91, 19092.69, 19103.82, 19085.7, 19098.58, 19135.86, 19105.64, 19101.41, 19134.63, 19173.29, 19221.05, 19234.42, 19245.59, 19270.96, 19228.47, 19232.61, 19238.24, 19208.24, 19203.24, 19209.16, 19182.68, 19204.03, 19233.21, 19237.67, 19246.09, 19208.72, 19211.35, 19195.91, 19193.2, 19205.58, 19205.09, 19229.07, 19207.71, 19222.76, 19284.55, 19268.37, 19260.45, 19333.95, 19343.89, 19287.09, 19269.82, 19272.99, 19296.64, 19338.68, 19311.51, 19289.78, 19275.46, 19286.03, 19283.63, 19265.03, 19271.55, 19225.39, 19265.94, 19269.62, 19273.24, 19305.68, 19335.53, 19330.3, 19277.17, 19290.73, 19322.61, 19337.13, 19373.57, 19303.32, 19291.69, 19307.89, 19339.41, 19376.56, 19361.75, 19356.81, 19378.59, 19340.61, 19350.31, 19402.8, 19385.29, 19379.63, 19360.64, 19394.41, 19366.51, 19322.73, 19330.29, 19338.9, 19304.46, 19319.33, 19327.81, 19306.69, 19346.73, 19313.89, 19352.63, 19343.28, 19308.49, 19300.63, 19290.69, 19299.67, 19303.7, 19295.52, 19301.67, 19321.61, 19325.09, 19220.96, 19187.66, 19194.6, 19149.62, 19146.68, 19205.75, 19199.12, 19190.8, 19174.29, 19215.35, 19284.58, 19295.89, 19355.34, 19349.79, 19350.52, 19336.49, 19355.1, 19361.84, 19334.08, 19322.27, 19309.67, 19325.94, 19325.69, 19294.22, 19324.73, 19273.07, 19247.32, 19248.06, 19265.67, 19231.64, 19246.64, 19226.47, 19242.38, 19265.42, 19221.03, 19203.89, 19191.14, 19203.36, 19216.01, 19207.47, 19219.34, 19226.44, 19198.76, 19227.89, 19204.56, 19181.69, 19195.78, 19171.95, 19163.91, 19167.26, 19192.11, 19191.78, 19171.52, 19175.25, 19176.67, 19200.86, 19197.1, 19184.36, 19155.42, 19143.65, 19162.77, 19167.58, 19144.71, 19123.02, 19117.22, 19125.91, 19127.9, 19152.21, 19146.5, 19154.58, 19170.81, 19195.25, 19212.56, 19195.59, 19212.86, 19190.44, 19177.59, 19177.65, 19184.41, 19181.18, 19186.89, 19183.26, 19175.87, 19164.29, 19157.38, 19055.03, 19035.26, 18999.14, 19029.09, 19054.17, 19069.02, 19087.02, 19106.02, 19109.68, 19093.16, 19142.91, 19174.76, 19174.51, 19194.93, 19184.81, 19154.19, 19129.53, 19141.68, 19169.26, 19163.6, 19169.05, 19134.85, 19082.79, 19077.26, 19093.29, 19115.98, 19091.7, 19091.23, 19080.36, 19068.4, 19025.72, 19026.68, 19050.12, 19055.98, 19038.89, 19090.6, 19088.13, 19052.02, 19092.08, 19085.77, 19103.06, 19098.87, 19067.9, 19080.96, 19087.52, 19077.23, 19109.47, 19135.33, 19130.9, 19127.95, 19182.5, 19181.07, 19208.33, 19214.87, 19223.77, 19272.01, 19297.0, 19316.45, 19321.38, 19316.98, 19283.7, 19260.26, 19253.25, 19266.31, 19260.39, 19250.55, 19262.75, 19255.03, 19256.87, 19264.15, 19274.27, 19279.75, 19272.65, 19131.91, 19136.23, 19106.23, 19122.02, 19074.85, 19085.84, 19090.95, 19076.23, 19129.39, 19109.54, 19109.09, 19089.96, 19059.96, 19076.87, 19102.02, 19063.48, 19091.5, 19082.82, 19090.11, 19088.24, 19088.33, 19122.64, 19141.85, 19125.05, 19147.57, 19151.72, 19143.28, 19143.17, 19131.37, 19110.72, 19118.28, 19133.82, 19205.71, 19177.07, 19157.69, 19132.1, 19142.94, 19158.11, 19169.19, 19164.66, 19178.33, 19192.51, 19185.97, 19137.96, 19157.47, 19165.0, 19184.68, 19217.04, 19208.64, 19189.03, 19179.81, 19199.21, 19215.39, 19210.55, 19215.83, 19235.53, 19232.1, 19251.15, 19227.23, 19192.74, 19156.88, 19164.3, 19157.74, 19148.16, 19168.4, 19186.02, 19176.63, 19175.1, 19181.54, 19180.68, 19205.42, 19185.73, 19150.87, 19161.95, 19162.97, 19169.89, 19150.07, 19119.69, 19093.79, 19090.07, 19093.37, 19108.15, 19060.75, 19069.96, 19102.12, 19112.45, 19106.37, 19104.52, 19110.49, 19069.95, 19132.99, 19102.7, 19102.86, 19127.67, 19108.72, 19080.69, 19053.97, 19062.35, 19105.25, 19093.17, 19068.19, 19083.02, 19079.71, 19068.08, 19108.81, 19114.01, 19097.05, 19097.96, 19078.34, 19085.65, 19105.72, 19102.1, 19163.34, 19190.09, 19175.34, 19190.2, 19178.79, 19170.31, 19133.59, 19137.25, 19137.22, 19107.57, 19103.29, 19115.35, 19134.12, 19132.69, 19160.35, 19213.13, 19216.07, 19256.56, 19259.72, 19283.43, 19242.03, 19233.36, 19233.98, 19194.28, 19194.28, 19229.33, 19207.66, 19198.02, 19194.47, 19221.86, 19167.91, 19179.02, 19181.77, 19165.57, 19133.75, 19138.35, 19154.78, 19126.12, 19138.48, 19155.53, 19151.57, 19123.04, 19156.0, 19158.28, 19154.14, 19134.49, 19147.19, 19131.76, 19143.58, 19135.99, 19151.68, 19136.4, 19135.82, 19167.95, 19157.6, 19152.1, 19185.88, 19187.23, 19198.52, 19209.54, 19205.43, 19201.89, 19190.98, 19181.65, 19223.31, 19208.02, 19184.18, 19183.98, 19183.01, 19193.21, 19210.36, 19199.46, 19187.46, 19184.64, 19170.04, 19175.18, 19173.33, 19181.1, 19171.76, 19186.08, 19164.62, 19140.41, 19143.49, 19153.73, 19164.53, 19170.37, 19189.15, 19188.91, 19204.68, 19195.21, 19192.05, 19180.21, 19184.12, 19193.38, 19188.28, 19191.78, 19187.83, 19173.59, 19170.59, 19186.95, 19197.69, 19191.57, 19193.29, 19203.36, 19230.83, 19241.46, 19265.07, 19247.11, 19253.29, 19255.32, 19235.37, 19255.38, 19288.44, 19269.11, 19272.64, 19317.93, 19337.71, 19308.68, 19309.14, 19298.07, 19288.0, 19250.2, 19274.44, 19275.16, 19274.69, 19265.99, 19255.4, 19283.95, 19269.79, 19301.1, 19307.94, 19331.4, 19362.56, 19360.07, 19356.42, 19345.17, 19392.21, 19381.25, 19359.78, 19362.88, 19342.02, 19359.67, 19344.63, 19353.25, 19360.5, 19376.94, 19365.71, 19383.18, 19454.63, 19486.56, 19534.58, 19526.37, 19505.2, 19493.28, 19483.12, 19541.26, 19520.34, 19525.76, 19507.76, 19517.29, 19450.68, 19461.28, 19469.14, 19469.25, 19465.11, 19437.0, 19462.88, 19458.08, 19469.88, 19490.18, 19433.34, 19461.48, 19476.63, 19449.75, 19437.1, 19438.44, 19441.27, 19443.16, 19446.54, 19437.86, 19387.1, 19384.44, 19348.77, 19296.24, 19187.86, 19229.93, 19223.64, 19190.31, 19115.96, 19093.34, 19125.03, 19143.71, 19147.68, 19102.01, 19126.62, 19129.33, 19135.65, 19124.04, 19142.9, 19185.2, 19181.78, 19171.58, 19160.08, 19143.24, 19145.43, 19170.51, 19179.82, 19161.55, 19190.51, 19174.63, 19176.61, 19197.99, 19202.22, 19188.36, 19181.96, 19175.76, 19185.58, 19191.23, 19196.07, 19199.62, 19195.37, 19190.99, 19190.16, 19157.02, 19169.16, 19167.47, 19189.68, 19218.16, 19207.8, 19183.78, 19155.25, 19144.86, 19142.67, 19138.09, 19134.22, 19132.31, 19093.57, 19146.46, 19179.51, 19166.14, 19183.99, 19186.75, 19209.1, 19197.62, 19192.53, 19188.09, 19182.87, 19130.58, 19143.88, 19184.34, 19210.79, 19267.39, 19252.94, 19271.91, 19338.86, 19330.24, 19318.47, 19308.17, 19292.07, 19279.74, 19298.1, 19306.86, 19295.32, 19300.05, 19278.51, 19280.04, 19307.16, 19321.29, 19306.84, 19324.16, 19311.74, 19315.14, 19311.88, 19371.55, 19359.29, 19344.42, 19328.28, 19301.38, 19290.07, 19291.83, 19287.78, 19297.15, 19288.7, 19310.93, 19308.47, 19299.88, 19314.63, 19334.11, 19333.28, 19338.17, 19325.81, 19322.05, 19314.02, 19346.03, 19416.75, 19390.1, 19390.71, 19329.98, 19279.11, 19329.84, 19303.12, 19320.4, 19314.04, 19345.26, 19357.76, 19344.44, 19400.03, 19381.71, 19385.33, 19403.84, 19393.82, 19409.65, 19399.58, 19419.54, 19397.04, 19400.36, 19390.12, 19412.23, 19343.57, 19353.38, 19394.42, 19382.75, 19387.39, 19408.29, 19388.66, 19406.73, 19400.89, 19385.59, 19381.82, 19364.9, 19388.71, 19391.78, 19388.93, 19395.56, 19400.13, 19374.97, 19398.56, 19419.27, 19400.25, 19414.2, 19419.32, 19405.92, 19411.31, 19414.5, 19409.57, 19410.46, 19405.94, 19431.22, 19434.11, 19492.5, 19501.46, 19515.81, 19523.85, 19536.39, 19546.32, 19527.84, 19509.23, 19525.74, 19507.11, 19498.8, 19490.86, 19504.16, 19531.55, 19518.15, 19518.25, 19543.01, 19520.38, 19528.69, 19520.65, 19541.78, 19484.92, 19494.09, 19506.08, 19508.86, 19521.59, 19520.83, 19501.11, 19505.07, 19515.83, 19516.05, 19505.14, 19428.06, 19433.92, 19395.25, 19397.91, 19407.95, 19432.8, 19421.6, 19425.12, 19425.28, 19391.34, 19415.22, 19428.72, 19447.58, 19465.38, 19464.85, 19460.13, 19468.26, 19441.26, 19461.24, 19460.42, 19474.0, 19449.31, 19455.53, 19448.06, 19426.45, 19402.03, 19409.98, 19410.05, 19413.46, 19437.38, 19446.77, 19452.55, 19441.96, 19443.4, 19414.61, 19389.06, 19388.35, 19365.15, 19331.46, 19334.61, 19339.87, 19351.92, 19396.18, 19400.7, 19379.19, 19378.94, 19382.16, 19369.29, 19403.29, 19427.86, 19408.1, 19384.73, 19361.16, 19340.2, 19379.62, 19387.02, 19402.02, 19442.5, 19456.35, 19481.56, 19463.1, 19444.29, 19474.77, 19455.44, 19455.84, 19442.0, 19448.54, 19444.71, 19457.6, 19443.1, 19425.5, 19420.21, 19418.87, 19393.92, 19371.91, 19358.11, 19358.28, 19371.5, 19360.01, 19360.33, 19363.47, 19350.71, 19398.38, 19371.79, 19372.75, 19371.7, 19358.99, 19341.16, 19363.29, 19378.49, 19377.44, 19377.0, 19370.43, 19379.15, 19398.74, 19396.74, 19416.06, 19421.06, 19415.9, 19406.63, 19397.31, 19353.5, 19354.21, 19371.84, 19381.13, 19386.25, 19403.23, 19420.84, 19408.72, 19395.32, 19394.09, 19435.2, 19422.08, 19426.2, 19430.7, 19438.65, 19436.75, 19437.37, 19442.43, 19446.12, 19436.72, 19442.1, 19434.04, 19449.81, 19433.21, 19436.35, 19412.96, 19414.5, 19433.33, 19398.58, 19408.88, 19421.31, 19399.42, 19421.63, 19423.65, 19440.06, 19433.28, 19445.01, 19471.33, 19459.23, 19480.41, 19464.81, 19471.44, 19436.99, 19456.87, 19461.89, 19467.83, 19469.63, 19469.56, 19463.86, 19452.07, 19469.48, 19520.11, 19524.46, 19636.12, 19638.02, 19723.08, 19671.02, 19682.95, 19668.42, 19669.06, 19702.04, 19698.52, 19712.38, 19783.44, 19757.25, 19766.44, 19708.43, 19741.93, 19759.85, 19744.89, 19724.37, 19703.25, 19694.6, 19735.51, 19735.58, 19746.16, 19761.02, 19779.92, 19802.16, 19772.48, 19851.9, 19834.53, 19846.88, 19857.44, 19852.05, 19799.21, 19712.11, 19769.29, 19788.39, 19814.77, 19823.33, 19829.41, 19817.5, 19880.81, 19839.99, 19855.36, 20223.45, 20224.91, 20340.46, 20340.63, 20284.86, 20415.06, 20770.0, 20572.75, 20597.07, 20495.0, 20578.87, 20455.38, 20505.71, 20567.37, 20657.23, 20710.54, 20628.85, 20706.02, 20670.56, 20656.4, 20609.77, 20666.07, 20585.82, 20617.84, 20705.89, 20693.71, 20653.84, 20669.15, 20702.22, 20753.84, 20700.75, 20696.42, 20709.84, 20792.01, 20812.29, 20802.42, 20786.66, 20783.01, 20822.18, 20862.63, 20823.25, 20772.86, 20755.78, 20777.52, 20705.4, 20686.14, 20648.39, 20667.22, 20638.8, 20680.25, 20648.56, 20649.61, 20660.11, 20684.52, 20690.3, 20734.06, 20736.27, 20721.64, 20703.99, 20705.18, 20667.3, 20664.5, 20582.9, 20600.24, 20646.47, 20600.81, 20628.94, 20643.35, 20677.29, 20697.8, 20702.92, 20725.11, 20718.46, 20732.92, 20749.66, 20753.57, 20753.49, 20778.4, 20803.73, 20756.76, 20761.44, 20823.79, 20824.92, 20836.77, 20826.82, 20824.5, 20808.43, 20819.49, 20798.74, 20792.74, 20815.1, 20843.75, 20772.51, 20791.99, 20810.81, 20875.69, 20966.9, 21118.15, 21239.16, 21188.39, 21298.18, 21317.9, 21322.44, 21310.95, 21376.28, 21404.45, 21306.28, 21244.2, 21269.95, 21300.82, 21368.96, 21318.29, 21389.45, 21334.6, 21343.5, 21394.57, 21270.79, 21270.94, 21314.58, 21382.94, 21349.6, 21313.52, 21380.16, 21384.48, 21352.13, 21389.13, 21334.75, 21280.99, 21348.72, 21333.21, 21280.36, 21253.09, 21310.93, 21344.13, 21348.29, 21399.23, 21401.4, 21446.74, 21676.9, 21775.87, 21689.7, 21671.53, 21721.29, 21656.88, 21626.19, 21640.87, 21675.77, 21688.99, 21730.59, 21654.6, 21704.52, 21800.89, 21806.8, 21859.63, 21805.9, 21795.84, 21858.06, 21945.55, 21892.52, 21930.46, 21917.0, 22002.71, 22134.55, 22100.73, 22051.01, 21789.35, 21786.44, 21799.97, 21845.21, 21774.16, 21781.98, 21773.28, 21748.83, 21804.77, 21833.4, 21815.37, 21824.33, 21889.3, 21837.43, 21838.56, 21786.16, 21788.74, 21848.84, 21817.33, 21786.81, 21835.01, 21883.22, 21922.71, 21970.77, 21945.17, 21970.05, 21955.63, 22048.47, 22074.44, 22070.27, 22098.15, 22266.56, 22137.29, 22107.07, 22086.73, 22115.07, 22217.36, 22255.93, 22105.75, 22075.12, 22115.97, 22180.56, 22181.18, 22168.55, 22174.05, 22170.13, 22251.93, 22277.56, 22308.02, 22243.98, 22321.91, 22268.73, 22353.39, 22408.68, 22420.6, 22455.69, 22556.46, 22557.59, 22645.06, 22799.02, 22715.24, 22705.19, 22734.99, 22717.15, 22688.71, 22742.84, 22871.56, 22886.5, 22910.5, 23082.53, 23361.17, 23339.93, 22944.81, 23071.98, 23112.96, 22662.45, 22615.53, 22457.02, 22483.37, 22644.82, 22878.44, 22835.88, 22774.18, 22689.57, 22714.0, 22531.32, 22683.01, 22631.13, 22469.64, 22508.81, 22601.49, 22606.11, 22581.46, 22716.98, 22717.14, 22703.93, 22678.44, 22684.56, 22584.46, 22575.4, 22661.27, 22697.58, 22734.08, 22747.57, 22699.66, 22632.41, 22702.2, 22747.61, 22743.65, 22766.73, 22706.56, 22740.47, 22801.69, 22850.72, 23026.24, 23136.91, 23092.15, 23188.93, 23208.75, 23177.27, 23123.11, 23152.46, 23216.69, 23315.65, 23228.46, 23281.08, 22932.38, 22814.12, 22933.94, 22944.79, 23064.33, 23109.81, 23085.87, 23114.57, 23127.54, 23198.78, 23225.19, 23198.4, 23101.22, 23097.99, 23115.24, 23133.25, 23092.11, 22987.75, 22998.8, 22991.93, 23052.8, 23163.32, 23154.04, 23218.79, 23280.99, 23340.99, 23304.91, 23454.94, 23465.23, 23448.02, 23572.66, 23580.4, 23624.04, 23620.82, 23558.56, 23411.07, 23561.68, 23615.17, 23583.01, 23689.54, 23673.75, 23597.99, 23537.86, 23623.81, 23479.58, 23543.18, 23535.05, 23488.21, 23425.85, 23043.13, 23279.54, 23214.84, 22857.7, 22711.67, 22885.95, 22899.59, 22994.56, 23181.48, 23215.63, 23069.72, 23167.47, 23254.36, 23205.29, 23457.34, 23375.18, 23362.64, 23276.84, 23180.93, 23310.17, 23226.14, 23072.4, 22872.22, 22981.97, 22905.15, 23051.94, 22836.69, 22740.94, 22893.18, 22882.48, 22748.6, 22605.75, 22659.63, 22520.71, 22587.3, 22698.68, 22786.74, 22730.64, 22652.33, 22744.61, 22624.04, 22479.19, 22514.04, 22614.43, 22660.79, 22680.52, 22691.62, 22691.76, 22773.0, 22861.0, 22808.23, 22765.18, 22864.51, 22932.72, 22900.56, 22898.55, 22952.8, 22935.86, 23036.26, 23017.58, 22974.28, 22826.92, 22857.27, 22844.55, 22718.09, 22750.3, 22617.02, 22775.91, 22765.64, 22711.46, 22815.8, 22822.12, 22822.17, 22762.16, 22731.64, 22692.6, 22650.46, 22582.09, 22586.2, 22579.76, 22729.43, 22796.64, 22826.14, 22716.86, 22765.59, 22676.09, 22703.2, 22809.11, 22980.87, 23065.93, 23064.53, 23074.37, 23046.9, 23034.07, 23006.31, 23017.2, 22997.3, 23044.11, 23064.53, 23085.17, 23148.26, 23106.44, 23190.17, 23216.95, 23176.24, 23138.94, 23142.22, 23066.3, 23006.54, 22972.51, 23015.19, 23030.88, 22899.38, 22946.48, 22970.75, 22866.25, 22871.6, 22872.21, 22810.82, 22804.98, 22820.73, 22884.81, 22927.89, 22921.16, 22880.47, 22848.47, 22827.91, 22825.84, 22940.88, 22911.49, 22929.85, 22875.29, 22876.32, 22972.8, 23010.36, 22964.73, 23007.06, 22961.0, 22970.68, 22959.38, 22996.32, 23015.23, 22963.46, 22960.76, 22954.98, 22968.87, 23050.63, 23128.08, 23080.98, 23053.77, 23092.13, 23080.71, 23020.4, 22988.87, 23002.5, 22981.72, 22984.83, 22950.8, 22959.05, 22889.66, 22890.88, 22901.87, 22897.67, 22903.21, 22937.53, 23007.05, 23016.86, 23035.63, 23029.71, 23040.15, 22958.53, 22991.05, 22991.74, 23008.06, 23054.02, 23186.23, 23211.25, 23250.42, 23161.53, 23103.88, 23101.23, 23106.98, 23032.37, 23079.33, 23163.97, 23178.73, 23127.58, 23061.52, 23081.96, 23065.71, 23111.18, 23151.32, 23142.18, 23198.88, 23153.23, 23037.43, 22991.39, 23083.52, 23076.09, 23031.91, 23012.03, 23052.24, 23031.57, 22963.23, 22967.44, 22950.04, 22845.85, 22842.63, 22846.84, 22865.81, 22860.73, 22825.79, 22888.01, 22847.5, 22860.57, 22819.56, 22878.9, 22857.9, 22771.05, 22806.42, 23051.01, 22968.47, 22932.52, 22934.41, 22963.18, 22959.61, 22958.38, 22918.31, 22882.38, 22930.76, 22866.09, 22913.83, 22908.55, 22856.73, 22852.37, 22840.76, 22857.02, 22847.97, 22806.64, 22717.42, 22688.67, 22559.85, 22630.1, 22614.36, 22529.56, 22553.48, 22608.14, 22525.34, 22535.35, 22594.52, 22637.46, 22609.17, 22562.92, 22606.53, 22548.95, 22501.06, 22394.83, 22446.89, 22389.36, 22466.62, 22530.18, 22516.29, 22460.81, 22420.72, 22573.74, 22558.62, 22548.87, 22636.83, 22603.93, 22623.7, 22578.88, 22587.61, 22583.15, 22683.55, 22689.41, 22660.02, 22741.51, 22723.27, 22705.82, 22742.71, 22742.26, 22763.43, 22722.84, 22706.49, 22717.42, 22741.92, 22744.17, 22801.05, 22791.6, 22748.68, 22733.99, 22764.62, 22792.68, 22800.97, 22778.01, 22780.42, 22758.05, 22712.41, 22749.11, 22787.14, 22794.33, 22791.29, 22750.66, 22769.96, 22734.2, 22740.35, 22733.01, 22645.16, 22660.01, 22688.11, 22691.43, 22733.78, 22728.99, 22761.1, 22784.29, 22779.8, 22779.02, 22756.53, 22737.84, 22786.62, 22727.11, 22672.53, 22707.25, 22743.07, 22763.88, 22777.88, 22887.95, 22940.34, 22990.11, 22957.1, 22936.36, 23064.82, 23019.11, 23039.39, 23051.53, 22967.88, 22925.21, 22890.13, 22902.59, 22835.81, 22907.26, 22928.62, 22933.98, 22926.35, 22937.46, 22975.77, 23013.01, 23031.26, 23027.14, 23031.18, 23009.18, 22967.54, 22949.28, 22959.18, 22973.44, 22937.25, 22968.78, 23001.4, 23015.48, 23065.69, 23143.58, 23135.57, 23084.29, 23065.9, 23093.58, 23051.68, 23061.24, 23054.65, 23035.18, 23026.1, 22973.09, 23000.78, 22994.51, 22979.14, 23017.32, 23043.56, 23058.73, 23042.0, 22987.74, 22955.93, 23002.45, 23001.37, 23011.35, 23031.46, 23048.62, 23076.64, 23043.26, 23079.73, 23085.39, 23051.37, 23099.87, 23071.28, 23111.98, 23108.53, 23203.93, 23183.68, 23192.61, 23218.94, 23203.86, 23160.53, 23200.79, 23170.37, 23165.78, 23169.73, 23151.69, 23146.68, 23155.24, 23136.93, 23161.03, 23116.42, 23073.09, 23066.01, 23095.06, 23111.68, 23130.87, 23128.34, 23100.98, 23058.91, 23095.55, 23072.64, 23048.61, 23045.84, 23058.75, 23072.31, 22993.5, 23050.89, 23027.77, 23003.22, 22971.6, 22987.11, 22957.39, 22977.52, 22978.86, 22972.3, 22937.75, 22983.67, 22986.69, 22977.87, 22938.12, 22916.03, 22937.11, 22940.52, 22912.91, 22958.51, 22935.16, 22868.62, 22911.85, 22923.0, 22958.65, 22955.63, 22985.49, 23032.57, 22998.84, 22995.73, 23005.89, 22965.56, 22931.04, 22871.03, 22883.39, 22908.7, 22875.12, 22863.91, 22869.31, 22895.04, 22925.11, 22932.54, 22907.22, 22910.62, 22967.73, 22993.91, 22950.99, 22976.56, 22980.15, 22994.54, 23009.93, 22989.06, 22992.04, 23003.58, 23019.46, 22983.92, 22971.32, 22978.76, 23026.82, 23048.68, 23063.95, 23039.51, 23011.23, 23006.84, 23047.35, 23003.93, 22997.54, 23011.24, 22986.58, 23016.3, 23054.85, 23058.65, 23022.58, 22983.81, 22970.33, 22974.62, 22975.92, 22958.58, 22970.94, 22902.12, 22916.44, 22902.19, 22966.45, 22947.58, 23007.15, 22991.19, 22979.52, 22977.65, 23061.64, 23068.65, 23071.33, 23084.06, 23065.73, 23051.05, 23062.62, 23000.48, 23044.32, 23081.95, 23081.91, 23107.92, 23092.56, 23095.09, 23117.06, 23108.26, 23187.15, 23175.23, 23407.83, 23444.57, 23517.73, 23490.92, 23472.83, 23177.4, 23288.94, 23326.58, 23353.38, 23332.26, 23278.88, 23304.15, 23375.72, 23499.07, 23507.95, 23607.63, 23543.08, 23613.22, 23566.71, 23462.92, 23436.0, 23477.27, 23515.59, 23553.28, 23580.13, 23674.75, 23884.0, 24020.92, 23953.88, 23910.07, 23927.87, 23925.64, 24066.93, 24080.73]}],                        {\"template\": {\"data\": {\"bar\": [{\"error_x\": {\"color\": \"#2a3f5f\"}, \"error_y\": {\"color\": \"#2a3f5f\"}, \"marker\": {\"line\": {\"color\": \"#E5ECF6\", \"width\": 0.5}}, \"type\": \"bar\"}], \"barpolar\": [{\"marker\": {\"line\": {\"color\": \"#E5ECF6\", \"width\": 0.5}}, \"type\": \"barpolar\"}], \"carpet\": [{\"aaxis\": {\"endlinecolor\": \"#2a3f5f\", \"gridcolor\": \"white\", \"linecolor\": \"white\", \"minorgridcolor\": \"white\", \"startlinecolor\": \"#2a3f5f\"}, \"baxis\": {\"endlinecolor\": \"#2a3f5f\", \"gridcolor\": \"white\", \"linecolor\": \"white\", \"minorgridcolor\": \"white\", \"startlinecolor\": \"#2a3f5f\"}, \"type\": \"carpet\"}], \"choropleth\": [{\"colorbar\": {\"outlinewidth\": 0, \"ticks\": \"\"}, \"type\": \"choropleth\"}], \"contour\": [{\"colorbar\": {\"outlinewidth\": 0, \"ticks\": \"\"}, \"colorscale\": [[0.0, \"#0d0887\"], [0.1111111111111111, \"#46039f\"], [0.2222222222222222, \"#7201a8\"], [0.3333333333333333, \"#9c179e\"], [0.4444444444444444, \"#bd3786\"], [0.5555555555555556, \"#d8576b\"], [0.6666666666666666, \"#ed7953\"], [0.7777777777777778, \"#fb9f3a\"], [0.8888888888888888, \"#fdca26\"], [1.0, \"#f0f921\"]], \"type\": \"contour\"}], \"contourcarpet\": [{\"colorbar\": {\"outlinewidth\": 0, \"ticks\": \"\"}, \"type\": \"contourcarpet\"}], \"heatmap\": [{\"colorbar\": {\"outlinewidth\": 0, \"ticks\": \"\"}, \"colorscale\": [[0.0, \"#0d0887\"], [0.1111111111111111, \"#46039f\"], [0.2222222222222222, \"#7201a8\"], [0.3333333333333333, \"#9c179e\"], [0.4444444444444444, \"#bd3786\"], [0.5555555555555556, \"#d8576b\"], [0.6666666666666666, \"#ed7953\"], [0.7777777777777778, \"#fb9f3a\"], [0.8888888888888888, \"#fdca26\"], [1.0, \"#f0f921\"]], \"type\": \"heatmap\"}], \"heatmapgl\": [{\"colorbar\": {\"outlinewidth\": 0, \"ticks\": \"\"}, \"colorscale\": [[0.0, \"#0d0887\"], [0.1111111111111111, \"#46039f\"], [0.2222222222222222, \"#7201a8\"], [0.3333333333333333, \"#9c179e\"], [0.4444444444444444, \"#bd3786\"], [0.5555555555555556, \"#d8576b\"], [0.6666666666666666, \"#ed7953\"], [0.7777777777777778, \"#fb9f3a\"], [0.8888888888888888, \"#fdca26\"], [1.0, \"#f0f921\"]], \"type\": \"heatmapgl\"}], \"histogram\": [{\"marker\": {\"colorbar\": {\"outlinewidth\": 0, \"ticks\": \"\"}}, \"type\": \"histogram\"}], \"histogram2d\": [{\"colorbar\": {\"outlinewidth\": 0, \"ticks\": \"\"}, \"colorscale\": [[0.0, \"#0d0887\"], [0.1111111111111111, \"#46039f\"], [0.2222222222222222, \"#7201a8\"], [0.3333333333333333, \"#9c179e\"], [0.4444444444444444, \"#bd3786\"], [0.5555555555555556, \"#d8576b\"], [0.6666666666666666, \"#ed7953\"], [0.7777777777777778, \"#fb9f3a\"], [0.8888888888888888, \"#fdca26\"], [1.0, \"#f0f921\"]], \"type\": \"histogram2d\"}], \"histogram2dcontour\": [{\"colorbar\": {\"outlinewidth\": 0, \"ticks\": \"\"}, \"colorscale\": [[0.0, \"#0d0887\"], [0.1111111111111111, \"#46039f\"], [0.2222222222222222, \"#7201a8\"], [0.3333333333333333, \"#9c179e\"], [0.4444444444444444, \"#bd3786\"], [0.5555555555555556, \"#d8576b\"], [0.6666666666666666, \"#ed7953\"], [0.7777777777777778, \"#fb9f3a\"], [0.8888888888888888, \"#fdca26\"], [1.0, \"#f0f921\"]], \"type\": \"histogram2dcontour\"}], \"mesh3d\": [{\"colorbar\": {\"outlinewidth\": 0, \"ticks\": \"\"}, \"type\": \"mesh3d\"}], \"parcoords\": [{\"line\": {\"colorbar\": {\"outlinewidth\": 0, \"ticks\": \"\"}}, \"type\": \"parcoords\"}], \"pie\": [{\"automargin\": true, \"type\": \"pie\"}], \"scatter\": [{\"marker\": {\"colorbar\": {\"outlinewidth\": 0, \"ticks\": \"\"}}, \"type\": \"scatter\"}], \"scatter3d\": [{\"line\": {\"colorbar\": {\"outlinewidth\": 0, \"ticks\": \"\"}}, \"marker\": {\"colorbar\": {\"outlinewidth\": 0, \"ticks\": \"\"}}, \"type\": \"scatter3d\"}], \"scattercarpet\": [{\"marker\": {\"colorbar\": {\"outlinewidth\": 0, \"ticks\": \"\"}}, \"type\": \"scattercarpet\"}], \"scattergeo\": [{\"marker\": {\"colorbar\": {\"outlinewidth\": 0, \"ticks\": \"\"}}, \"type\": \"scattergeo\"}], \"scattergl\": [{\"marker\": {\"colorbar\": {\"outlinewidth\": 0, \"ticks\": \"\"}}, \"type\": \"scattergl\"}], \"scattermapbox\": [{\"marker\": {\"colorbar\": {\"outlinewidth\": 0, \"ticks\": \"\"}}, \"type\": \"scattermapbox\"}], \"scatterpolar\": [{\"marker\": {\"colorbar\": {\"outlinewidth\": 0, \"ticks\": \"\"}}, \"type\": \"scatterpolar\"}], \"scatterpolargl\": [{\"marker\": {\"colorbar\": {\"outlinewidth\": 0, \"ticks\": \"\"}}, \"type\": \"scatterpolargl\"}], \"scatterternary\": [{\"marker\": {\"colorbar\": {\"outlinewidth\": 0, \"ticks\": \"\"}}, \"type\": \"scatterternary\"}], \"surface\": [{\"colorbar\": {\"outlinewidth\": 0, \"ticks\": \"\"}, \"colorscale\": [[0.0, \"#0d0887\"], [0.1111111111111111, \"#46039f\"], [0.2222222222222222, \"#7201a8\"], [0.3333333333333333, \"#9c179e\"], [0.4444444444444444, \"#bd3786\"], [0.5555555555555556, \"#d8576b\"], [0.6666666666666666, \"#ed7953\"], [0.7777777777777778, \"#fb9f3a\"], [0.8888888888888888, \"#fdca26\"], [1.0, \"#f0f921\"]], \"type\": \"surface\"}], \"table\": [{\"cells\": {\"fill\": {\"color\": \"#EBF0F8\"}, \"line\": {\"color\": \"white\"}}, \"header\": {\"fill\": {\"color\": \"#C8D4E3\"}, \"line\": {\"color\": \"white\"}}, \"type\": \"table\"}]}, \"layout\": {\"annotationdefaults\": {\"arrowcolor\": \"#2a3f5f\", \"arrowhead\": 0, \"arrowwidth\": 1}, \"autotypenumbers\": \"strict\", \"coloraxis\": {\"colorbar\": {\"outlinewidth\": 0, \"ticks\": \"\"}}, \"colorscale\": {\"diverging\": [[0, \"#8e0152\"], [0.1, \"#c51b7d\"], [0.2, \"#de77ae\"], [0.3, \"#f1b6da\"], [0.4, \"#fde0ef\"], [0.5, \"#f7f7f7\"], [0.6, \"#e6f5d0\"], [0.7, \"#b8e186\"], [0.8, \"#7fbc41\"], [0.9, \"#4d9221\"], [1, \"#276419\"]], \"sequential\": [[0.0, \"#0d0887\"], [0.1111111111111111, \"#46039f\"], [0.2222222222222222, \"#7201a8\"], [0.3333333333333333, \"#9c179e\"], [0.4444444444444444, \"#bd3786\"], [0.5555555555555556, \"#d8576b\"], [0.6666666666666666, \"#ed7953\"], [0.7777777777777778, \"#fb9f3a\"], [0.8888888888888888, \"#fdca26\"], [1.0, \"#f0f921\"]], \"sequentialminus\": [[0.0, \"#0d0887\"], [0.1111111111111111, \"#46039f\"], [0.2222222222222222, \"#7201a8\"], [0.3333333333333333, \"#9c179e\"], [0.4444444444444444, \"#bd3786\"], [0.5555555555555556, \"#d8576b\"], [0.6666666666666666, \"#ed7953\"], [0.7777777777777778, \"#fb9f3a\"], [0.8888888888888888, \"#fdca26\"], [1.0, \"#f0f921\"]]}, \"colorway\": [\"#636efa\", \"#EF553B\", \"#00cc96\", \"#ab63fa\", \"#FFA15A\", \"#19d3f3\", \"#FF6692\", \"#B6E880\", \"#FF97FF\", \"#FECB52\"], \"font\": {\"color\": \"#2a3f5f\"}, \"geo\": {\"bgcolor\": \"white\", \"lakecolor\": \"white\", \"landcolor\": \"#E5ECF6\", \"showlakes\": true, \"showland\": true, \"subunitcolor\": \"white\"}, \"hoverlabel\": {\"align\": \"left\"}, \"hovermode\": \"closest\", \"mapbox\": {\"style\": \"light\"}, \"paper_bgcolor\": \"white\", \"plot_bgcolor\": \"#E5ECF6\", \"polar\": {\"angularaxis\": {\"gridcolor\": \"white\", \"linecolor\": \"white\", \"ticks\": \"\"}, \"bgcolor\": \"#E5ECF6\", \"radialaxis\": {\"gridcolor\": \"white\", \"linecolor\": \"white\", \"ticks\": \"\"}}, \"scene\": {\"xaxis\": {\"backgroundcolor\": \"#E5ECF6\", \"gridcolor\": \"white\", \"gridwidth\": 2, \"linecolor\": \"white\", \"showbackground\": true, \"ticks\": \"\", \"zerolinecolor\": \"white\"}, \"yaxis\": {\"backgroundcolor\": \"#E5ECF6\", \"gridcolor\": \"white\", \"gridwidth\": 2, \"linecolor\": \"white\", \"showbackground\": true, \"ticks\": \"\", \"zerolinecolor\": \"white\"}, \"zaxis\": {\"backgroundcolor\": \"#E5ECF6\", \"gridcolor\": \"white\", \"gridwidth\": 2, \"linecolor\": \"white\", \"showbackground\": true, \"ticks\": \"\", \"zerolinecolor\": \"white\"}}, \"shapedefaults\": {\"line\": {\"color\": \"#2a3f5f\"}}, \"ternary\": {\"aaxis\": {\"gridcolor\": \"white\", \"linecolor\": \"white\", \"ticks\": \"\"}, \"baxis\": {\"gridcolor\": \"white\", \"linecolor\": \"white\", \"ticks\": \"\"}, \"bgcolor\": \"#E5ECF6\", \"caxis\": {\"gridcolor\": \"white\", \"linecolor\": \"white\", \"ticks\": \"\"}}, \"title\": {\"x\": 0.05}, \"xaxis\": {\"automargin\": true, \"gridcolor\": \"white\", \"linecolor\": \"white\", \"ticks\": \"\", \"title\": {\"standoff\": 15}, \"zerolinecolor\": \"white\", \"zerolinewidth\": 2}, \"yaxis\": {\"automargin\": true, \"gridcolor\": \"white\", \"linecolor\": \"white\", \"ticks\": \"\", \"title\": {\"standoff\": 15}, \"zerolinecolor\": \"white\", \"zerolinewidth\": 2}}}, \"title\": {\"text\": \"Stock\"}, \"xaxis\": {\"rangeslider\": {\"visible\": true}}},                        {\"responsive\": true}                    ).then(function(){\n",
       "                            \n",
       "var gd = document.getElementById('52406dc6-b08d-40f2-8f3d-f750d26b03a6');\n",
       "var x = new MutationObserver(function (mutations, observer) {{\n",
       "        var display = window.getComputedStyle(gd).display;\n",
       "        if (!display || display === 'none') {{\n",
       "            console.log([gd, 'removed!']);\n",
       "            Plotly.purge(gd);\n",
       "            observer.disconnect();\n",
       "        }}\n",
       "}});\n",
       "\n",
       "// Listen for the removal of the full notebook cells\n",
       "var notebookContainer = gd.closest('#notebook-container');\n",
       "if (notebookContainer) {{\n",
       "    x.observe(notebookContainer, {childList: true});\n",
       "}}\n",
       "\n",
       "// Listen for the clearing of the current output cell\n",
       "var outputEl = gd.closest('.output');\n",
       "if (outputEl) {{\n",
       "    x.observe(outputEl, {childList: true});\n",
       "}}\n",
       "\n",
       "                        })                };                });            </script>        </div>"
      ]
     },
     "metadata": {},
     "output_type": "display_data"
    }
   ],
   "source": [
    "import plotly.graph_objects as go\n",
    "\n",
    "fig=go.Figure(data=go.Scatter(x=df11,y=df1,mode=\"lines\",marker_color=\"seagreen\"))\n",
    "fig.update_xaxes(rangeslider_visible=True)\n",
    "fig.update_layout(title=\"Stock\")\n",
    "fig.show()"
   ]
  },
  {
   "cell_type": "code",
   "execution_count": 15,
   "metadata": {
    "execution": {
     "iopub.execute_input": "2020-12-19T16:47:13.255963Z",
     "iopub.status.busy": "2020-12-19T16:47:13.255264Z",
     "iopub.status.idle": "2020-12-19T16:47:13.260135Z",
     "shell.execute_reply": "2020-12-19T16:47:13.259558Z"
    },
    "id": "MCqD0Ek3OAWF",
    "papermill": {
     "duration": 0.072442,
     "end_time": "2020-12-19T16:47:13.260246",
     "exception": false,
     "start_time": "2020-12-19T16:47:13.187804",
     "status": "completed"
    },
    "tags": []
   },
   "outputs": [],
   "source": [
    "### LSTM are sensitive to the scale of the data. so we apply MinMax scaler "
   ]
  },
  {
   "cell_type": "code",
   "execution_count": 16,
   "metadata": {
    "execution": {
     "iopub.execute_input": "2020-12-19T16:47:13.394225Z",
     "iopub.status.busy": "2020-12-19T16:47:13.393397Z",
     "iopub.status.idle": "2020-12-19T16:47:13.398046Z",
     "shell.execute_reply": "2020-12-19T16:47:13.397408Z"
    },
    "id": "aS8Lwe6NOAWF",
    "papermill": {
     "duration": 0.073774,
     "end_time": "2020-12-19T16:47:13.398159",
     "exception": false,
     "start_time": "2020-12-19T16:47:13.324385",
     "status": "completed"
    },
    "tags": []
   },
   "outputs": [],
   "source": [
    "import numpy as np"
   ]
  },
  {
   "cell_type": "code",
   "execution_count": 17,
   "metadata": {
    "execution": {
     "iopub.execute_input": "2020-12-19T16:47:13.534331Z",
     "iopub.status.busy": "2020-12-19T16:47:13.533674Z",
     "iopub.status.idle": "2020-12-19T16:47:13.538397Z",
     "shell.execute_reply": "2020-12-19T16:47:13.537840Z"
    },
    "id": "fAextNMOOAWF",
    "outputId": "e6f85442-e07b-4075-f068-bc3d21923247",
    "papermill": {
     "duration": 0.075724,
     "end_time": "2020-12-19T16:47:13.538514",
     "exception": false,
     "start_time": "2020-12-19T16:47:13.462790",
     "status": "completed"
    },
    "tags": []
   },
   "outputs": [
    {
     "data": {
      "text/plain": [
       "0       18590.41\n",
       "1       18588.47\n",
       "2       18633.21\n",
       "3       18721.92\n",
       "4       18706.79\n",
       "          ...   \n",
       "2000    23910.07\n",
       "2001    23927.87\n",
       "2002    23925.64\n",
       "2003    24066.93\n",
       "2004    24080.73\n",
       "Name: close, Length: 2005, dtype: float64"
      ]
     },
     "execution_count": 17,
     "metadata": {},
     "output_type": "execute_result"
    }
   ],
   "source": [
    "df1"
   ]
  },
  {
   "cell_type": "code",
   "execution_count": 18,
   "metadata": {
    "execution": {
     "iopub.execute_input": "2020-12-19T16:47:13.675465Z",
     "iopub.status.busy": "2020-12-19T16:47:13.674723Z",
     "iopub.status.idle": "2020-12-19T16:47:14.776485Z",
     "shell.execute_reply": "2020-12-19T16:47:14.777044Z"
    },
    "id": "TuCTakEOOAWF",
    "papermill": {
     "duration": 1.172737,
     "end_time": "2020-12-19T16:47:14.777195",
     "exception": false,
     "start_time": "2020-12-19T16:47:13.604458",
     "status": "completed"
    },
    "tags": []
   },
   "outputs": [],
   "source": [
    "from sklearn.preprocessing import MinMaxScaler\n",
    "scaler=MinMaxScaler(feature_range=(0,1))\n",
    "df1=scaler.fit_transform(np.array(df1).reshape(-1,1))"
   ]
  },
  {
   "cell_type": "code",
   "execution_count": 19,
   "metadata": {
    "execution": {
     "iopub.execute_input": "2020-12-19T16:47:14.914441Z",
     "iopub.status.busy": "2020-12-19T16:47:14.913285Z",
     "iopub.status.idle": "2020-12-19T16:47:14.917243Z",
     "shell.execute_reply": "2020-12-19T16:47:14.917803Z"
    },
    "id": "0VOvnJXqOAWG",
    "outputId": "74991b40-a9c7-49dd-d6fb-e327c8381a4d",
    "papermill": {
     "duration": 0.07552,
     "end_time": "2020-12-19T16:47:14.917960",
     "exception": false,
     "start_time": "2020-12-19T16:47:14.842440",
     "status": "completed"
    },
    "tags": []
   },
   "outputs": [
    {
     "name": "stdout",
     "output_type": "stream",
     "text": [
      "[[3.53224356e-04]\n",
      " [0.00000000e+00]\n",
      " [8.14600911e-03]\n",
      " ...\n",
      " [9.71762080e-01]\n",
      " [9.97487373e-01]\n",
      " [1.00000000e+00]]\n"
     ]
    }
   ],
   "source": [
    "print(df1)"
   ]
  },
  {
   "cell_type": "code",
   "execution_count": 20,
   "metadata": {
    "execution": {
     "iopub.execute_input": "2020-12-19T16:47:15.059993Z",
     "iopub.status.busy": "2020-12-19T16:47:15.059034Z",
     "iopub.status.idle": "2020-12-19T16:47:15.063753Z",
     "shell.execute_reply": "2020-12-19T16:47:15.062875Z"
    },
    "id": "Ypv4pXhAOAWG",
    "papermill": {
     "duration": 0.079788,
     "end_time": "2020-12-19T16:47:15.063942",
     "exception": false,
     "start_time": "2020-12-19T16:47:14.984154",
     "status": "completed"
    },
    "tags": []
   },
   "outputs": [],
   "source": [
    "##splitting dataset into train and test split\n",
    "training_size=int(len(df1)*0.85)\n",
    "test_size=len(df1)-training_size\n",
    "train_data,test_data=df1[0:training_size,:],df1[training_size:len(df1),:1]"
   ]
  },
  {
   "cell_type": "code",
   "execution_count": 21,
   "metadata": {
    "execution": {
     "iopub.execute_input": "2020-12-19T16:47:15.211214Z",
     "iopub.status.busy": "2020-12-19T16:47:15.210246Z",
     "iopub.status.idle": "2020-12-19T16:47:15.214909Z",
     "shell.execute_reply": "2020-12-19T16:47:15.214282Z"
    },
    "id": "Cft7aXZeOAWG",
    "outputId": "5800986d-55cb-49a7-da3a-a309c4328fa8",
    "papermill": {
     "duration": 0.075204,
     "end_time": "2020-12-19T16:47:15.215054",
     "exception": false,
     "start_time": "2020-12-19T16:47:15.139850",
     "status": "completed"
    },
    "tags": []
   },
   "outputs": [
    {
     "data": {
      "text/plain": [
       "(1704, 301)"
      ]
     },
     "execution_count": 21,
     "metadata": {},
     "output_type": "execute_result"
    }
   ],
   "source": [
    "training_size,test_size"
   ]
  },
  {
   "cell_type": "code",
   "execution_count": 22,
   "metadata": {
    "execution": {
     "iopub.execute_input": "2020-12-19T16:47:15.353787Z",
     "iopub.status.busy": "2020-12-19T16:47:15.352784Z",
     "iopub.status.idle": "2020-12-19T16:47:15.356627Z",
     "shell.execute_reply": "2020-12-19T16:47:15.357161Z"
    },
    "id": "DUZbV1gEOAWG",
    "outputId": "4634981d-06c9-44df-8154-5dd5250242e4",
    "papermill": {
     "duration": 0.076337,
     "end_time": "2020-12-19T16:47:15.357307",
     "exception": false,
     "start_time": "2020-12-19T16:47:15.280970",
     "status": "completed"
    },
    "tags": []
   },
   "outputs": [
    {
     "data": {
      "text/plain": [
       "array([[3.53224356e-04],\n",
       "       [0.00000000e+00],\n",
       "       [8.14600911e-03],\n",
       "       ...,\n",
       "       [7.17684523e-01],\n",
       "       [7.15155510e-01],\n",
       "       [7.05054021e-01]])"
      ]
     },
     "execution_count": 22,
     "metadata": {},
     "output_type": "execute_result"
    }
   ],
   "source": [
    "train_data"
   ]
  },
  {
   "cell_type": "code",
   "execution_count": 23,
   "metadata": {
    "execution": {
     "iopub.execute_input": "2020-12-19T16:47:15.496502Z",
     "iopub.status.busy": "2020-12-19T16:47:15.495410Z",
     "iopub.status.idle": "2020-12-19T16:47:15.504234Z",
     "shell.execute_reply": "2020-12-19T16:47:15.503462Z"
    },
    "id": "qJx0063SOAWH",
    "papermill": {
     "duration": 0.080261,
     "end_time": "2020-12-19T16:47:15.504360",
     "exception": false,
     "start_time": "2020-12-19T16:47:15.424099",
     "status": "completed"
    },
    "tags": []
   },
   "outputs": [],
   "source": [
    "import numpy\n",
    "# convert an array of values into a dataset matrix\n",
    "def create_dataset(dataset, time_step=1):\n",
    "\tdataX, dataY = [], []\n",
    "\tfor i in range(len(dataset)-time_step-1):\n",
    "\t\ta = dataset[i:(i+time_step), 0]   ###i=0, 0,1,2,3-----99   100 \n",
    "\t\tdataX.append(a)\n",
    "\t\tdataY.append(dataset[i + time_step, 0])\n",
    "\treturn numpy.array(dataX), numpy.array(dataY)"
   ]
  },
  {
   "cell_type": "code",
   "execution_count": 24,
   "metadata": {
    "execution": {
     "iopub.execute_input": "2020-12-19T16:47:15.644861Z",
     "iopub.status.busy": "2020-12-19T16:47:15.644155Z",
     "iopub.status.idle": "2020-12-19T16:47:15.650918Z",
     "shell.execute_reply": "2020-12-19T16:47:15.651457Z"
    },
    "id": "EMehdjpEOAWH",
    "papermill": {
     "duration": 0.081075,
     "end_time": "2020-12-19T16:47:15.651622",
     "exception": false,
     "start_time": "2020-12-19T16:47:15.570547",
     "status": "completed"
    },
    "tags": []
   },
   "outputs": [],
   "source": [
    "# reshape into X=t,t+1,t+2,t+3 and Y=t+4\n",
    "time_step = 100\n",
    "X_train, y_train = create_dataset(train_data, time_step)\n",
    "X_test, ytest = create_dataset(test_data, time_step)"
   ]
  },
  {
   "cell_type": "code",
   "execution_count": 25,
   "metadata": {
    "execution": {
     "iopub.execute_input": "2020-12-19T16:47:15.791696Z",
     "iopub.status.busy": "2020-12-19T16:47:15.790446Z",
     "iopub.status.idle": "2020-12-19T16:47:15.800165Z",
     "shell.execute_reply": "2020-12-19T16:47:15.800716Z"
    },
    "id": "tZoVH6HpOAWH",
    "outputId": "9c073b15-9b0a-4916-e8b4-b51a0e6f683a",
    "papermill": {
     "duration": 0.082036,
     "end_time": "2020-12-19T16:47:15.800892",
     "exception": false,
     "start_time": "2020-12-19T16:47:15.718856",
     "status": "completed"
    },
    "tags": []
   },
   "outputs": [
    {
     "name": "stdout",
     "output_type": "stream",
     "text": [
      "(1603, 100)\n",
      "(1603,)\n"
     ]
    },
    {
     "data": {
      "text/plain": [
       "(None, None)"
      ]
     },
     "execution_count": 25,
     "metadata": {},
     "output_type": "execute_result"
    }
   ],
   "source": [
    "print(X_train.shape), print(y_train.shape)"
   ]
  },
  {
   "cell_type": "code",
   "execution_count": 26,
   "metadata": {
    "execution": {
     "iopub.execute_input": "2020-12-19T16:47:15.943467Z",
     "iopub.status.busy": "2020-12-19T16:47:15.942322Z",
     "iopub.status.idle": "2020-12-19T16:47:15.947880Z",
     "shell.execute_reply": "2020-12-19T16:47:15.948408Z"
    },
    "id": "3euQB20COAWH",
    "outputId": "80e05ad6-f29a-4643-912f-954e888281f8",
    "papermill": {
     "duration": 0.078756,
     "end_time": "2020-12-19T16:47:15.948554",
     "exception": false,
     "start_time": "2020-12-19T16:47:15.869798",
     "status": "completed"
    },
    "tags": []
   },
   "outputs": [
    {
     "name": "stdout",
     "output_type": "stream",
     "text": [
      "(200, 100)\n",
      "(200,)\n"
     ]
    },
    {
     "data": {
      "text/plain": [
       "(None, None)"
      ]
     },
     "execution_count": 26,
     "metadata": {},
     "output_type": "execute_result"
    }
   ],
   "source": [
    "print(X_test.shape), print(ytest.shape)"
   ]
  },
  {
   "cell_type": "code",
   "execution_count": 27,
   "metadata": {
    "execution": {
     "iopub.execute_input": "2020-12-19T16:47:16.093052Z",
     "iopub.status.busy": "2020-12-19T16:47:16.092043Z",
     "iopub.status.idle": "2020-12-19T16:47:16.095357Z",
     "shell.execute_reply": "2020-12-19T16:47:16.095921Z"
    },
    "id": "Q6l-W-CpOAWH",
    "papermill": {
     "duration": 0.079138,
     "end_time": "2020-12-19T16:47:16.096073",
     "exception": false,
     "start_time": "2020-12-19T16:47:16.016935",
     "status": "completed"
    },
    "tags": []
   },
   "outputs": [],
   "source": [
    "# reshape input to be [samples, time steps, features] which is required for LSTM\n",
    "X_train =X_train.reshape(X_train.shape[0],X_train.shape[1] , 1)\n",
    "X_test = X_test.reshape(X_test.shape[0],X_test.shape[1] , 1)"
   ]
  },
  {
   "cell_type": "code",
   "execution_count": 28,
   "metadata": {
    "execution": {
     "iopub.execute_input": "2020-12-19T16:47:16.243236Z",
     "iopub.status.busy": "2020-12-19T16:47:16.242410Z",
     "iopub.status.idle": "2020-12-19T16:47:22.630932Z",
     "shell.execute_reply": "2020-12-19T16:47:22.630317Z"
    },
    "id": "dEyEMoCkOAWH",
    "papermill": {
     "duration": 6.463119,
     "end_time": "2020-12-19T16:47:22.631056",
     "exception": false,
     "start_time": "2020-12-19T16:47:16.167937",
     "status": "completed"
    },
    "tags": []
   },
   "outputs": [],
   "source": [
    "### Create the Stacked LSTM model\n",
    "from tensorflow.keras.models import Sequential\n",
    "from tensorflow.keras.layers import Dense\n",
    "from tensorflow.keras.layers import LSTM\n",
    "from tensorflow.keras.layers import GRU"
   ]
  },
  {
   "cell_type": "code",
   "execution_count": 29,
   "metadata": {
    "execution": {
     "iopub.execute_input": "2020-12-19T16:47:22.776524Z",
     "iopub.status.busy": "2020-12-19T16:47:22.775831Z",
     "iopub.status.idle": "2020-12-19T16:47:23.931736Z",
     "shell.execute_reply": "2020-12-19T16:47:23.931007Z"
    },
    "id": "cvhgNZOVOAWH",
    "papermill": {
     "duration": 1.232353,
     "end_time": "2020-12-19T16:47:23.931875",
     "exception": false,
     "start_time": "2020-12-19T16:47:22.699522",
     "status": "completed"
    },
    "tags": []
   },
   "outputs": [],
   "source": [
    "model=Sequential()\n",
    "model.add(LSTM(50,return_sequences=True,input_shape=(100,1)))\n",
    "model.add(LSTM(50,return_sequences=True))\n",
    "#model.add(LSTM(50,return_sequences=True))\n",
    "model.add(GRU(50,return_sequences=True))\n",
    "model.add(LSTM(50))\n",
    "model.add(Dense(1))\n",
    "model.compile(loss='mean_squared_error',optimizer='adam')\n"
   ]
  },
  {
   "cell_type": "code",
   "execution_count": 30,
   "metadata": {
    "execution": {
     "iopub.execute_input": "2020-12-19T16:47:24.078774Z",
     "iopub.status.busy": "2020-12-19T16:47:24.077603Z",
     "iopub.status.idle": "2020-12-19T16:47:24.084195Z",
     "shell.execute_reply": "2020-12-19T16:47:24.083292Z"
    },
    "id": "rO4sribFOAWH",
    "outputId": "d501e1e2-64e7-4d21-8ad2-f752b4d14f28",
    "papermill": {
     "duration": 0.083473,
     "end_time": "2020-12-19T16:47:24.084380",
     "exception": false,
     "start_time": "2020-12-19T16:47:24.000907",
     "status": "completed"
    },
    "tags": []
   },
   "outputs": [
    {
     "name": "stdout",
     "output_type": "stream",
     "text": [
      "Model: \"sequential\"\n",
      "_________________________________________________________________\n",
      "Layer (type)                 Output Shape              Param #   \n",
      "=================================================================\n",
      "lstm (LSTM)                  (None, 100, 50)           10400     \n",
      "_________________________________________________________________\n",
      "lstm_1 (LSTM)                (None, 100, 50)           20200     \n",
      "_________________________________________________________________\n",
      "gru (GRU)                    (None, 100, 50)           15300     \n",
      "_________________________________________________________________\n",
      "lstm_2 (LSTM)                (None, 50)                20200     \n",
      "_________________________________________________________________\n",
      "dense (Dense)                (None, 1)                 51        \n",
      "=================================================================\n",
      "Total params: 66,151\n",
      "Trainable params: 66,151\n",
      "Non-trainable params: 0\n",
      "_________________________________________________________________\n"
     ]
    }
   ],
   "source": [
    "model.summary()"
   ]
  },
  {
   "cell_type": "code",
   "execution_count": 31,
   "metadata": {
    "execution": {
     "iopub.execute_input": "2020-12-19T16:47:24.227857Z",
     "iopub.status.busy": "2020-12-19T16:47:24.227158Z",
     "iopub.status.idle": "2020-12-19T16:47:24.233587Z",
     "shell.execute_reply": "2020-12-19T16:47:24.232721Z"
    },
    "id": "dDAZHEmROAWH",
    "outputId": "c287a47c-04d3-4fb9-d5ab-ab5b05d4c052",
    "papermill": {
     "duration": 0.080812,
     "end_time": "2020-12-19T16:47:24.233779",
     "exception": false,
     "start_time": "2020-12-19T16:47:24.152967",
     "status": "completed"
    },
    "tags": []
   },
   "outputs": [
    {
     "name": "stdout",
     "output_type": "stream",
     "text": [
      "Model: \"sequential\"\n",
      "_________________________________________________________________\n",
      "Layer (type)                 Output Shape              Param #   \n",
      "=================================================================\n",
      "lstm (LSTM)                  (None, 100, 50)           10400     \n",
      "_________________________________________________________________\n",
      "lstm_1 (LSTM)                (None, 100, 50)           20200     \n",
      "_________________________________________________________________\n",
      "gru (GRU)                    (None, 100, 50)           15300     \n",
      "_________________________________________________________________\n",
      "lstm_2 (LSTM)                (None, 50)                20200     \n",
      "_________________________________________________________________\n",
      "dense (Dense)                (None, 1)                 51        \n",
      "=================================================================\n",
      "Total params: 66,151\n",
      "Trainable params: 66,151\n",
      "Non-trainable params: 0\n",
      "_________________________________________________________________\n"
     ]
    }
   ],
   "source": [
    "model.summary()"
   ]
  },
  {
   "cell_type": "code",
   "execution_count": null,
   "metadata": {
    "id": "7YTdidm6OAWH",
    "papermill": {
     "duration": 0.068311,
     "end_time": "2020-12-19T16:47:24.372134",
     "exception": false,
     "start_time": "2020-12-19T16:47:24.303823",
     "status": "completed"
    },
    "tags": []
   },
   "outputs": [],
   "source": []
  },
  {
   "cell_type": "code",
   "execution_count": 32,
   "metadata": {
    "execution": {
     "iopub.execute_input": "2020-12-19T16:47:24.517062Z",
     "iopub.status.busy": "2020-12-19T16:47:24.516081Z",
     "iopub.status.idle": "2020-12-19T17:06:40.490221Z",
     "shell.execute_reply": "2020-12-19T17:06:40.489642Z"
    },
    "id": "tdfyZMu4OAWH",
    "outputId": "d36ec5df-b971-45e1-ff85-5ef8a2262d95",
    "papermill": {
     "duration": 1156.050236,
     "end_time": "2020-12-19T17:06:40.490383",
     "exception": false,
     "start_time": "2020-12-19T16:47:24.440147",
     "status": "completed"
    },
    "tags": []
   },
   "outputs": [
    {
     "name": "stdout",
     "output_type": "stream",
     "text": [
      "Epoch 1/200\n",
      "26/26 [==============================] - 7s 257ms/step - loss: 0.0434 - val_loss: 0.0018\n",
      "Epoch 2/200\n",
      "26/26 [==============================] - 6s 218ms/step - loss: 0.0026 - val_loss: 7.8201e-04\n",
      "Epoch 3/200\n",
      "26/26 [==============================] - 6s 239ms/step - loss: 7.7013e-04 - val_loss: 0.0012\n",
      "Epoch 4/200\n",
      "26/26 [==============================] - 5s 204ms/step - loss: 6.9034e-04 - val_loss: 0.0011\n",
      "Epoch 5/200\n",
      "26/26 [==============================] - 5s 204ms/step - loss: 6.6130e-04 - val_loss: 0.0013\n",
      "Epoch 6/200\n",
      "26/26 [==============================] - 5s 206ms/step - loss: 6.8250e-04 - val_loss: 0.0016\n",
      "Epoch 7/200\n",
      "26/26 [==============================] - 5s 207ms/step - loss: 6.6945e-04 - val_loss: 0.0017\n",
      "Epoch 8/200\n",
      "26/26 [==============================] - 6s 219ms/step - loss: 6.4299e-04 - val_loss: 7.3169e-04\n",
      "Epoch 9/200\n",
      "26/26 [==============================] - 5s 203ms/step - loss: 6.3848e-04 - val_loss: 7.2833e-04\n",
      "Epoch 10/200\n",
      "26/26 [==============================] - 5s 210ms/step - loss: 6.1640e-04 - val_loss: 7.9305e-04\n",
      "Epoch 11/200\n",
      "26/26 [==============================] - 5s 202ms/step - loss: 6.3405e-04 - val_loss: 7.2545e-04\n",
      "Epoch 12/200\n",
      "26/26 [==============================] - 5s 201ms/step - loss: 5.9742e-04 - val_loss: 0.0013\n",
      "Epoch 13/200\n",
      "26/26 [==============================] - 5s 206ms/step - loss: 6.2497e-04 - val_loss: 0.0013\n",
      "Epoch 14/200\n",
      "26/26 [==============================] - 6s 216ms/step - loss: 6.4285e-04 - val_loss: 7.6987e-04\n",
      "Epoch 15/200\n",
      "26/26 [==============================] - 5s 206ms/step - loss: 5.9425e-04 - val_loss: 0.0012\n",
      "Epoch 16/200\n",
      "26/26 [==============================] - 5s 209ms/step - loss: 5.7179e-04 - val_loss: 0.0010\n",
      "Epoch 17/200\n",
      "26/26 [==============================] - 5s 202ms/step - loss: 6.0333e-04 - val_loss: 0.0021\n",
      "Epoch 18/200\n",
      "26/26 [==============================] - 6s 215ms/step - loss: 6.3136e-04 - val_loss: 0.0048\n",
      "Epoch 19/200\n",
      "26/26 [==============================] - 5s 207ms/step - loss: 8.0162e-04 - val_loss: 5.9557e-04\n",
      "Epoch 20/200\n",
      "26/26 [==============================] - 6s 215ms/step - loss: 5.6020e-04 - val_loss: 5.8657e-04\n",
      "Epoch 21/200\n",
      "26/26 [==============================] - 5s 209ms/step - loss: 5.7285e-04 - val_loss: 7.2004e-04\n",
      "Epoch 22/200\n",
      "26/26 [==============================] - 5s 211ms/step - loss: 5.8927e-04 - val_loss: 7.8035e-04\n",
      "Epoch 23/200\n",
      "26/26 [==============================] - 5s 204ms/step - loss: 5.2761e-04 - val_loss: 0.0011\n",
      "Epoch 24/200\n",
      "26/26 [==============================] - 5s 203ms/step - loss: 4.8498e-04 - val_loss: 7.7983e-04\n",
      "Epoch 25/200\n",
      "26/26 [==============================] - 5s 205ms/step - loss: 5.1441e-04 - val_loss: 0.0012\n",
      "Epoch 26/200\n",
      "26/26 [==============================] - 5s 211ms/step - loss: 5.3614e-04 - val_loss: 9.1460e-04\n",
      "Epoch 27/200\n",
      "26/26 [==============================] - 5s 210ms/step - loss: 4.5096e-04 - val_loss: 4.8835e-04\n",
      "Epoch 28/200\n",
      "26/26 [==============================] - 5s 211ms/step - loss: 4.7708e-04 - val_loss: 6.8509e-04\n",
      "Epoch 29/200\n",
      "26/26 [==============================] - 6s 227ms/step - loss: 4.5720e-04 - val_loss: 4.3869e-04\n",
      "Epoch 30/200\n",
      "26/26 [==============================] - 5s 211ms/step - loss: 5.3808e-04 - val_loss: 6.0304e-04\n",
      "Epoch 31/200\n",
      "26/26 [==============================] - 5s 209ms/step - loss: 6.5588e-04 - val_loss: 0.0017\n",
      "Epoch 32/200\n",
      "26/26 [==============================] - 5s 208ms/step - loss: 4.9291e-04 - val_loss: 5.1014e-04\n",
      "Epoch 33/200\n",
      "26/26 [==============================] - 5s 205ms/step - loss: 5.6207e-04 - val_loss: 4.6271e-04\n",
      "Epoch 34/200\n",
      "26/26 [==============================] - 5s 200ms/step - loss: 3.9746e-04 - val_loss: 5.4674e-04\n",
      "Epoch 35/200\n",
      "26/26 [==============================] - 6s 216ms/step - loss: 4.5099e-04 - val_loss: 0.0024\n",
      "Epoch 36/200\n",
      "26/26 [==============================] - 6s 222ms/step - loss: 5.3229e-04 - val_loss: 5.2773e-04\n",
      "Epoch 37/200\n",
      "26/26 [==============================] - 6s 232ms/step - loss: 4.3691e-04 - val_loss: 5.7057e-04\n",
      "Epoch 38/200\n",
      "26/26 [==============================] - 6s 219ms/step - loss: 4.6687e-04 - val_loss: 0.0018\n",
      "Epoch 39/200\n",
      "26/26 [==============================] - 6s 216ms/step - loss: 7.1198e-04 - val_loss: 4.6305e-04\n",
      "Epoch 40/200\n",
      "26/26 [==============================] - 5s 208ms/step - loss: 5.2393e-04 - val_loss: 0.0027\n",
      "Epoch 41/200\n",
      "26/26 [==============================] - 5s 206ms/step - loss: 5.4859e-04 - val_loss: 0.0033\n",
      "Epoch 42/200\n",
      "26/26 [==============================] - 5s 209ms/step - loss: 5.4229e-04 - val_loss: 4.8593e-04\n",
      "Epoch 43/200\n",
      "26/26 [==============================] - 6s 213ms/step - loss: 3.3765e-04 - val_loss: 0.0011\n",
      "Epoch 44/200\n",
      "26/26 [==============================] - 5s 199ms/step - loss: 3.6638e-04 - val_loss: 6.5049e-04\n",
      "Epoch 45/200\n",
      "26/26 [==============================] - 5s 203ms/step - loss: 3.5674e-04 - val_loss: 3.4777e-04\n",
      "Epoch 46/200\n",
      "26/26 [==============================] - 5s 202ms/step - loss: 3.6026e-04 - val_loss: 5.0266e-04\n",
      "Epoch 47/200\n",
      "26/26 [==============================] - 5s 209ms/step - loss: 3.5608e-04 - val_loss: 5.4832e-04\n",
      "Epoch 48/200\n",
      "26/26 [==============================] - 5s 209ms/step - loss: 3.0161e-04 - val_loss: 5.2433e-04\n",
      "Epoch 49/200\n",
      "26/26 [==============================] - 5s 210ms/step - loss: 2.9685e-04 - val_loss: 4.3143e-04\n",
      "Epoch 50/200\n",
      "26/26 [==============================] - 6s 228ms/step - loss: 3.0018e-04 - val_loss: 5.7135e-04\n",
      "Epoch 51/200\n",
      "26/26 [==============================] - 5s 211ms/step - loss: 3.3289e-04 - val_loss: 5.1807e-04\n",
      "Epoch 52/200\n",
      "26/26 [==============================] - 5s 208ms/step - loss: 3.0679e-04 - val_loss: 3.2238e-04\n",
      "Epoch 53/200\n",
      "26/26 [==============================] - 6s 213ms/step - loss: 2.9468e-04 - val_loss: 3.7574e-04\n",
      "Epoch 54/200\n",
      "26/26 [==============================] - 5s 203ms/step - loss: 2.8170e-04 - val_loss: 4.9935e-04\n",
      "Epoch 55/200\n",
      "26/26 [==============================] - 6s 213ms/step - loss: 2.8453e-04 - val_loss: 3.2441e-04\n",
      "Epoch 56/200\n",
      "26/26 [==============================] - 5s 209ms/step - loss: 3.1693e-04 - val_loss: 3.2865e-04\n",
      "Epoch 57/200\n",
      "26/26 [==============================] - 6s 232ms/step - loss: 2.6978e-04 - val_loss: 3.1878e-04\n",
      "Epoch 58/200\n",
      "26/26 [==============================] - 5s 209ms/step - loss: 2.7263e-04 - val_loss: 5.5035e-04\n",
      "Epoch 59/200\n",
      "26/26 [==============================] - 5s 200ms/step - loss: 3.1719e-04 - val_loss: 3.0337e-04\n",
      "Epoch 60/200\n",
      "26/26 [==============================] - 6s 219ms/step - loss: 3.5332e-04 - val_loss: 0.0016\n",
      "Epoch 61/200\n",
      "26/26 [==============================] - 6s 214ms/step - loss: 4.1459e-04 - val_loss: 0.0015\n",
      "Epoch 62/200\n",
      "26/26 [==============================] - 5s 207ms/step - loss: 4.2824e-04 - val_loss: 3.4550e-04\n",
      "Epoch 63/200\n",
      "26/26 [==============================] - 5s 203ms/step - loss: 3.1065e-04 - val_loss: 6.6969e-04\n",
      "Epoch 64/200\n",
      "26/26 [==============================] - 6s 213ms/step - loss: 2.9119e-04 - val_loss: 9.5818e-04\n",
      "Epoch 65/200\n",
      "26/26 [==============================] - 5s 202ms/step - loss: 2.6794e-04 - val_loss: 2.7461e-04\n",
      "Epoch 66/200\n",
      "26/26 [==============================] - 5s 210ms/step - loss: 2.5058e-04 - val_loss: 5.3625e-04\n",
      "Epoch 67/200\n",
      "26/26 [==============================] - 5s 201ms/step - loss: 2.5472e-04 - val_loss: 3.4622e-04\n",
      "Epoch 68/200\n",
      "26/26 [==============================] - 5s 206ms/step - loss: 2.4486e-04 - val_loss: 2.7764e-04\n",
      "Epoch 69/200\n",
      "26/26 [==============================] - 5s 210ms/step - loss: 2.6416e-04 - val_loss: 4.9922e-04\n",
      "Epoch 70/200\n",
      "26/26 [==============================] - 5s 206ms/step - loss: 2.6609e-04 - val_loss: 2.5394e-04\n",
      "Epoch 71/200\n",
      "26/26 [==============================] - 5s 209ms/step - loss: 2.5367e-04 - val_loss: 3.2198e-04\n",
      "Epoch 72/200\n",
      "26/26 [==============================] - 6s 218ms/step - loss: 2.5222e-04 - val_loss: 5.0139e-04\n",
      "Epoch 73/200\n",
      "26/26 [==============================] - 5s 210ms/step - loss: 2.2481e-04 - val_loss: 6.5416e-04\n",
      "Epoch 74/200\n",
      "26/26 [==============================] - 5s 211ms/step - loss: 2.9887e-04 - val_loss: 3.0396e-04\n",
      "Epoch 75/200\n",
      "26/26 [==============================] - 5s 207ms/step - loss: 2.5786e-04 - val_loss: 0.0013\n",
      "Epoch 76/200\n",
      "26/26 [==============================] - 5s 206ms/step - loss: 3.4188e-04 - val_loss: 0.0012\n",
      "Epoch 77/200\n",
      "26/26 [==============================] - 5s 203ms/step - loss: 2.7495e-04 - val_loss: 2.3003e-04\n",
      "Epoch 78/200\n",
      "26/26 [==============================] - 5s 205ms/step - loss: 2.4648e-04 - val_loss: 2.1274e-04\n",
      "Epoch 79/200\n",
      "26/26 [==============================] - 6s 216ms/step - loss: 2.4727e-04 - val_loss: 0.0011\n",
      "Epoch 80/200\n",
      "26/26 [==============================] - 6s 212ms/step - loss: 2.3919e-04 - val_loss: 0.0012\n",
      "Epoch 81/200\n",
      "26/26 [==============================] - 5s 210ms/step - loss: 2.6094e-04 - val_loss: 5.0728e-04\n",
      "Epoch 82/200\n",
      "26/26 [==============================] - 6s 216ms/step - loss: 2.1602e-04 - val_loss: 3.9321e-04\n",
      "Epoch 83/200\n",
      "26/26 [==============================] - 6s 212ms/step - loss: 1.8528e-04 - val_loss: 2.9959e-04\n",
      "Epoch 84/200\n",
      "26/26 [==============================] - 5s 208ms/step - loss: 2.0706e-04 - val_loss: 1.9195e-04\n",
      "Epoch 85/200\n",
      "26/26 [==============================] - 6s 217ms/step - loss: 1.8483e-04 - val_loss: 5.7461e-04\n",
      "Epoch 86/200\n",
      "26/26 [==============================] - 5s 211ms/step - loss: 2.2835e-04 - val_loss: 2.6599e-04\n",
      "Epoch 87/200\n",
      "26/26 [==============================] - 5s 204ms/step - loss: 3.1146e-04 - val_loss: 2.3596e-04\n",
      "Epoch 88/200\n",
      "26/26 [==============================] - 5s 204ms/step - loss: 1.7656e-04 - val_loss: 2.3949e-04\n",
      "Epoch 89/200\n",
      "26/26 [==============================] - 5s 209ms/step - loss: 1.9247e-04 - val_loss: 2.5693e-04\n",
      "Epoch 90/200\n",
      "26/26 [==============================] - 6s 216ms/step - loss: 1.7070e-04 - val_loss: 1.7106e-04\n",
      "Epoch 91/200\n",
      "26/26 [==============================] - 6s 214ms/step - loss: 1.8242e-04 - val_loss: 5.7107e-04\n",
      "Epoch 92/200\n",
      "26/26 [==============================] - 6s 227ms/step - loss: 1.9119e-04 - val_loss: 5.5959e-04\n",
      "Epoch 93/200\n",
      "26/26 [==============================] - 6s 224ms/step - loss: 1.8020e-04 - val_loss: 3.3331e-04\n",
      "Epoch 94/200\n",
      "26/26 [==============================] - 5s 203ms/step - loss: 1.8011e-04 - val_loss: 2.5464e-04\n",
      "Epoch 95/200\n",
      "26/26 [==============================] - 5s 209ms/step - loss: 2.1056e-04 - val_loss: 3.2240e-04\n",
      "Epoch 96/200\n",
      "26/26 [==============================] - 6s 218ms/step - loss: 1.6132e-04 - val_loss: 4.4948e-04\n",
      "Epoch 97/200\n",
      "26/26 [==============================] - 6s 219ms/step - loss: 2.0983e-04 - val_loss: 1.6768e-04\n",
      "Epoch 98/200\n",
      "26/26 [==============================] - 5s 203ms/step - loss: 1.6850e-04 - val_loss: 0.0024\n",
      "Epoch 99/200\n",
      "26/26 [==============================] - 6s 215ms/step - loss: 3.3892e-04 - val_loss: 0.0021\n",
      "Epoch 100/200\n",
      "26/26 [==============================] - 5s 208ms/step - loss: 3.3799e-04 - val_loss: 1.9399e-04\n",
      "Epoch 101/200\n",
      "26/26 [==============================] - 6s 213ms/step - loss: 1.7498e-04 - val_loss: 1.6648e-04\n",
      "Epoch 102/200\n",
      "26/26 [==============================] - 6s 216ms/step - loss: 1.4909e-04 - val_loss: 1.4847e-04\n",
      "Epoch 103/200\n",
      "26/26 [==============================] - 6s 212ms/step - loss: 1.4879e-04 - val_loss: 1.5990e-04\n",
      "Epoch 104/200\n",
      "26/26 [==============================] - 5s 207ms/step - loss: 1.6967e-04 - val_loss: 8.2498e-04\n",
      "Epoch 105/200\n",
      "26/26 [==============================] - 5s 208ms/step - loss: 2.2345e-04 - val_loss: 4.5490e-04\n",
      "Epoch 106/200\n",
      "26/26 [==============================] - 5s 206ms/step - loss: 1.8377e-04 - val_loss: 6.5204e-04\n",
      "Epoch 107/200\n",
      "26/26 [==============================] - 6s 212ms/step - loss: 1.8280e-04 - val_loss: 1.7910e-04\n",
      "Epoch 108/200\n",
      "26/26 [==============================] - 6s 218ms/step - loss: 1.4706e-04 - val_loss: 0.0016\n",
      "Epoch 109/200\n",
      "26/26 [==============================] - 5s 203ms/step - loss: 2.8302e-04 - val_loss: 7.2293e-04\n",
      "Epoch 110/200\n",
      "26/26 [==============================] - 5s 206ms/step - loss: 1.7674e-04 - val_loss: 1.4671e-04\n",
      "Epoch 111/200\n",
      "26/26 [==============================] - 6s 241ms/step - loss: 1.5717e-04 - val_loss: 0.0019\n",
      "Epoch 112/200\n",
      "26/26 [==============================] - 5s 206ms/step - loss: 2.0514e-04 - val_loss: 1.4510e-04\n",
      "Epoch 113/200\n",
      "26/26 [==============================] - 6s 218ms/step - loss: 1.6815e-04 - val_loss: 1.5252e-04\n",
      "Epoch 114/200\n",
      "26/26 [==============================] - 6s 226ms/step - loss: 1.5156e-04 - val_loss: 2.3982e-04\n",
      "Epoch 115/200\n",
      "26/26 [==============================] - 5s 206ms/step - loss: 1.6408e-04 - val_loss: 7.2323e-04\n",
      "Epoch 116/200\n",
      "26/26 [==============================] - 5s 207ms/step - loss: 2.8480e-04 - val_loss: 0.0023\n",
      "Epoch 117/200\n",
      "26/26 [==============================] - 5s 208ms/step - loss: 2.6038e-04 - val_loss: 2.7617e-04\n",
      "Epoch 118/200\n",
      "26/26 [==============================] - 5s 210ms/step - loss: 1.5841e-04 - val_loss: 2.2156e-04\n",
      "Epoch 119/200\n",
      "26/26 [==============================] - 6s 222ms/step - loss: 1.3567e-04 - val_loss: 1.1580e-04\n",
      "Epoch 120/200\n",
      "26/26 [==============================] - 6s 223ms/step - loss: 1.3717e-04 - val_loss: 3.9695e-04\n",
      "Epoch 121/200\n",
      "26/26 [==============================] - 5s 206ms/step - loss: 1.4408e-04 - val_loss: 2.7985e-04\n",
      "Epoch 122/200\n",
      "26/26 [==============================] - 5s 206ms/step - loss: 1.4669e-04 - val_loss: 2.3579e-04\n",
      "Epoch 123/200\n",
      "26/26 [==============================] - 6s 212ms/step - loss: 1.8044e-04 - val_loss: 0.0022\n",
      "Epoch 124/200\n",
      "26/26 [==============================] - 6s 217ms/step - loss: 3.8185e-04 - val_loss: 1.4675e-04\n",
      "Epoch 125/200\n",
      "26/26 [==============================] - 6s 224ms/step - loss: 1.6643e-04 - val_loss: 0.0015\n",
      "Epoch 126/200\n",
      "26/26 [==============================] - 5s 206ms/step - loss: 3.5710e-04 - val_loss: 2.4530e-04\n",
      "Epoch 127/200\n",
      "26/26 [==============================] - 5s 210ms/step - loss: 1.4738e-04 - val_loss: 1.8024e-04\n",
      "Epoch 128/200\n",
      "26/26 [==============================] - 5s 201ms/step - loss: 1.4781e-04 - val_loss: 1.5161e-04\n",
      "Epoch 129/200\n",
      "26/26 [==============================] - 5s 204ms/step - loss: 1.3285e-04 - val_loss: 3.4752e-04\n",
      "Epoch 130/200\n",
      "26/26 [==============================] - 6s 217ms/step - loss: 1.4880e-04 - val_loss: 1.5377e-04\n",
      "Epoch 131/200\n",
      "26/26 [==============================] - 6s 217ms/step - loss: 1.2755e-04 - val_loss: 3.4642e-04\n",
      "Epoch 132/200\n",
      "26/26 [==============================] - 5s 207ms/step - loss: 1.4659e-04 - val_loss: 2.3033e-04\n",
      "Epoch 133/200\n",
      "26/26 [==============================] - 5s 202ms/step - loss: 1.1986e-04 - val_loss: 2.0783e-04\n",
      "Epoch 134/200\n",
      "26/26 [==============================] - 6s 218ms/step - loss: 1.3920e-04 - val_loss: 5.5855e-04\n",
      "Epoch 135/200\n",
      "26/26 [==============================] - 5s 211ms/step - loss: 1.3836e-04 - val_loss: 1.1247e-04\n",
      "Epoch 136/200\n",
      "26/26 [==============================] - 6s 218ms/step - loss: 1.1894e-04 - val_loss: 2.1976e-04\n",
      "Epoch 137/200\n",
      "26/26 [==============================] - 6s 218ms/step - loss: 1.2760e-04 - val_loss: 1.0669e-04\n",
      "Epoch 138/200\n",
      "26/26 [==============================] - 5s 201ms/step - loss: 1.3074e-04 - val_loss: 1.1636e-04\n",
      "Epoch 139/200\n",
      "26/26 [==============================] - 5s 206ms/step - loss: 1.6274e-04 - val_loss: 3.0456e-04\n",
      "Epoch 140/200\n",
      "26/26 [==============================] - 5s 206ms/step - loss: 1.6747e-04 - val_loss: 1.7187e-04\n",
      "Epoch 141/200\n",
      "26/26 [==============================] - 6s 215ms/step - loss: 1.2431e-04 - val_loss: 1.0730e-04\n",
      "Epoch 142/200\n",
      "26/26 [==============================] - 5s 209ms/step - loss: 1.2692e-04 - val_loss: 1.6406e-04\n",
      "Epoch 143/200\n",
      "26/26 [==============================] - 5s 211ms/step - loss: 1.1177e-04 - val_loss: 1.4306e-04\n",
      "Epoch 144/200\n",
      "26/26 [==============================] - 6s 212ms/step - loss: 1.6808e-04 - val_loss: 2.5058e-04\n",
      "Epoch 145/200\n",
      "26/26 [==============================] - 6s 217ms/step - loss: 1.2610e-04 - val_loss: 2.0789e-04\n",
      "Epoch 146/200\n",
      "26/26 [==============================] - 6s 217ms/step - loss: 1.6581e-04 - val_loss: 0.0012\n",
      "Epoch 147/200\n",
      "26/26 [==============================] - 6s 239ms/step - loss: 1.8374e-04 - val_loss: 0.0052\n",
      "Epoch 148/200\n",
      "26/26 [==============================] - 6s 221ms/step - loss: 7.1223e-04 - val_loss: 1.8165e-04\n",
      "Epoch 149/200\n",
      "26/26 [==============================] - 5s 203ms/step - loss: 1.6052e-04 - val_loss: 2.8891e-04\n",
      "Epoch 150/200\n",
      "26/26 [==============================] - 5s 211ms/step - loss: 1.6195e-04 - val_loss: 1.1372e-04\n",
      "Epoch 151/200\n",
      "26/26 [==============================] - 5s 207ms/step - loss: 1.2957e-04 - val_loss: 5.6474e-04\n",
      "Epoch 152/200\n",
      "26/26 [==============================] - 5s 206ms/step - loss: 1.2911e-04 - val_loss: 8.1327e-04\n",
      "Epoch 153/200\n",
      "26/26 [==============================] - 6s 219ms/step - loss: 2.0461e-04 - val_loss: 2.0167e-04\n",
      "Epoch 154/200\n",
      "26/26 [==============================] - 6s 219ms/step - loss: 1.2049e-04 - val_loss: 1.2798e-04\n",
      "Epoch 155/200\n",
      "26/26 [==============================] - 6s 216ms/step - loss: 1.1027e-04 - val_loss: 2.2317e-04\n",
      "Epoch 156/200\n",
      "26/26 [==============================] - 6s 213ms/step - loss: 1.3282e-04 - val_loss: 2.7530e-04\n",
      "Epoch 157/200\n",
      "26/26 [==============================] - 6s 212ms/step - loss: 1.1720e-04 - val_loss: 2.9098e-04\n",
      "Epoch 158/200\n",
      "26/26 [==============================] - 6s 221ms/step - loss: 1.6079e-04 - val_loss: 5.0828e-04\n",
      "Epoch 159/200\n",
      "26/26 [==============================] - 5s 204ms/step - loss: 1.3800e-04 - val_loss: 0.0017\n",
      "Epoch 160/200\n",
      "26/26 [==============================] - 6s 217ms/step - loss: 1.9722e-04 - val_loss: 1.3163e-04\n",
      "Epoch 161/200\n",
      "26/26 [==============================] - 5s 206ms/step - loss: 1.3008e-04 - val_loss: 4.8235e-04\n",
      "Epoch 162/200\n",
      "26/26 [==============================] - 5s 207ms/step - loss: 1.3200e-04 - val_loss: 1.5338e-04\n",
      "Epoch 163/200\n",
      "26/26 [==============================] - 5s 202ms/step - loss: 1.0965e-04 - val_loss: 2.0976e-04\n",
      "Epoch 164/200\n",
      "26/26 [==============================] - 6s 241ms/step - loss: 1.2084e-04 - val_loss: 1.2270e-04\n",
      "Epoch 165/200\n",
      "26/26 [==============================] - 6s 225ms/step - loss: 1.1220e-04 - val_loss: 1.4487e-04\n",
      "Epoch 166/200\n",
      "26/26 [==============================] - 6s 218ms/step - loss: 1.0406e-04 - val_loss: 1.4938e-04\n",
      "Epoch 167/200\n",
      "26/26 [==============================] - 5s 208ms/step - loss: 1.1076e-04 - val_loss: 2.5918e-04\n",
      "Epoch 168/200\n",
      "26/26 [==============================] - 5s 210ms/step - loss: 1.5580e-04 - val_loss: 1.4381e-04\n",
      "Epoch 169/200\n",
      "26/26 [==============================] - 6s 212ms/step - loss: 1.1205e-04 - val_loss: 2.4072e-04\n",
      "Epoch 170/200\n",
      "26/26 [==============================] - 6s 214ms/step - loss: 1.1227e-04 - val_loss: 3.1684e-04\n",
      "Epoch 171/200\n",
      "26/26 [==============================] - 6s 216ms/step - loss: 1.1541e-04 - val_loss: 1.8136e-04\n",
      "Epoch 172/200\n",
      "26/26 [==============================] - 5s 200ms/step - loss: 1.2020e-04 - val_loss: 2.6362e-04\n",
      "Epoch 173/200\n",
      "26/26 [==============================] - 5s 208ms/step - loss: 1.4321e-04 - val_loss: 1.6866e-04\n",
      "Epoch 174/200\n",
      "26/26 [==============================] - 5s 207ms/step - loss: 1.1602e-04 - val_loss: 0.0013\n",
      "Epoch 175/200\n",
      "26/26 [==============================] - 6s 232ms/step - loss: 2.2206e-04 - val_loss: 7.6455e-04\n",
      "Epoch 176/200\n",
      "26/26 [==============================] - 6s 221ms/step - loss: 1.5691e-04 - val_loss: 1.1924e-04\n",
      "Epoch 177/200\n",
      "26/26 [==============================] - 6s 221ms/step - loss: 1.4051e-04 - val_loss: 3.0804e-04\n",
      "Epoch 178/200\n",
      "26/26 [==============================] - 5s 211ms/step - loss: 1.1202e-04 - val_loss: 1.9634e-04\n",
      "Epoch 179/200\n",
      "26/26 [==============================] - 6s 221ms/step - loss: 1.5420e-04 - val_loss: 4.2146e-04\n",
      "Epoch 180/200\n",
      "26/26 [==============================] - 5s 207ms/step - loss: 1.5652e-04 - val_loss: 1.3229e-04\n",
      "Epoch 181/200\n",
      "26/26 [==============================] - 6s 231ms/step - loss: 1.7885e-04 - val_loss: 3.5287e-04\n",
      "Epoch 182/200\n",
      "26/26 [==============================] - 6s 219ms/step - loss: 1.1886e-04 - val_loss: 1.1625e-04\n",
      "Epoch 183/200\n",
      "26/26 [==============================] - 6s 212ms/step - loss: 1.0854e-04 - val_loss: 2.6111e-04\n",
      "Epoch 184/200\n",
      "26/26 [==============================] - 6s 220ms/step - loss: 1.2226e-04 - val_loss: 2.8157e-04\n",
      "Epoch 185/200\n",
      "26/26 [==============================] - 5s 210ms/step - loss: 1.2883e-04 - val_loss: 1.0590e-04\n",
      "Epoch 186/200\n",
      "26/26 [==============================] - 6s 227ms/step - loss: 1.2519e-04 - val_loss: 1.8526e-04\n",
      "Epoch 187/200\n",
      "26/26 [==============================] - 6s 219ms/step - loss: 1.2142e-04 - val_loss: 4.9085e-04\n",
      "Epoch 188/200\n",
      "26/26 [==============================] - 6s 227ms/step - loss: 1.2802e-04 - val_loss: 7.1432e-04\n",
      "Epoch 189/200\n",
      "26/26 [==============================] - 6s 217ms/step - loss: 1.7022e-04 - val_loss: 1.2064e-04\n",
      "Epoch 190/200\n",
      "26/26 [==============================] - 5s 207ms/step - loss: 1.1584e-04 - val_loss: 1.8625e-04\n",
      "Epoch 191/200\n",
      "26/26 [==============================] - 5s 204ms/step - loss: 1.1830e-04 - val_loss: 1.5480e-04\n",
      "Epoch 192/200\n",
      "26/26 [==============================] - 6s 224ms/step - loss: 1.0975e-04 - val_loss: 1.3994e-04\n",
      "Epoch 193/200\n",
      "26/26 [==============================] - 5s 205ms/step - loss: 1.1323e-04 - val_loss: 3.2200e-04\n",
      "Epoch 194/200\n",
      "26/26 [==============================] - 6s 218ms/step - loss: 1.6244e-04 - val_loss: 1.2549e-04\n",
      "Epoch 195/200\n",
      "26/26 [==============================] - 5s 208ms/step - loss: 1.1037e-04 - val_loss: 5.6626e-04\n",
      "Epoch 196/200\n",
      "26/26 [==============================] - 6s 217ms/step - loss: 1.7730e-04 - val_loss: 1.7470e-04\n",
      "Epoch 197/200\n",
      "26/26 [==============================] - 6s 213ms/step - loss: 1.6199e-04 - val_loss: 7.0102e-04\n",
      "Epoch 198/200\n",
      "26/26 [==============================] - 6s 226ms/step - loss: 1.6062e-04 - val_loss: 1.3376e-04\n",
      "Epoch 199/200\n",
      "26/26 [==============================] - 6s 219ms/step - loss: 1.1757e-04 - val_loss: 1.1959e-04\n",
      "Epoch 200/200\n",
      "26/26 [==============================] - 6s 237ms/step - loss: 1.2044e-04 - val_loss: 1.3605e-04\n"
     ]
    },
    {
     "data": {
      "text/plain": [
       "<tensorflow.python.keras.callbacks.History at 0x7fa3a0118e10>"
      ]
     },
     "execution_count": 32,
     "metadata": {},
     "output_type": "execute_result"
    }
   ],
   "source": [
    "model.fit(X_train,y_train,validation_data=(X_test,ytest),epochs=200,batch_size=64,verbose=1)"
   ]
  },
  {
   "cell_type": "code",
   "execution_count": 33,
   "metadata": {
    "execution": {
     "iopub.execute_input": "2020-12-19T17:06:44.361503Z",
     "iopub.status.busy": "2020-12-19T17:06:44.360821Z",
     "iopub.status.idle": "2020-12-19T17:06:44.363921Z",
     "shell.execute_reply": "2020-12-19T17:06:44.363181Z"
    },
    "id": "k696z0zaOAWI",
    "papermill": {
     "duration": 1.921541,
     "end_time": "2020-12-19T17:06:44.364186",
     "exception": false,
     "start_time": "2020-12-19T17:06:42.442645",
     "status": "completed"
    },
    "tags": []
   },
   "outputs": [],
   "source": [
    "import tensorflow as tf"
   ]
  },
  {
   "cell_type": "code",
   "execution_count": 34,
   "metadata": {
    "execution": {
     "iopub.execute_input": "2020-12-19T17:06:48.275219Z",
     "iopub.status.busy": "2020-12-19T17:06:48.274110Z",
     "iopub.status.idle": "2020-12-19T17:06:48.279882Z",
     "shell.execute_reply": "2020-12-19T17:06:48.279316Z"
    },
    "papermill": {
     "duration": 1.911138,
     "end_time": "2020-12-19T17:06:48.280012",
     "exception": false,
     "start_time": "2020-12-19T17:06:46.368874",
     "status": "completed"
    },
    "tags": []
   },
   "outputs": [
    {
     "data": {
      "text/plain": [
       "['Prices0.csv', '__notebook__.ipynb']"
      ]
     },
     "execution_count": 34,
     "metadata": {},
     "output_type": "execute_result"
    }
   ],
   "source": [
    "import os \n",
    "aa=os.listdir()\n",
    "aa"
   ]
  },
  {
   "cell_type": "code",
   "execution_count": 35,
   "metadata": {
    "execution": {
     "iopub.execute_input": "2020-12-19T17:06:52.130809Z",
     "iopub.status.busy": "2020-12-19T17:06:52.130091Z",
     "iopub.status.idle": "2020-12-19T17:06:52.134105Z",
     "shell.execute_reply": "2020-12-19T17:06:52.133589Z"
    },
    "id": "ivI732VuOAWI",
    "outputId": "99c71d10-6b00-45db-cdf3-0cf8024ae776",
    "papermill": {
     "duration": 1.946397,
     "end_time": "2020-12-19T17:06:52.134224",
     "exception": false,
     "start_time": "2020-12-19T17:06:50.187827",
     "status": "completed"
    },
    "tags": []
   },
   "outputs": [
    {
     "data": {
      "text/plain": [
       "'2.3.1'"
      ]
     },
     "execution_count": 35,
     "metadata": {},
     "output_type": "execute_result"
    }
   ],
   "source": [
    "tf.__version__"
   ]
  },
  {
   "cell_type": "code",
   "execution_count": 36,
   "metadata": {
    "execution": {
     "iopub.execute_input": "2020-12-19T17:06:56.056281Z",
     "iopub.status.busy": "2020-12-19T17:06:56.055129Z",
     "iopub.status.idle": "2020-12-19T17:06:59.864268Z",
     "shell.execute_reply": "2020-12-19T17:06:59.863536Z"
    },
    "id": "-Vj-fgftOAWI",
    "papermill": {
     "duration": 5.763381,
     "end_time": "2020-12-19T17:06:59.864428",
     "exception": false,
     "start_time": "2020-12-19T17:06:54.101047",
     "status": "completed"
    },
    "tags": []
   },
   "outputs": [],
   "source": [
    "### Lets Do the prediction and check performance metrics\n",
    "train_predict=model.predict(X_train)\n",
    "test_predict=model.predict(X_test)"
   ]
  },
  {
   "cell_type": "code",
   "execution_count": 37,
   "metadata": {
    "execution": {
     "iopub.execute_input": "2020-12-19T17:07:03.712637Z",
     "iopub.status.busy": "2020-12-19T17:07:03.711646Z",
     "iopub.status.idle": "2020-12-19T17:07:03.714773Z",
     "shell.execute_reply": "2020-12-19T17:07:03.714092Z"
    },
    "id": "GjWY61dZOAWI",
    "papermill": {
     "duration": 1.921798,
     "end_time": "2020-12-19T17:07:03.714891",
     "exception": false,
     "start_time": "2020-12-19T17:07:01.793093",
     "status": "completed"
    },
    "tags": []
   },
   "outputs": [],
   "source": [
    "##Transformback to original form\n",
    "train_predict=scaler.inverse_transform(train_predict)\n",
    "test_predict=scaler.inverse_transform(test_predict)"
   ]
  },
  {
   "cell_type": "code",
   "execution_count": 38,
   "metadata": {
    "execution": {
     "iopub.execute_input": "2020-12-19T17:07:07.619523Z",
     "iopub.status.busy": "2020-12-19T17:07:07.618788Z",
     "iopub.status.idle": "2020-12-19T17:07:07.675913Z",
     "shell.execute_reply": "2020-12-19T17:07:07.676455Z"
    },
    "id": "mFGk1y1OOAWI",
    "outputId": "bcb127d9-3455-46df-ce2c-9d2b04d22725",
    "papermill": {
     "duration": 2.006033,
     "end_time": "2020-12-19T17:07:07.676612",
     "exception": false,
     "start_time": "2020-12-19T17:07:05.670579",
     "status": "completed"
    },
    "tags": []
   },
   "outputs": [
    {
     "data": {
      "text/plain": [
       "20489.350529420404"
      ]
     },
     "execution_count": 38,
     "metadata": {},
     "output_type": "execute_result"
    }
   ],
   "source": [
    "### Calculate RMSE performance metrics\n",
    "import math\n",
    "from sklearn.metrics import mean_squared_error\n",
    "math.sqrt(mean_squared_error(y_train,train_predict))"
   ]
  },
  {
   "cell_type": "code",
   "execution_count": 39,
   "metadata": {
    "execution": {
     "iopub.execute_input": "2020-12-19T17:07:11.479805Z",
     "iopub.status.busy": "2020-12-19T17:07:11.479116Z",
     "iopub.status.idle": "2020-12-19T17:07:11.488300Z",
     "shell.execute_reply": "2020-12-19T17:07:11.487330Z"
    },
    "id": "YBGBD5zDOAWI",
    "outputId": "a5c833fa-1c77-4365-fcc6-b1dab9ff3d54",
    "papermill": {
     "duration": 1.918155,
     "end_time": "2020-12-19T17:07:11.488485",
     "exception": false,
     "start_time": "2020-12-19T17:07:09.570330",
     "status": "completed"
    },
    "tags": []
   },
   "outputs": [
    {
     "data": {
      "text/plain": [
       "23084.46548985164"
      ]
     },
     "execution_count": 39,
     "metadata": {},
     "output_type": "execute_result"
    }
   ],
   "source": [
    "### Test Data RMSE\n",
    "math.sqrt(mean_squared_error(ytest,test_predict))"
   ]
  },
  {
   "cell_type": "code",
   "execution_count": 40,
   "metadata": {
    "execution": {
     "iopub.execute_input": "2020-12-19T17:07:15.536163Z",
     "iopub.status.busy": "2020-12-19T17:07:15.535184Z",
     "iopub.status.idle": "2020-12-19T17:07:15.538404Z",
     "shell.execute_reply": "2020-12-19T17:07:15.537706Z"
    },
    "id": "5mgNY0fkOAWI",
    "papermill": {
     "duration": 1.971566,
     "end_time": "2020-12-19T17:07:15.538547",
     "exception": false,
     "start_time": "2020-12-19T17:07:13.566981",
     "status": "completed"
    },
    "tags": []
   },
   "outputs": [],
   "source": [
    "#### Plotting \n",
    "# shift train predictions for plotting\n",
    "look_back=100\n",
    "trainPredictPlot = numpy.empty_like(df1)\n",
    "trainPredictPlot[:, :] = np.nan\n",
    "trainPredictPlot[look_back:len(train_predict)+look_back, :] = train_predict\n",
    "# shift test predictions for plotting\n",
    "testPredictPlot = numpy.empty_like(df1)\n",
    "testPredictPlot[:, :] = numpy.nan\n",
    "testPredictPlot[len(train_predict)+(look_back*2)+1:len(df1)-1, :] = test_predict\n",
    "# plot baseline and predictions\n"
   ]
  },
  {
   "cell_type": "code",
   "execution_count": 41,
   "metadata": {
    "execution": {
     "iopub.execute_input": "2020-12-19T17:07:19.530652Z",
     "iopub.status.busy": "2020-12-19T17:07:19.529945Z",
     "iopub.status.idle": "2020-12-19T17:07:19.534845Z",
     "shell.execute_reply": "2020-12-19T17:07:19.534155Z"
    },
    "id": "HQSVv9WkDIm_",
    "outputId": "2ff30a64-29ba-4c61-a524-5e6ac72140fb",
    "papermill": {
     "duration": 2.052136,
     "end_time": "2020-12-19T17:07:19.534971",
     "exception": false,
     "start_time": "2020-12-19T17:07:17.482835",
     "status": "completed"
    },
    "tags": []
   },
   "outputs": [
    {
     "data": {
      "text/html": [
       "<div>\n",
       "<style scoped>\n",
       "    .dataframe tbody tr th:only-of-type {\n",
       "        vertical-align: middle;\n",
       "    }\n",
       "\n",
       "    .dataframe tbody tr th {\n",
       "        vertical-align: top;\n",
       "    }\n",
       "\n",
       "    .dataframe thead th {\n",
       "        text-align: right;\n",
       "    }\n",
       "</style>\n",
       "<table border=\"1\" class=\"dataframe\">\n",
       "  <thead>\n",
       "    <tr style=\"text-align: right;\">\n",
       "      <th></th>\n",
       "      <th>Date</th>\n",
       "      <th>Main</th>\n",
       "      <th>Train</th>\n",
       "      <th>Test</th>\n",
       "    </tr>\n",
       "  </thead>\n",
       "  <tbody>\n",
       "    <tr>\n",
       "      <th>0</th>\n",
       "      <td>2020-12-12 18:05:00</td>\n",
       "      <td>18590.41</td>\n",
       "      <td>NaN</td>\n",
       "      <td>NaN</td>\n",
       "    </tr>\n",
       "    <tr>\n",
       "      <th>1</th>\n",
       "      <td>2020-12-12 18:10:00</td>\n",
       "      <td>18588.47</td>\n",
       "      <td>NaN</td>\n",
       "      <td>NaN</td>\n",
       "    </tr>\n",
       "    <tr>\n",
       "      <th>2</th>\n",
       "      <td>2020-12-12 18:15:00</td>\n",
       "      <td>18633.21</td>\n",
       "      <td>NaN</td>\n",
       "      <td>NaN</td>\n",
       "    </tr>\n",
       "    <tr>\n",
       "      <th>3</th>\n",
       "      <td>2020-12-12 18:20:00</td>\n",
       "      <td>18721.92</td>\n",
       "      <td>NaN</td>\n",
       "      <td>NaN</td>\n",
       "    </tr>\n",
       "    <tr>\n",
       "      <th>4</th>\n",
       "      <td>2020-12-12 18:25:00</td>\n",
       "      <td>18706.79</td>\n",
       "      <td>NaN</td>\n",
       "      <td>NaN</td>\n",
       "    </tr>\n",
       "    <tr>\n",
       "      <th>...</th>\n",
       "      <td>...</td>\n",
       "      <td>...</td>\n",
       "      <td>...</td>\n",
       "      <td>...</td>\n",
       "    </tr>\n",
       "    <tr>\n",
       "      <th>2000</th>\n",
       "      <td>2020-12-19 16:25:00</td>\n",
       "      <td>23910.07</td>\n",
       "      <td>NaN</td>\n",
       "      <td>23804.841797</td>\n",
       "    </tr>\n",
       "    <tr>\n",
       "      <th>2001</th>\n",
       "      <td>2020-12-19 16:30:00</td>\n",
       "      <td>23927.87</td>\n",
       "      <td>NaN</td>\n",
       "      <td>23794.310547</td>\n",
       "    </tr>\n",
       "    <tr>\n",
       "      <th>2002</th>\n",
       "      <td>2020-12-19 16:35:00</td>\n",
       "      <td>23925.64</td>\n",
       "      <td>NaN</td>\n",
       "      <td>23804.269531</td>\n",
       "    </tr>\n",
       "    <tr>\n",
       "      <th>2003</th>\n",
       "      <td>2020-12-19 16:40:00</td>\n",
       "      <td>24066.93</td>\n",
       "      <td>NaN</td>\n",
       "      <td>23804.873047</td>\n",
       "    </tr>\n",
       "    <tr>\n",
       "      <th>2004</th>\n",
       "      <td>2020-12-19 16:45:00</td>\n",
       "      <td>24080.73</td>\n",
       "      <td>NaN</td>\n",
       "      <td>NaN</td>\n",
       "    </tr>\n",
       "  </tbody>\n",
       "</table>\n",
       "<p>2005 rows × 4 columns</p>\n",
       "</div>"
      ],
      "text/plain": [
       "                    Date      Main  Train          Test\n",
       "0    2020-12-12 18:05:00  18590.41    NaN           NaN\n",
       "1    2020-12-12 18:10:00  18588.47    NaN           NaN\n",
       "2    2020-12-12 18:15:00  18633.21    NaN           NaN\n",
       "3    2020-12-12 18:20:00  18721.92    NaN           NaN\n",
       "4    2020-12-12 18:25:00  18706.79    NaN           NaN\n",
       "...                  ...       ...    ...           ...\n",
       "2000 2020-12-19 16:25:00  23910.07    NaN  23804.841797\n",
       "2001 2020-12-19 16:30:00  23927.87    NaN  23794.310547\n",
       "2002 2020-12-19 16:35:00  23925.64    NaN  23804.269531\n",
       "2003 2020-12-19 16:40:00  24066.93    NaN  23804.873047\n",
       "2004 2020-12-19 16:45:00  24080.73    NaN           NaN\n",
       "\n",
       "[2005 rows x 4 columns]"
      ]
     },
     "execution_count": 41,
     "metadata": {},
     "output_type": "execute_result"
    }
   ],
   "source": [
    "\n",
    "trPP=trainPredictPlot.ravel()\n",
    "tePP=testPredictPlot.ravel()\n",
    "bc={\"Date\":df11.ravel(),\"Main\":dgp.ravel(),\"Train\":trPP,\"Test\":tePP}\n",
    "bc=pd.DataFrame(data=bc)\n",
    "#bc=pd.DataFrame(trainPredictPlot,testPredictPlot#,columns=[\"Train\",\"Test\"])\n",
    "bc"
   ]
  },
  {
   "cell_type": "code",
   "execution_count": 42,
   "metadata": {
    "execution": {
     "iopub.execute_input": "2020-12-19T17:07:23.380433Z",
     "iopub.status.busy": "2020-12-19T17:07:23.379733Z",
     "iopub.status.idle": "2020-12-19T17:07:23.397820Z",
     "shell.execute_reply": "2020-12-19T17:07:23.398352Z"
    },
    "id": "_Lnp-tRGiKd1",
    "papermill": {
     "duration": 1.931616,
     "end_time": "2020-12-19T17:07:23.398587",
     "exception": false,
     "start_time": "2020-12-19T17:07:21.466971",
     "status": "completed"
    },
    "tags": []
   },
   "outputs": [],
   "source": [
    "bc.to_csv(\"TestingData.csv\")"
   ]
  },
  {
   "cell_type": "code",
   "execution_count": 43,
   "metadata": {
    "execution": {
     "iopub.execute_input": "2020-12-19T17:07:27.319640Z",
     "iopub.status.busy": "2020-12-19T17:07:27.318948Z",
     "iopub.status.idle": "2020-12-19T17:07:37.357913Z",
     "shell.execute_reply": "2020-12-19T17:07:37.357336Z"
    },
    "id": "cYAWQ3sRWc-7",
    "outputId": "b9f89b71-48f3-4553-c71c-c5fd8fffb3e5",
    "papermill": {
     "duration": 12.017536,
     "end_time": "2020-12-19T17:07:37.358040",
     "exception": false,
     "start_time": "2020-12-19T17:07:25.340504",
     "status": "completed"
    },
    "tags": []
   },
   "outputs": [
    {
     "name": "stdout",
     "output_type": "stream",
     "text": [
      "Requirement already satisfied: plotly in /opt/conda/lib/python3.7/site-packages (4.14.0)\r\n",
      "Requirement already satisfied: retrying>=1.3.3 in /opt/conda/lib/python3.7/site-packages (from plotly) (1.3.3)\r\n",
      "Requirement already satisfied: six in /opt/conda/lib/python3.7/site-packages (from plotly) (1.14.0)\r\n",
      "Requirement already satisfied: six in /opt/conda/lib/python3.7/site-packages (from plotly) (1.14.0)\r\n",
      "\u001b[33mWARNING: You are using pip version 20.3.1; however, version 20.3.3 is available.\r\n",
      "You should consider upgrading via the '/opt/conda/bin/python3.7 -m pip install --upgrade pip' command.\u001b[0m\r\n"
     ]
    }
   ],
   "source": [
    "!pip install plotly"
   ]
  },
  {
   "cell_type": "code",
   "execution_count": 44,
   "metadata": {
    "execution": {
     "iopub.execute_input": "2020-12-19T17:07:41.260055Z",
     "iopub.status.busy": "2020-12-19T17:07:41.259353Z",
     "iopub.status.idle": "2020-12-19T17:07:41.262938Z",
     "shell.execute_reply": "2020-12-19T17:07:41.262251Z"
    },
    "id": "QKDrJxWFcc1I",
    "papermill": {
     "duration": 1.988029,
     "end_time": "2020-12-19T17:07:41.263055",
     "exception": false,
     "start_time": "2020-12-19T17:07:39.275026",
     "status": "completed"
    },
    "tags": []
   },
   "outputs": [],
   "source": [
    "bc[\"Date\"]=pd.to_datetime(bc[\"Date\"])"
   ]
  },
  {
   "cell_type": "code",
   "execution_count": 45,
   "metadata": {
    "execution": {
     "iopub.execute_input": "2020-12-19T17:07:45.301974Z",
     "iopub.status.busy": "2020-12-19T17:07:45.300815Z",
     "iopub.status.idle": "2020-12-19T17:07:45.306437Z",
     "shell.execute_reply": "2020-12-19T17:07:45.305763Z"
    },
    "id": "Rnyy7H5FRS8H",
    "outputId": "0ef83986-581a-4743-f6e7-906a04592da0",
    "papermill": {
     "duration": 2.08101,
     "end_time": "2020-12-19T17:07:45.306592",
     "exception": false,
     "start_time": "2020-12-19T17:07:43.225582",
     "status": "completed"
    },
    "tags": []
   },
   "outputs": [
    {
     "data": {
      "text/plain": [
       "2005"
      ]
     },
     "execution_count": 45,
     "metadata": {},
     "output_type": "execute_result"
    }
   ],
   "source": [
    "len(trainPredictPlot)"
   ]
  },
  {
   "cell_type": "code",
   "execution_count": null,
   "metadata": {
    "id": "-uNEWLQc3M4P",
    "papermill": {
     "duration": 1.907136,
     "end_time": "2020-12-19T17:07:49.140959",
     "exception": false,
     "start_time": "2020-12-19T17:07:47.233823",
     "status": "completed"
    },
    "tags": []
   },
   "outputs": [],
   "source": []
  },
  {
   "cell_type": "code",
   "execution_count": 46,
   "metadata": {
    "execution": {
     "iopub.execute_input": "2020-12-19T17:07:53.047128Z",
     "iopub.status.busy": "2020-12-19T17:07:53.046349Z",
     "iopub.status.idle": "2020-12-19T17:07:53.049937Z",
     "shell.execute_reply": "2020-12-19T17:07:53.050485Z"
    },
    "id": "50zbMSCYOAWI",
    "outputId": "12ed320f-0a8d-4a65-803a-b034594a5b50",
    "papermill": {
     "duration": 1.963229,
     "end_time": "2020-12-19T17:07:53.050633",
     "exception": false,
     "start_time": "2020-12-19T17:07:51.087404",
     "status": "completed"
    },
    "tags": []
   },
   "outputs": [
    {
     "data": {
      "text/plain": [
       "301"
      ]
     },
     "execution_count": 46,
     "metadata": {},
     "output_type": "execute_result"
    }
   ],
   "source": [
    "len(test_data)"
   ]
  },
  {
   "cell_type": "code",
   "execution_count": 47,
   "metadata": {
    "execution": {
     "iopub.execute_input": "2020-12-19T17:07:56.905752Z",
     "iopub.status.busy": "2020-12-19T17:07:56.904850Z",
     "iopub.status.idle": "2020-12-19T17:07:56.909266Z",
     "shell.execute_reply": "2020-12-19T17:07:56.910918Z"
    },
    "id": "tTPYbH3dOAWI",
    "outputId": "8e2af612-dce9-4e66-d5d9-e6b21b7640a7",
    "papermill": {
     "duration": 1.940377,
     "end_time": "2020-12-19T17:07:56.911101",
     "exception": false,
     "start_time": "2020-12-19T17:07:54.970724",
     "status": "completed"
    },
    "tags": []
   },
   "outputs": [
    {
     "data": {
      "text/plain": [
       "(1, 100)"
      ]
     },
     "execution_count": 47,
     "metadata": {},
     "output_type": "execute_result"
    }
   ],
   "source": [
    "x_input=test_data[-100:].reshape(1,-1)\n",
    "x_input.shape\n"
   ]
  },
  {
   "cell_type": "code",
   "execution_count": 48,
   "metadata": {
    "execution": {
     "iopub.execute_input": "2020-12-19T17:08:00.817655Z",
     "iopub.status.busy": "2020-12-19T17:08:00.816691Z",
     "iopub.status.idle": "2020-12-19T17:08:00.820514Z",
     "shell.execute_reply": "2020-12-19T17:08:00.821080Z"
    },
    "id": "_CbViI-VOAWI",
    "outputId": "2ebca5af-3865-4069-a747-45040d743333",
    "papermill": {
     "duration": 1.983123,
     "end_time": "2020-12-19T17:08:00.821221",
     "exception": false,
     "start_time": "2020-12-19T17:07:58.838098",
     "status": "completed"
    },
    "tags": []
   },
   "outputs": [
    {
     "data": {
      "text/plain": [
       "0      2020-12-12 18:05:00\n",
       "1      2020-12-12 18:10:00\n",
       "2      2020-12-12 18:15:00\n",
       "3      2020-12-12 18:20:00\n",
       "4      2020-12-12 18:25:00\n",
       "               ...        \n",
       "2000   2020-12-19 16:25:00\n",
       "2001   2020-12-19 16:30:00\n",
       "2002   2020-12-19 16:35:00\n",
       "2003   2020-12-19 16:40:00\n",
       "2004   2020-12-19 16:45:00\n",
       "Name: timestamp, Length: 2005, dtype: datetime64[ns]"
      ]
     },
     "execution_count": 48,
     "metadata": {},
     "output_type": "execute_result"
    }
   ],
   "source": [
    "df11"
   ]
  },
  {
   "cell_type": "code",
   "execution_count": null,
   "metadata": {
    "id": "NBlSZs24OAWJ",
    "papermill": {
     "duration": 1.918524,
     "end_time": "2020-12-19T17:08:04.694218",
     "exception": false,
     "start_time": "2020-12-19T17:08:02.775694",
     "status": "completed"
    },
    "tags": []
   },
   "outputs": [],
   "source": []
  },
  {
   "cell_type": "code",
   "execution_count": 49,
   "metadata": {
    "execution": {
     "iopub.execute_input": "2020-12-19T17:08:08.566783Z",
     "iopub.status.busy": "2020-12-19T17:08:08.565710Z",
     "iopub.status.idle": "2020-12-19T17:08:08.568290Z",
     "shell.execute_reply": "2020-12-19T17:08:08.568850Z"
    },
    "id": "chUm5FMqOAWJ",
    "papermill": {
     "duration": 1.958147,
     "end_time": "2020-12-19T17:08:08.569083",
     "exception": false,
     "start_time": "2020-12-19T17:08:06.610936",
     "status": "completed"
    },
    "tags": []
   },
   "outputs": [],
   "source": [
    "temp_input=list(x_input)\n",
    "temp_input=temp_input[0].tolist()"
   ]
  },
  {
   "cell_type": "code",
   "execution_count": 50,
   "metadata": {
    "execution": {
     "iopub.execute_input": "2020-12-19T17:08:12.542715Z",
     "iopub.status.busy": "2020-12-19T17:08:12.542042Z",
     "iopub.status.idle": "2020-12-19T17:08:12.546704Z",
     "shell.execute_reply": "2020-12-19T17:08:12.546168Z"
    },
    "id": "QjHnT6fNOAWJ",
    "outputId": "229244de-7c77-42e2-c4f6-0735e18fa67b",
    "papermill": {
     "duration": 2.062983,
     "end_time": "2020-12-19T17:08:12.546823",
     "exception": false,
     "start_time": "2020-12-19T17:08:10.483840",
     "status": "completed"
    },
    "tags": []
   },
   "outputs": [
    {
     "data": {
      "text/plain": [
       "[0.789591170119404,\n",
       " 0.7909439829869673,\n",
       " 0.7863338589214641,\n",
       " 0.7869529119160412,\n",
       " 0.7973511814808476,\n",
       " 0.802117889539097,\n",
       " 0.794303255854603,\n",
       " 0.7989588985226486,\n",
       " 0.7996125456551586,\n",
       " 0.8022325964175043,\n",
       " 0.8050347215900193,\n",
       " 0.8012348286497724,\n",
       " 0.8017774103920794,\n",
       " 0.8038785490854408,\n",
       " 0.8067698907189391,\n",
       " 0.8002989661814985,\n",
       " 0.7980048286133576,\n",
       " 0.7993594622250213,\n",
       " 0.80810995837779,\n",
       " 0.8120901049841049,\n",
       " 0.8148703812274003,\n",
       " 0.8104204826428458,\n",
       " 0.8052714183232399,\n",
       " 0.8044721116625939,\n",
       " 0.8118479460185788,\n",
       " 0.8039422751289993,\n",
       " 0.8027788196480139,\n",
       " 0.805273239067342,\n",
       " 0.8007832841125517,\n",
       " 0.8061945355828013,\n",
       " 0.8132135040948527,\n",
       " 0.8139053868534991,\n",
       " 0.8073379628786692,\n",
       " 0.8002789379963802,\n",
       " 0.7978245749472896,\n",
       " 0.7986056741669185,\n",
       " 0.7988423709001391,\n",
       " 0.7956852006277928,\n",
       " 0.7979356403374926,\n",
       " 0.7854052794295971,\n",
       " 0.7880125849832305,\n",
       " 0.7854180246383087,\n",
       " 0.7971181262358304,\n",
       " 0.7936823821159229,\n",
       " 0.8045285547297474,\n",
       " 0.8016226471434345,\n",
       " 0.7994978387767513,\n",
       " 0.7991573596297337,\n",
       " 0.8144497893399074,\n",
       " 0.8157261309551989,\n",
       " 0.8162140903744546,\n",
       " 0.8185318976159182,\n",
       " 0.8151944736775021,\n",
       " 0.8125216213362072,\n",
       " 0.8146282222618733,\n",
       " 0.8033141184139132,\n",
       " 0.8112962605557636,\n",
       " 0.8181477206104595,\n",
       " 0.8181404376340518,\n",
       " 0.8228761930425725,\n",
       " 0.8200795301023622,\n",
       " 0.8205401783600919,\n",
       " 0.8245403531515261,\n",
       " 0.8229380983420298,\n",
       " 0.8373019485603375,\n",
       " 0.835131621591112,\n",
       " 0.8774821293966419,\n",
       " 0.884171543226286,\n",
       " 0.8974921070743194,\n",
       " 0.8926106921376626,\n",
       " 0.8893169660576885,\n",
       " 0.8355267230611809,\n",
       " 0.8558353027715362,\n",
       " 0.8626885835703342,\n",
       " 0.8675681777628879,\n",
       " 0.8637227662200986,\n",
       " 0.8540036342052271,\n",
       " 0.8586046545502222,\n",
       " 0.8716357200860849,\n",
       " 0.8940945985805482,\n",
       " 0.8957114193428573,\n",
       " 0.9138605965485973,\n",
       " 0.9021076933721273,\n",
       " 0.9148783925014476,\n",
       " 0.9064101116844427,\n",
       " 0.8875126086529037,\n",
       " 0.8826111655311295,\n",
       " 0.8901253764388426,\n",
       " 0.8971024678365551,\n",
       " 0.9039648523558603,\n",
       " 0.9088535502689239,\n",
       " 0.9260814309592047,\n",
       " 0.9641805012872662,\n",
       " 0.9891101295277349,\n",
       " 0.9769038610699421,\n",
       " 0.9689271811603963,\n",
       " 0.9721681056614213,\n",
       " 0.9717620797267421,\n",
       " 0.9974873731396543,\n",
       " 0.9999999999999996]"
      ]
     },
     "execution_count": 50,
     "metadata": {},
     "output_type": "execute_result"
    }
   ],
   "source": [
    "temp_input"
   ]
  },
  {
   "cell_type": "code",
   "execution_count": 51,
   "metadata": {
    "execution": {
     "iopub.execute_input": "2020-12-19T17:08:16.884695Z",
     "iopub.status.busy": "2020-12-19T17:08:16.883576Z",
     "iopub.status.idle": "2020-12-19T17:08:18.853840Z",
     "shell.execute_reply": "2020-12-19T17:08:18.854323Z"
    },
    "id": "WCMmFLa-OAWJ",
    "outputId": "8a054eb1-f817-4e82-dd65-cd7a84295abb",
    "papermill": {
     "duration": 4.181979,
     "end_time": "2020-12-19T17:08:18.854530",
     "exception": false,
     "start_time": "2020-12-19T17:08:14.672551",
     "status": "completed"
    },
    "tags": []
   },
   "outputs": [
    {
     "name": "stdout",
     "output_type": "stream",
     "text": [
      "[0.9719605]\n",
      "101\n",
      "1 day input [0.79094398 0.78633386 0.78695291 0.79735118 0.80211789 0.79430326\n",
      " 0.7989589  0.79961255 0.8022326  0.80503472 0.80123483 0.80177741\n",
      " 0.80387855 0.80676989 0.80029897 0.79800483 0.79935946 0.80810996\n",
      " 0.8120901  0.81487038 0.81042048 0.80527142 0.80447211 0.81184795\n",
      " 0.80394228 0.80277882 0.80527324 0.80078328 0.80619454 0.8132135\n",
      " 0.81390539 0.80733796 0.80027894 0.79782457 0.79860567 0.79884237\n",
      " 0.7956852  0.79793564 0.78540528 0.78801258 0.78541802 0.79711813\n",
      " 0.79368238 0.80452855 0.80162265 0.79949784 0.79915736 0.81444979\n",
      " 0.81572613 0.81621409 0.8185319  0.81519447 0.81252162 0.81462822\n",
      " 0.80331412 0.81129626 0.81814772 0.81814044 0.82287619 0.82007953\n",
      " 0.82054018 0.82454035 0.8229381  0.83730195 0.83513162 0.87748213\n",
      " 0.88417154 0.89749211 0.89261069 0.88931697 0.83552672 0.8558353\n",
      " 0.86268858 0.86756818 0.86372277 0.85400363 0.85860465 0.87163572\n",
      " 0.8940946  0.89571142 0.9138606  0.90210769 0.91487839 0.90641011\n",
      " 0.88751261 0.88261117 0.89012538 0.89710247 0.90396485 0.90885355\n",
      " 0.92608143 0.9641805  0.98911013 0.97690386 0.96892718 0.97216811\n",
      " 0.97176208 0.99748737 1.         0.97196048]\n",
      "1 day output [[0.9506531]]\n",
      "2 day input [0.78633386 0.78695291 0.79735118 0.80211789 0.79430326 0.7989589\n",
      " 0.79961255 0.8022326  0.80503472 0.80123483 0.80177741 0.80387855\n",
      " 0.80676989 0.80029897 0.79800483 0.79935946 0.80810996 0.8120901\n",
      " 0.81487038 0.81042048 0.80527142 0.80447211 0.81184795 0.80394228\n",
      " 0.80277882 0.80527324 0.80078328 0.80619454 0.8132135  0.81390539\n",
      " 0.80733796 0.80027894 0.79782457 0.79860567 0.79884237 0.7956852\n",
      " 0.79793564 0.78540528 0.78801258 0.78541802 0.79711813 0.79368238\n",
      " 0.80452855 0.80162265 0.79949784 0.79915736 0.81444979 0.81572613\n",
      " 0.81621409 0.8185319  0.81519447 0.81252162 0.81462822 0.80331412\n",
      " 0.81129626 0.81814772 0.81814044 0.82287619 0.82007953 0.82054018\n",
      " 0.82454035 0.8229381  0.83730195 0.83513162 0.87748213 0.88417154\n",
      " 0.89749211 0.89261069 0.88931697 0.83552672 0.8558353  0.86268858\n",
      " 0.86756818 0.86372277 0.85400363 0.85860465 0.87163572 0.8940946\n",
      " 0.89571142 0.9138606  0.90210769 0.91487839 0.90641011 0.88751261\n",
      " 0.88261117 0.89012538 0.89710247 0.90396485 0.90885355 0.92608143\n",
      " 0.9641805  0.98911013 0.97690386 0.96892718 0.97216811 0.97176208\n",
      " 0.99748737 1.         0.97196048 0.95065308]\n",
      "2 day output [[0.9358488]]\n",
      "3 day input [0.78695291 0.79735118 0.80211789 0.79430326 0.7989589  0.79961255\n",
      " 0.8022326  0.80503472 0.80123483 0.80177741 0.80387855 0.80676989\n",
      " 0.80029897 0.79800483 0.79935946 0.80810996 0.8120901  0.81487038\n",
      " 0.81042048 0.80527142 0.80447211 0.81184795 0.80394228 0.80277882\n",
      " 0.80527324 0.80078328 0.80619454 0.8132135  0.81390539 0.80733796\n",
      " 0.80027894 0.79782457 0.79860567 0.79884237 0.7956852  0.79793564\n",
      " 0.78540528 0.78801258 0.78541802 0.79711813 0.79368238 0.80452855\n",
      " 0.80162265 0.79949784 0.79915736 0.81444979 0.81572613 0.81621409\n",
      " 0.8185319  0.81519447 0.81252162 0.81462822 0.80331412 0.81129626\n",
      " 0.81814772 0.81814044 0.82287619 0.82007953 0.82054018 0.82454035\n",
      " 0.8229381  0.83730195 0.83513162 0.87748213 0.88417154 0.89749211\n",
      " 0.89261069 0.88931697 0.83552672 0.8558353  0.86268858 0.86756818\n",
      " 0.86372277 0.85400363 0.85860465 0.87163572 0.8940946  0.89571142\n",
      " 0.9138606  0.90210769 0.91487839 0.90641011 0.88751261 0.88261117\n",
      " 0.89012538 0.89710247 0.90396485 0.90885355 0.92608143 0.9641805\n",
      " 0.98911013 0.97690386 0.96892718 0.97216811 0.97176208 0.99748737\n",
      " 1.         0.97196048 0.95065308 0.93584877]\n",
      "3 day output [[0.92244375]]\n",
      "4 day input [0.79735118 0.80211789 0.79430326 0.7989589  0.79961255 0.8022326\n",
      " 0.80503472 0.80123483 0.80177741 0.80387855 0.80676989 0.80029897\n",
      " 0.79800483 0.79935946 0.80810996 0.8120901  0.81487038 0.81042048\n",
      " 0.80527142 0.80447211 0.81184795 0.80394228 0.80277882 0.80527324\n",
      " 0.80078328 0.80619454 0.8132135  0.81390539 0.80733796 0.80027894\n",
      " 0.79782457 0.79860567 0.79884237 0.7956852  0.79793564 0.78540528\n",
      " 0.78801258 0.78541802 0.79711813 0.79368238 0.80452855 0.80162265\n",
      " 0.79949784 0.79915736 0.81444979 0.81572613 0.81621409 0.8185319\n",
      " 0.81519447 0.81252162 0.81462822 0.80331412 0.81129626 0.81814772\n",
      " 0.81814044 0.82287619 0.82007953 0.82054018 0.82454035 0.8229381\n",
      " 0.83730195 0.83513162 0.87748213 0.88417154 0.89749211 0.89261069\n",
      " 0.88931697 0.83552672 0.8558353  0.86268858 0.86756818 0.86372277\n",
      " 0.85400363 0.85860465 0.87163572 0.8940946  0.89571142 0.9138606\n",
      " 0.90210769 0.91487839 0.90641011 0.88751261 0.88261117 0.89012538\n",
      " 0.89710247 0.90396485 0.90885355 0.92608143 0.9641805  0.98911013\n",
      " 0.97690386 0.96892718 0.97216811 0.97176208 0.99748737 1.\n",
      " 0.97196048 0.95065308 0.93584877 0.92244375]\n",
      "4 day output [[0.91134846]]\n",
      "5 day input [0.80211789 0.79430326 0.7989589  0.79961255 0.8022326  0.80503472\n",
      " 0.80123483 0.80177741 0.80387855 0.80676989 0.80029897 0.79800483\n",
      " 0.79935946 0.80810996 0.8120901  0.81487038 0.81042048 0.80527142\n",
      " 0.80447211 0.81184795 0.80394228 0.80277882 0.80527324 0.80078328\n",
      " 0.80619454 0.8132135  0.81390539 0.80733796 0.80027894 0.79782457\n",
      " 0.79860567 0.79884237 0.7956852  0.79793564 0.78540528 0.78801258\n",
      " 0.78541802 0.79711813 0.79368238 0.80452855 0.80162265 0.79949784\n",
      " 0.79915736 0.81444979 0.81572613 0.81621409 0.8185319  0.81519447\n",
      " 0.81252162 0.81462822 0.80331412 0.81129626 0.81814772 0.81814044\n",
      " 0.82287619 0.82007953 0.82054018 0.82454035 0.8229381  0.83730195\n",
      " 0.83513162 0.87748213 0.88417154 0.89749211 0.89261069 0.88931697\n",
      " 0.83552672 0.8558353  0.86268858 0.86756818 0.86372277 0.85400363\n",
      " 0.85860465 0.87163572 0.8940946  0.89571142 0.9138606  0.90210769\n",
      " 0.91487839 0.90641011 0.88751261 0.88261117 0.89012538 0.89710247\n",
      " 0.90396485 0.90885355 0.92608143 0.9641805  0.98911013 0.97690386\n",
      " 0.96892718 0.97216811 0.97176208 0.99748737 1.         0.97196048\n",
      " 0.95065308 0.93584877 0.92244375 0.91134846]\n",
      "5 day output [[0.90200526]]\n",
      "6 day input [0.79430326 0.7989589  0.79961255 0.8022326  0.80503472 0.80123483\n",
      " 0.80177741 0.80387855 0.80676989 0.80029897 0.79800483 0.79935946\n",
      " 0.80810996 0.8120901  0.81487038 0.81042048 0.80527142 0.80447211\n",
      " 0.81184795 0.80394228 0.80277882 0.80527324 0.80078328 0.80619454\n",
      " 0.8132135  0.81390539 0.80733796 0.80027894 0.79782457 0.79860567\n",
      " 0.79884237 0.7956852  0.79793564 0.78540528 0.78801258 0.78541802\n",
      " 0.79711813 0.79368238 0.80452855 0.80162265 0.79949784 0.79915736\n",
      " 0.81444979 0.81572613 0.81621409 0.8185319  0.81519447 0.81252162\n",
      " 0.81462822 0.80331412 0.81129626 0.81814772 0.81814044 0.82287619\n",
      " 0.82007953 0.82054018 0.82454035 0.8229381  0.83730195 0.83513162\n",
      " 0.87748213 0.88417154 0.89749211 0.89261069 0.88931697 0.83552672\n",
      " 0.8558353  0.86268858 0.86756818 0.86372277 0.85400363 0.85860465\n",
      " 0.87163572 0.8940946  0.89571142 0.9138606  0.90210769 0.91487839\n",
      " 0.90641011 0.88751261 0.88261117 0.89012538 0.89710247 0.90396485\n",
      " 0.90885355 0.92608143 0.9641805  0.98911013 0.97690386 0.96892718\n",
      " 0.97216811 0.97176208 0.99748737 1.         0.97196048 0.95065308\n",
      " 0.93584877 0.92244375 0.91134846 0.90200526]\n",
      "6 day output [[0.89348155]]\n",
      "7 day input [0.7989589  0.79961255 0.8022326  0.80503472 0.80123483 0.80177741\n",
      " 0.80387855 0.80676989 0.80029897 0.79800483 0.79935946 0.80810996\n",
      " 0.8120901  0.81487038 0.81042048 0.80527142 0.80447211 0.81184795\n",
      " 0.80394228 0.80277882 0.80527324 0.80078328 0.80619454 0.8132135\n",
      " 0.81390539 0.80733796 0.80027894 0.79782457 0.79860567 0.79884237\n",
      " 0.7956852  0.79793564 0.78540528 0.78801258 0.78541802 0.79711813\n",
      " 0.79368238 0.80452855 0.80162265 0.79949784 0.79915736 0.81444979\n",
      " 0.81572613 0.81621409 0.8185319  0.81519447 0.81252162 0.81462822\n",
      " 0.80331412 0.81129626 0.81814772 0.81814044 0.82287619 0.82007953\n",
      " 0.82054018 0.82454035 0.8229381  0.83730195 0.83513162 0.87748213\n",
      " 0.88417154 0.89749211 0.89261069 0.88931697 0.83552672 0.8558353\n",
      " 0.86268858 0.86756818 0.86372277 0.85400363 0.85860465 0.87163572\n",
      " 0.8940946  0.89571142 0.9138606  0.90210769 0.91487839 0.90641011\n",
      " 0.88751261 0.88261117 0.89012538 0.89710247 0.90396485 0.90885355\n",
      " 0.92608143 0.9641805  0.98911013 0.97690386 0.96892718 0.97216811\n",
      " 0.97176208 0.99748737 1.         0.97196048 0.95065308 0.93584877\n",
      " 0.92244375 0.91134846 0.90200526 0.89348155]\n",
      "7 day output [[0.8851898]]\n",
      "8 day input [0.79961255 0.8022326  0.80503472 0.80123483 0.80177741 0.80387855\n",
      " 0.80676989 0.80029897 0.79800483 0.79935946 0.80810996 0.8120901\n",
      " 0.81487038 0.81042048 0.80527142 0.80447211 0.81184795 0.80394228\n",
      " 0.80277882 0.80527324 0.80078328 0.80619454 0.8132135  0.81390539\n",
      " 0.80733796 0.80027894 0.79782457 0.79860567 0.79884237 0.7956852\n",
      " 0.79793564 0.78540528 0.78801258 0.78541802 0.79711813 0.79368238\n",
      " 0.80452855 0.80162265 0.79949784 0.79915736 0.81444979 0.81572613\n",
      " 0.81621409 0.8185319  0.81519447 0.81252162 0.81462822 0.80331412\n",
      " 0.81129626 0.81814772 0.81814044 0.82287619 0.82007953 0.82054018\n",
      " 0.82454035 0.8229381  0.83730195 0.83513162 0.87748213 0.88417154\n",
      " 0.89749211 0.89261069 0.88931697 0.83552672 0.8558353  0.86268858\n",
      " 0.86756818 0.86372277 0.85400363 0.85860465 0.87163572 0.8940946\n",
      " 0.89571142 0.9138606  0.90210769 0.91487839 0.90641011 0.88751261\n",
      " 0.88261117 0.89012538 0.89710247 0.90396485 0.90885355 0.92608143\n",
      " 0.9641805  0.98911013 0.97690386 0.96892718 0.97216811 0.97176208\n",
      " 0.99748737 1.         0.97196048 0.95065308 0.93584877 0.92244375\n",
      " 0.91134846 0.90200526 0.89348155 0.88518977]\n",
      "8 day output [[0.87682337]]\n",
      "9 day input [0.8022326  0.80503472 0.80123483 0.80177741 0.80387855 0.80676989\n",
      " 0.80029897 0.79800483 0.79935946 0.80810996 0.8120901  0.81487038\n",
      " 0.81042048 0.80527142 0.80447211 0.81184795 0.80394228 0.80277882\n",
      " 0.80527324 0.80078328 0.80619454 0.8132135  0.81390539 0.80733796\n",
      " 0.80027894 0.79782457 0.79860567 0.79884237 0.7956852  0.79793564\n",
      " 0.78540528 0.78801258 0.78541802 0.79711813 0.79368238 0.80452855\n",
      " 0.80162265 0.79949784 0.79915736 0.81444979 0.81572613 0.81621409\n",
      " 0.8185319  0.81519447 0.81252162 0.81462822 0.80331412 0.81129626\n",
      " 0.81814772 0.81814044 0.82287619 0.82007953 0.82054018 0.82454035\n",
      " 0.8229381  0.83730195 0.83513162 0.87748213 0.88417154 0.89749211\n",
      " 0.89261069 0.88931697 0.83552672 0.8558353  0.86268858 0.86756818\n",
      " 0.86372277 0.85400363 0.85860465 0.87163572 0.8940946  0.89571142\n",
      " 0.9138606  0.90210769 0.91487839 0.90641011 0.88751261 0.88261117\n",
      " 0.89012538 0.89710247 0.90396485 0.90885355 0.92608143 0.9641805\n",
      " 0.98911013 0.97690386 0.96892718 0.97216811 0.97176208 0.99748737\n",
      " 1.         0.97196048 0.95065308 0.93584877 0.92244375 0.91134846\n",
      " 0.90200526 0.89348155 0.88518977 0.87682337]\n",
      "9 day output [[0.8682897]]\n",
      "10 day input [0.80503472 0.80123483 0.80177741 0.80387855 0.80676989 0.80029897\n",
      " 0.79800483 0.79935946 0.80810996 0.8120901  0.81487038 0.81042048\n",
      " 0.80527142 0.80447211 0.81184795 0.80394228 0.80277882 0.80527324\n",
      " 0.80078328 0.80619454 0.8132135  0.81390539 0.80733796 0.80027894\n",
      " 0.79782457 0.79860567 0.79884237 0.7956852  0.79793564 0.78540528\n",
      " 0.78801258 0.78541802 0.79711813 0.79368238 0.80452855 0.80162265\n",
      " 0.79949784 0.79915736 0.81444979 0.81572613 0.81621409 0.8185319\n",
      " 0.81519447 0.81252162 0.81462822 0.80331412 0.81129626 0.81814772\n",
      " 0.81814044 0.82287619 0.82007953 0.82054018 0.82454035 0.8229381\n",
      " 0.83730195 0.83513162 0.87748213 0.88417154 0.89749211 0.89261069\n",
      " 0.88931697 0.83552672 0.8558353  0.86268858 0.86756818 0.86372277\n",
      " 0.85400363 0.85860465 0.87163572 0.8940946  0.89571142 0.9138606\n",
      " 0.90210769 0.91487839 0.90641011 0.88751261 0.88261117 0.89012538\n",
      " 0.89710247 0.90396485 0.90885355 0.92608143 0.9641805  0.98911013\n",
      " 0.97690386 0.96892718 0.97216811 0.97176208 0.99748737 1.\n",
      " 0.97196048 0.95065308 0.93584877 0.92244375 0.91134846 0.90200526\n",
      " 0.89348155 0.88518977 0.87682337 0.86828971]\n",
      "10 day output [[0.8596764]]\n",
      "11 day input [0.80123483 0.80177741 0.80387855 0.80676989 0.80029897 0.79800483\n",
      " 0.79935946 0.80810996 0.8120901  0.81487038 0.81042048 0.80527142\n",
      " 0.80447211 0.81184795 0.80394228 0.80277882 0.80527324 0.80078328\n",
      " 0.80619454 0.8132135  0.81390539 0.80733796 0.80027894 0.79782457\n",
      " 0.79860567 0.79884237 0.7956852  0.79793564 0.78540528 0.78801258\n",
      " 0.78541802 0.79711813 0.79368238 0.80452855 0.80162265 0.79949784\n",
      " 0.79915736 0.81444979 0.81572613 0.81621409 0.8185319  0.81519447\n",
      " 0.81252162 0.81462822 0.80331412 0.81129626 0.81814772 0.81814044\n",
      " 0.82287619 0.82007953 0.82054018 0.82454035 0.8229381  0.83730195\n",
      " 0.83513162 0.87748213 0.88417154 0.89749211 0.89261069 0.88931697\n",
      " 0.83552672 0.8558353  0.86268858 0.86756818 0.86372277 0.85400363\n",
      " 0.85860465 0.87163572 0.8940946  0.89571142 0.9138606  0.90210769\n",
      " 0.91487839 0.90641011 0.88751261 0.88261117 0.89012538 0.89710247\n",
      " 0.90396485 0.90885355 0.92608143 0.9641805  0.98911013 0.97690386\n",
      " 0.96892718 0.97216811 0.97176208 0.99748737 1.         0.97196048\n",
      " 0.95065308 0.93584877 0.92244375 0.91134846 0.90200526 0.89348155\n",
      " 0.88518977 0.87682337 0.86828971 0.85967642]\n",
      "11 day output [[0.85116184]]\n",
      "12 day input [0.80177741 0.80387855 0.80676989 0.80029897 0.79800483 0.79935946\n",
      " 0.80810996 0.8120901  0.81487038 0.81042048 0.80527142 0.80447211\n",
      " 0.81184795 0.80394228 0.80277882 0.80527324 0.80078328 0.80619454\n",
      " 0.8132135  0.81390539 0.80733796 0.80027894 0.79782457 0.79860567\n",
      " 0.79884237 0.7956852  0.79793564 0.78540528 0.78801258 0.78541802\n",
      " 0.79711813 0.79368238 0.80452855 0.80162265 0.79949784 0.79915736\n",
      " 0.81444979 0.81572613 0.81621409 0.8185319  0.81519447 0.81252162\n",
      " 0.81462822 0.80331412 0.81129626 0.81814772 0.81814044 0.82287619\n",
      " 0.82007953 0.82054018 0.82454035 0.8229381  0.83730195 0.83513162\n",
      " 0.87748213 0.88417154 0.89749211 0.89261069 0.88931697 0.83552672\n",
      " 0.8558353  0.86268858 0.86756818 0.86372277 0.85400363 0.85860465\n",
      " 0.87163572 0.8940946  0.89571142 0.9138606  0.90210769 0.91487839\n",
      " 0.90641011 0.88751261 0.88261117 0.89012538 0.89710247 0.90396485\n",
      " 0.90885355 0.92608143 0.9641805  0.98911013 0.97690386 0.96892718\n",
      " 0.97216811 0.97176208 0.99748737 1.         0.97196048 0.95065308\n",
      " 0.93584877 0.92244375 0.91134846 0.90200526 0.89348155 0.88518977\n",
      " 0.87682337 0.86828971 0.85967642 0.85116184]\n",
      "12 day output [[0.8429481]]\n",
      "13 day input [0.80387855 0.80676989 0.80029897 0.79800483 0.79935946 0.80810996\n",
      " 0.8120901  0.81487038 0.81042048 0.80527142 0.80447211 0.81184795\n",
      " 0.80394228 0.80277882 0.80527324 0.80078328 0.80619454 0.8132135\n",
      " 0.81390539 0.80733796 0.80027894 0.79782457 0.79860567 0.79884237\n",
      " 0.7956852  0.79793564 0.78540528 0.78801258 0.78541802 0.79711813\n",
      " 0.79368238 0.80452855 0.80162265 0.79949784 0.79915736 0.81444979\n",
      " 0.81572613 0.81621409 0.8185319  0.81519447 0.81252162 0.81462822\n",
      " 0.80331412 0.81129626 0.81814772 0.81814044 0.82287619 0.82007953\n",
      " 0.82054018 0.82454035 0.8229381  0.83730195 0.83513162 0.87748213\n",
      " 0.88417154 0.89749211 0.89261069 0.88931697 0.83552672 0.8558353\n",
      " 0.86268858 0.86756818 0.86372277 0.85400363 0.85860465 0.87163572\n",
      " 0.8940946  0.89571142 0.9138606  0.90210769 0.91487839 0.90641011\n",
      " 0.88751261 0.88261117 0.89012538 0.89710247 0.90396485 0.90885355\n",
      " 0.92608143 0.9641805  0.98911013 0.97690386 0.96892718 0.97216811\n",
      " 0.97176208 0.99748737 1.         0.97196048 0.95065308 0.93584877\n",
      " 0.92244375 0.91134846 0.90200526 0.89348155 0.88518977 0.87682337\n",
      " 0.86828971 0.85967642 0.85116184 0.84294808]\n",
      "13 day output [[0.83521605]]\n",
      "14 day input [0.80676989 0.80029897 0.79800483 0.79935946 0.80810996 0.8120901\n",
      " 0.81487038 0.81042048 0.80527142 0.80447211 0.81184795 0.80394228\n",
      " 0.80277882 0.80527324 0.80078328 0.80619454 0.8132135  0.81390539\n",
      " 0.80733796 0.80027894 0.79782457 0.79860567 0.79884237 0.7956852\n",
      " 0.79793564 0.78540528 0.78801258 0.78541802 0.79711813 0.79368238\n",
      " 0.80452855 0.80162265 0.79949784 0.79915736 0.81444979 0.81572613\n",
      " 0.81621409 0.8185319  0.81519447 0.81252162 0.81462822 0.80331412\n",
      " 0.81129626 0.81814772 0.81814044 0.82287619 0.82007953 0.82054018\n",
      " 0.82454035 0.8229381  0.83730195 0.83513162 0.87748213 0.88417154\n",
      " 0.89749211 0.89261069 0.88931697 0.83552672 0.8558353  0.86268858\n",
      " 0.86756818 0.86372277 0.85400363 0.85860465 0.87163572 0.8940946\n",
      " 0.89571142 0.9138606  0.90210769 0.91487839 0.90641011 0.88751261\n",
      " 0.88261117 0.89012538 0.89710247 0.90396485 0.90885355 0.92608143\n",
      " 0.9641805  0.98911013 0.97690386 0.96892718 0.97216811 0.97176208\n",
      " 0.99748737 1.         0.97196048 0.95065308 0.93584877 0.92244375\n",
      " 0.91134846 0.90200526 0.89348155 0.88518977 0.87682337 0.86828971\n",
      " 0.85967642 0.85116184 0.84294808 0.83521605]\n",
      "14 day output [[0.8281004]]\n",
      "15 day input [0.80029897 0.79800483 0.79935946 0.80810996 0.8120901  0.81487038\n",
      " 0.81042048 0.80527142 0.80447211 0.81184795 0.80394228 0.80277882\n",
      " 0.80527324 0.80078328 0.80619454 0.8132135  0.81390539 0.80733796\n",
      " 0.80027894 0.79782457 0.79860567 0.79884237 0.7956852  0.79793564\n",
      " 0.78540528 0.78801258 0.78541802 0.79711813 0.79368238 0.80452855\n",
      " 0.80162265 0.79949784 0.79915736 0.81444979 0.81572613 0.81621409\n",
      " 0.8185319  0.81519447 0.81252162 0.81462822 0.80331412 0.81129626\n",
      " 0.81814772 0.81814044 0.82287619 0.82007953 0.82054018 0.82454035\n",
      " 0.8229381  0.83730195 0.83513162 0.87748213 0.88417154 0.89749211\n",
      " 0.89261069 0.88931697 0.83552672 0.8558353  0.86268858 0.86756818\n",
      " 0.86372277 0.85400363 0.85860465 0.87163572 0.8940946  0.89571142\n",
      " 0.9138606  0.90210769 0.91487839 0.90641011 0.88751261 0.88261117\n",
      " 0.89012538 0.89710247 0.90396485 0.90885355 0.92608143 0.9641805\n",
      " 0.98911013 0.97690386 0.96892718 0.97216811 0.97176208 0.99748737\n",
      " 1.         0.97196048 0.95065308 0.93584877 0.92244375 0.91134846\n",
      " 0.90200526 0.89348155 0.88518977 0.87682337 0.86828971 0.85967642\n",
      " 0.85116184 0.84294808 0.83521605 0.82810038]\n",
      "15 day output [[0.821683]]\n",
      "16 day input [0.79800483 0.79935946 0.80810996 0.8120901  0.81487038 0.81042048\n",
      " 0.80527142 0.80447211 0.81184795 0.80394228 0.80277882 0.80527324\n",
      " 0.80078328 0.80619454 0.8132135  0.81390539 0.80733796 0.80027894\n",
      " 0.79782457 0.79860567 0.79884237 0.7956852  0.79793564 0.78540528\n",
      " 0.78801258 0.78541802 0.79711813 0.79368238 0.80452855 0.80162265\n",
      " 0.79949784 0.79915736 0.81444979 0.81572613 0.81621409 0.8185319\n",
      " 0.81519447 0.81252162 0.81462822 0.80331412 0.81129626 0.81814772\n",
      " 0.81814044 0.82287619 0.82007953 0.82054018 0.82454035 0.8229381\n",
      " 0.83730195 0.83513162 0.87748213 0.88417154 0.89749211 0.89261069\n",
      " 0.88931697 0.83552672 0.8558353  0.86268858 0.86756818 0.86372277\n",
      " 0.85400363 0.85860465 0.87163572 0.8940946  0.89571142 0.9138606\n",
      " 0.90210769 0.91487839 0.90641011 0.88751261 0.88261117 0.89012538\n",
      " 0.89710247 0.90396485 0.90885355 0.92608143 0.9641805  0.98911013\n",
      " 0.97690386 0.96892718 0.97216811 0.97176208 0.99748737 1.\n",
      " 0.97196048 0.95065308 0.93584877 0.92244375 0.91134846 0.90200526\n",
      " 0.89348155 0.88518977 0.87682337 0.86828971 0.85967642 0.85116184\n",
      " 0.84294808 0.83521605 0.82810038 0.82168299]\n",
      "16 day output [[0.8159977]]\n",
      "17 day input [0.79935946 0.80810996 0.8120901  0.81487038 0.81042048 0.80527142\n",
      " 0.80447211 0.81184795 0.80394228 0.80277882 0.80527324 0.80078328\n",
      " 0.80619454 0.8132135  0.81390539 0.80733796 0.80027894 0.79782457\n",
      " 0.79860567 0.79884237 0.7956852  0.79793564 0.78540528 0.78801258\n",
      " 0.78541802 0.79711813 0.79368238 0.80452855 0.80162265 0.79949784\n",
      " 0.79915736 0.81444979 0.81572613 0.81621409 0.8185319  0.81519447\n",
      " 0.81252162 0.81462822 0.80331412 0.81129626 0.81814772 0.81814044\n",
      " 0.82287619 0.82007953 0.82054018 0.82454035 0.8229381  0.83730195\n",
      " 0.83513162 0.87748213 0.88417154 0.89749211 0.89261069 0.88931697\n",
      " 0.83552672 0.8558353  0.86268858 0.86756818 0.86372277 0.85400363\n",
      " 0.85860465 0.87163572 0.8940946  0.89571142 0.9138606  0.90210769\n",
      " 0.91487839 0.90641011 0.88751261 0.88261117 0.89012538 0.89710247\n",
      " 0.90396485 0.90885355 0.92608143 0.9641805  0.98911013 0.97690386\n",
      " 0.96892718 0.97216811 0.97176208 0.99748737 1.         0.97196048\n",
      " 0.95065308 0.93584877 0.92244375 0.91134846 0.90200526 0.89348155\n",
      " 0.88518977 0.87682337 0.86828971 0.85967642 0.85116184 0.84294808\n",
      " 0.83521605 0.82810038 0.82168299 0.81599772]\n",
      "17 day output [[0.81104195]]\n",
      "18 day input [0.80810996 0.8120901  0.81487038 0.81042048 0.80527142 0.80447211\n",
      " 0.81184795 0.80394228 0.80277882 0.80527324 0.80078328 0.80619454\n",
      " 0.8132135  0.81390539 0.80733796 0.80027894 0.79782457 0.79860567\n",
      " 0.79884237 0.7956852  0.79793564 0.78540528 0.78801258 0.78541802\n",
      " 0.79711813 0.79368238 0.80452855 0.80162265 0.79949784 0.79915736\n",
      " 0.81444979 0.81572613 0.81621409 0.8185319  0.81519447 0.81252162\n",
      " 0.81462822 0.80331412 0.81129626 0.81814772 0.81814044 0.82287619\n",
      " 0.82007953 0.82054018 0.82454035 0.8229381  0.83730195 0.83513162\n",
      " 0.87748213 0.88417154 0.89749211 0.89261069 0.88931697 0.83552672\n",
      " 0.8558353  0.86268858 0.86756818 0.86372277 0.85400363 0.85860465\n",
      " 0.87163572 0.8940946  0.89571142 0.9138606  0.90210769 0.91487839\n",
      " 0.90641011 0.88751261 0.88261117 0.89012538 0.89710247 0.90396485\n",
      " 0.90885355 0.92608143 0.9641805  0.98911013 0.97690386 0.96892718\n",
      " 0.97216811 0.97176208 0.99748737 1.         0.97196048 0.95065308\n",
      " 0.93584877 0.92244375 0.91134846 0.90200526 0.89348155 0.88518977\n",
      " 0.87682337 0.86828971 0.85967642 0.85116184 0.84294808 0.83521605\n",
      " 0.82810038 0.82168299 0.81599772 0.81104195]\n",
      "18 day output [[0.8067879]]\n",
      "19 day input [0.8120901  0.81487038 0.81042048 0.80527142 0.80447211 0.81184795\n",
      " 0.80394228 0.80277882 0.80527324 0.80078328 0.80619454 0.8132135\n",
      " 0.81390539 0.80733796 0.80027894 0.79782457 0.79860567 0.79884237\n",
      " 0.7956852  0.79793564 0.78540528 0.78801258 0.78541802 0.79711813\n",
      " 0.79368238 0.80452855 0.80162265 0.79949784 0.79915736 0.81444979\n",
      " 0.81572613 0.81621409 0.8185319  0.81519447 0.81252162 0.81462822\n",
      " 0.80331412 0.81129626 0.81814772 0.81814044 0.82287619 0.82007953\n",
      " 0.82054018 0.82454035 0.8229381  0.83730195 0.83513162 0.87748213\n",
      " 0.88417154 0.89749211 0.89261069 0.88931697 0.83552672 0.8558353\n",
      " 0.86268858 0.86756818 0.86372277 0.85400363 0.85860465 0.87163572\n",
      " 0.8940946  0.89571142 0.9138606  0.90210769 0.91487839 0.90641011\n",
      " 0.88751261 0.88261117 0.89012538 0.89710247 0.90396485 0.90885355\n",
      " 0.92608143 0.9641805  0.98911013 0.97690386 0.96892718 0.97216811\n",
      " 0.97176208 0.99748737 1.         0.97196048 0.95065308 0.93584877\n",
      " 0.92244375 0.91134846 0.90200526 0.89348155 0.88518977 0.87682337\n",
      " 0.86828971 0.85967642 0.85116184 0.84294808 0.83521605 0.82810038\n",
      " 0.82168299 0.81599772 0.81104195 0.80678791]\n",
      "19 day output [[0.80319333]]\n",
      "20 day input [0.81487038 0.81042048 0.80527142 0.80447211 0.81184795 0.80394228\n",
      " 0.80277882 0.80527324 0.80078328 0.80619454 0.8132135  0.81390539\n",
      " 0.80733796 0.80027894 0.79782457 0.79860567 0.79884237 0.7956852\n",
      " 0.79793564 0.78540528 0.78801258 0.78541802 0.79711813 0.79368238\n",
      " 0.80452855 0.80162265 0.79949784 0.79915736 0.81444979 0.81572613\n",
      " 0.81621409 0.8185319  0.81519447 0.81252162 0.81462822 0.80331412\n",
      " 0.81129626 0.81814772 0.81814044 0.82287619 0.82007953 0.82054018\n",
      " 0.82454035 0.8229381  0.83730195 0.83513162 0.87748213 0.88417154\n",
      " 0.89749211 0.89261069 0.88931697 0.83552672 0.8558353  0.86268858\n",
      " 0.86756818 0.86372277 0.85400363 0.85860465 0.87163572 0.8940946\n",
      " 0.89571142 0.9138606  0.90210769 0.91487839 0.90641011 0.88751261\n",
      " 0.88261117 0.89012538 0.89710247 0.90396485 0.90885355 0.92608143\n",
      " 0.9641805  0.98911013 0.97690386 0.96892718 0.97216811 0.97176208\n",
      " 0.99748737 1.         0.97196048 0.95065308 0.93584877 0.92244375\n",
      " 0.91134846 0.90200526 0.89348155 0.88518977 0.87682337 0.86828971\n",
      " 0.85967642 0.85116184 0.84294808 0.83521605 0.82810038 0.82168299\n",
      " 0.81599772 0.81104195 0.80678791 0.80319333]\n",
      "20 day output [[0.8002084]]\n",
      "21 day input [0.81042048 0.80527142 0.80447211 0.81184795 0.80394228 0.80277882\n",
      " 0.80527324 0.80078328 0.80619454 0.8132135  0.81390539 0.80733796\n",
      " 0.80027894 0.79782457 0.79860567 0.79884237 0.7956852  0.79793564\n",
      " 0.78540528 0.78801258 0.78541802 0.79711813 0.79368238 0.80452855\n",
      " 0.80162265 0.79949784 0.79915736 0.81444979 0.81572613 0.81621409\n",
      " 0.8185319  0.81519447 0.81252162 0.81462822 0.80331412 0.81129626\n",
      " 0.81814772 0.81814044 0.82287619 0.82007953 0.82054018 0.82454035\n",
      " 0.8229381  0.83730195 0.83513162 0.87748213 0.88417154 0.89749211\n",
      " 0.89261069 0.88931697 0.83552672 0.8558353  0.86268858 0.86756818\n",
      " 0.86372277 0.85400363 0.85860465 0.87163572 0.8940946  0.89571142\n",
      " 0.9138606  0.90210769 0.91487839 0.90641011 0.88751261 0.88261117\n",
      " 0.89012538 0.89710247 0.90396485 0.90885355 0.92608143 0.9641805\n",
      " 0.98911013 0.97690386 0.96892718 0.97216811 0.97176208 0.99748737\n",
      " 1.         0.97196048 0.95065308 0.93584877 0.92244375 0.91134846\n",
      " 0.90200526 0.89348155 0.88518977 0.87682337 0.86828971 0.85967642\n",
      " 0.85116184 0.84294808 0.83521605 0.82810038 0.82168299 0.81599772\n",
      " 0.81104195 0.80678791 0.80319333 0.80020839]\n",
      "21 day output [[0.79778224]]\n",
      "22 day input [0.80527142 0.80447211 0.81184795 0.80394228 0.80277882 0.80527324\n",
      " 0.80078328 0.80619454 0.8132135  0.81390539 0.80733796 0.80027894\n",
      " 0.79782457 0.79860567 0.79884237 0.7956852  0.79793564 0.78540528\n",
      " 0.78801258 0.78541802 0.79711813 0.79368238 0.80452855 0.80162265\n",
      " 0.79949784 0.79915736 0.81444979 0.81572613 0.81621409 0.8185319\n",
      " 0.81519447 0.81252162 0.81462822 0.80331412 0.81129626 0.81814772\n",
      " 0.81814044 0.82287619 0.82007953 0.82054018 0.82454035 0.8229381\n",
      " 0.83730195 0.83513162 0.87748213 0.88417154 0.89749211 0.89261069\n",
      " 0.88931697 0.83552672 0.8558353  0.86268858 0.86756818 0.86372277\n",
      " 0.85400363 0.85860465 0.87163572 0.8940946  0.89571142 0.9138606\n",
      " 0.90210769 0.91487839 0.90641011 0.88751261 0.88261117 0.89012538\n",
      " 0.89710247 0.90396485 0.90885355 0.92608143 0.9641805  0.98911013\n",
      " 0.97690386 0.96892718 0.97216811 0.97176208 0.99748737 1.\n",
      " 0.97196048 0.95065308 0.93584877 0.92244375 0.91134846 0.90200526\n",
      " 0.89348155 0.88518977 0.87682337 0.86828971 0.85967642 0.85116184\n",
      " 0.84294808 0.83521605 0.82810038 0.82168299 0.81599772 0.81104195\n",
      " 0.80678791 0.80319333 0.80020839 0.79778224]\n",
      "22 day output [[0.7958645]]\n",
      "23 day input [0.80447211 0.81184795 0.80394228 0.80277882 0.80527324 0.80078328\n",
      " 0.80619454 0.8132135  0.81390539 0.80733796 0.80027894 0.79782457\n",
      " 0.79860567 0.79884237 0.7956852  0.79793564 0.78540528 0.78801258\n",
      " 0.78541802 0.79711813 0.79368238 0.80452855 0.80162265 0.79949784\n",
      " 0.79915736 0.81444979 0.81572613 0.81621409 0.8185319  0.81519447\n",
      " 0.81252162 0.81462822 0.80331412 0.81129626 0.81814772 0.81814044\n",
      " 0.82287619 0.82007953 0.82054018 0.82454035 0.8229381  0.83730195\n",
      " 0.83513162 0.87748213 0.88417154 0.89749211 0.89261069 0.88931697\n",
      " 0.83552672 0.8558353  0.86268858 0.86756818 0.86372277 0.85400363\n",
      " 0.85860465 0.87163572 0.8940946  0.89571142 0.9138606  0.90210769\n",
      " 0.91487839 0.90641011 0.88751261 0.88261117 0.89012538 0.89710247\n",
      " 0.90396485 0.90885355 0.92608143 0.9641805  0.98911013 0.97690386\n",
      " 0.96892718 0.97216811 0.97176208 0.99748737 1.         0.97196048\n",
      " 0.95065308 0.93584877 0.92244375 0.91134846 0.90200526 0.89348155\n",
      " 0.88518977 0.87682337 0.86828971 0.85967642 0.85116184 0.84294808\n",
      " 0.83521605 0.82810038 0.82168299 0.81599772 0.81104195 0.80678791\n",
      " 0.80319333 0.80020839 0.79778224 0.79586452]\n",
      "23 day output [[0.7944055]]\n",
      "24 day input [0.81184795 0.80394228 0.80277882 0.80527324 0.80078328 0.80619454\n",
      " 0.8132135  0.81390539 0.80733796 0.80027894 0.79782457 0.79860567\n",
      " 0.79884237 0.7956852  0.79793564 0.78540528 0.78801258 0.78541802\n",
      " 0.79711813 0.79368238 0.80452855 0.80162265 0.79949784 0.79915736\n",
      " 0.81444979 0.81572613 0.81621409 0.8185319  0.81519447 0.81252162\n",
      " 0.81462822 0.80331412 0.81129626 0.81814772 0.81814044 0.82287619\n",
      " 0.82007953 0.82054018 0.82454035 0.8229381  0.83730195 0.83513162\n",
      " 0.87748213 0.88417154 0.89749211 0.89261069 0.88931697 0.83552672\n",
      " 0.8558353  0.86268858 0.86756818 0.86372277 0.85400363 0.85860465\n",
      " 0.87163572 0.8940946  0.89571142 0.9138606  0.90210769 0.91487839\n",
      " 0.90641011 0.88751261 0.88261117 0.89012538 0.89710247 0.90396485\n",
      " 0.90885355 0.92608143 0.9641805  0.98911013 0.97690386 0.96892718\n",
      " 0.97216811 0.97176208 0.99748737 1.         0.97196048 0.95065308\n",
      " 0.93584877 0.92244375 0.91134846 0.90200526 0.89348155 0.88518977\n",
      " 0.87682337 0.86828971 0.85967642 0.85116184 0.84294808 0.83521605\n",
      " 0.82810038 0.82168299 0.81599772 0.81104195 0.80678791 0.80319333\n",
      " 0.80020839 0.79778224 0.79586452 0.79440552]\n",
      "24 day output [[0.79335743]]\n",
      "25 day input [0.80394228 0.80277882 0.80527324 0.80078328 0.80619454 0.8132135\n",
      " 0.81390539 0.80733796 0.80027894 0.79782457 0.79860567 0.79884237\n",
      " 0.7956852  0.79793564 0.78540528 0.78801258 0.78541802 0.79711813\n",
      " 0.79368238 0.80452855 0.80162265 0.79949784 0.79915736 0.81444979\n",
      " 0.81572613 0.81621409 0.8185319  0.81519447 0.81252162 0.81462822\n",
      " 0.80331412 0.81129626 0.81814772 0.81814044 0.82287619 0.82007953\n",
      " 0.82054018 0.82454035 0.8229381  0.83730195 0.83513162 0.87748213\n",
      " 0.88417154 0.89749211 0.89261069 0.88931697 0.83552672 0.8558353\n",
      " 0.86268858 0.86756818 0.86372277 0.85400363 0.85860465 0.87163572\n",
      " 0.8940946  0.89571142 0.9138606  0.90210769 0.91487839 0.90641011\n",
      " 0.88751261 0.88261117 0.89012538 0.89710247 0.90396485 0.90885355\n",
      " 0.92608143 0.9641805  0.98911013 0.97690386 0.96892718 0.97216811\n",
      " 0.97176208 0.99748737 1.         0.97196048 0.95065308 0.93584877\n",
      " 0.92244375 0.91134846 0.90200526 0.89348155 0.88518977 0.87682337\n",
      " 0.86828971 0.85967642 0.85116184 0.84294808 0.83521605 0.82810038\n",
      " 0.82168299 0.81599772 0.81104195 0.80678791 0.80319333 0.80020839\n",
      " 0.79778224 0.79586452 0.79440552 0.79335743]\n",
      "25 day output [[0.79267293]]\n",
      "26 day input [0.80277882 0.80527324 0.80078328 0.80619454 0.8132135  0.81390539\n",
      " 0.80733796 0.80027894 0.79782457 0.79860567 0.79884237 0.7956852\n",
      " 0.79793564 0.78540528 0.78801258 0.78541802 0.79711813 0.79368238\n",
      " 0.80452855 0.80162265 0.79949784 0.79915736 0.81444979 0.81572613\n",
      " 0.81621409 0.8185319  0.81519447 0.81252162 0.81462822 0.80331412\n",
      " 0.81129626 0.81814772 0.81814044 0.82287619 0.82007953 0.82054018\n",
      " 0.82454035 0.8229381  0.83730195 0.83513162 0.87748213 0.88417154\n",
      " 0.89749211 0.89261069 0.88931697 0.83552672 0.8558353  0.86268858\n",
      " 0.86756818 0.86372277 0.85400363 0.85860465 0.87163572 0.8940946\n",
      " 0.89571142 0.9138606  0.90210769 0.91487839 0.90641011 0.88751261\n",
      " 0.88261117 0.89012538 0.89710247 0.90396485 0.90885355 0.92608143\n",
      " 0.9641805  0.98911013 0.97690386 0.96892718 0.97216811 0.97176208\n",
      " 0.99748737 1.         0.97196048 0.95065308 0.93584877 0.92244375\n",
      " 0.91134846 0.90200526 0.89348155 0.88518977 0.87682337 0.86828971\n",
      " 0.85967642 0.85116184 0.84294808 0.83521605 0.82810038 0.82168299\n",
      " 0.81599772 0.81104195 0.80678791 0.80319333 0.80020839 0.79778224\n",
      " 0.79586452 0.79440552 0.79335743 0.79267293]\n",
      "26 day output [[0.79230475]]\n",
      "27 day input [0.80527324 0.80078328 0.80619454 0.8132135  0.81390539 0.80733796\n",
      " 0.80027894 0.79782457 0.79860567 0.79884237 0.7956852  0.79793564\n",
      " 0.78540528 0.78801258 0.78541802 0.79711813 0.79368238 0.80452855\n",
      " 0.80162265 0.79949784 0.79915736 0.81444979 0.81572613 0.81621409\n",
      " 0.8185319  0.81519447 0.81252162 0.81462822 0.80331412 0.81129626\n",
      " 0.81814772 0.81814044 0.82287619 0.82007953 0.82054018 0.82454035\n",
      " 0.8229381  0.83730195 0.83513162 0.87748213 0.88417154 0.89749211\n",
      " 0.89261069 0.88931697 0.83552672 0.8558353  0.86268858 0.86756818\n",
      " 0.86372277 0.85400363 0.85860465 0.87163572 0.8940946  0.89571142\n",
      " 0.9138606  0.90210769 0.91487839 0.90641011 0.88751261 0.88261117\n",
      " 0.89012538 0.89710247 0.90396485 0.90885355 0.92608143 0.9641805\n",
      " 0.98911013 0.97690386 0.96892718 0.97216811 0.97176208 0.99748737\n",
      " 1.         0.97196048 0.95065308 0.93584877 0.92244375 0.91134846\n",
      " 0.90200526 0.89348155 0.88518977 0.87682337 0.86828971 0.85967642\n",
      " 0.85116184 0.84294808 0.83521605 0.82810038 0.82168299 0.81599772\n",
      " 0.81104195 0.80678791 0.80319333 0.80020839 0.79778224 0.79586452\n",
      " 0.79440552 0.79335743 0.79267293 0.79230475]\n",
      "27 day output [[0.7922058]]\n",
      "28 day input [0.80078328 0.80619454 0.8132135  0.81390539 0.80733796 0.80027894\n",
      " 0.79782457 0.79860567 0.79884237 0.7956852  0.79793564 0.78540528\n",
      " 0.78801258 0.78541802 0.79711813 0.79368238 0.80452855 0.80162265\n",
      " 0.79949784 0.79915736 0.81444979 0.81572613 0.81621409 0.8185319\n",
      " 0.81519447 0.81252162 0.81462822 0.80331412 0.81129626 0.81814772\n",
      " 0.81814044 0.82287619 0.82007953 0.82054018 0.82454035 0.8229381\n",
      " 0.83730195 0.83513162 0.87748213 0.88417154 0.89749211 0.89261069\n",
      " 0.88931697 0.83552672 0.8558353  0.86268858 0.86756818 0.86372277\n",
      " 0.85400363 0.85860465 0.87163572 0.8940946  0.89571142 0.9138606\n",
      " 0.90210769 0.91487839 0.90641011 0.88751261 0.88261117 0.89012538\n",
      " 0.89710247 0.90396485 0.90885355 0.92608143 0.9641805  0.98911013\n",
      " 0.97690386 0.96892718 0.97216811 0.97176208 0.99748737 1.\n",
      " 0.97196048 0.95065308 0.93584877 0.92244375 0.91134846 0.90200526\n",
      " 0.89348155 0.88518977 0.87682337 0.86828971 0.85967642 0.85116184\n",
      " 0.84294808 0.83521605 0.82810038 0.82168299 0.81599772 0.81104195\n",
      " 0.80678791 0.80319333 0.80020839 0.79778224 0.79586452 0.79440552\n",
      " 0.79335743 0.79267293 0.79230475 0.79220581]\n",
      "28 day output [[0.792329]]\n",
      "29 day input [0.80619454 0.8132135  0.81390539 0.80733796 0.80027894 0.79782457\n",
      " 0.79860567 0.79884237 0.7956852  0.79793564 0.78540528 0.78801258\n",
      " 0.78541802 0.79711813 0.79368238 0.80452855 0.80162265 0.79949784\n",
      " 0.79915736 0.81444979 0.81572613 0.81621409 0.8185319  0.81519447\n",
      " 0.81252162 0.81462822 0.80331412 0.81129626 0.81814772 0.81814044\n",
      " 0.82287619 0.82007953 0.82054018 0.82454035 0.8229381  0.83730195\n",
      " 0.83513162 0.87748213 0.88417154 0.89749211 0.89261069 0.88931697\n",
      " 0.83552672 0.8558353  0.86268858 0.86756818 0.86372277 0.85400363\n",
      " 0.85860465 0.87163572 0.8940946  0.89571142 0.9138606  0.90210769\n",
      " 0.91487839 0.90641011 0.88751261 0.88261117 0.89012538 0.89710247\n",
      " 0.90396485 0.90885355 0.92608143 0.9641805  0.98911013 0.97690386\n",
      " 0.96892718 0.97216811 0.97176208 0.99748737 1.         0.97196048\n",
      " 0.95065308 0.93584877 0.92244375 0.91134846 0.90200526 0.89348155\n",
      " 0.88518977 0.87682337 0.86828971 0.85967642 0.85116184 0.84294808\n",
      " 0.83521605 0.82810038 0.82168299 0.81599772 0.81104195 0.80678791\n",
      " 0.80319333 0.80020839 0.79778224 0.79586452 0.79440552 0.79335743\n",
      " 0.79267293 0.79230475 0.79220581 0.79232901]\n",
      "29 day output [[0.7926281]]\n",
      "[[0.9719604849815369], [0.950653076171875], [0.9358487725257874], [0.9224437475204468], [0.9113484621047974], [0.9020052552223206], [0.8934815526008606], [0.8851897716522217], [0.876823365688324], [0.8682897090911865], [0.8596764206886292], [0.8511618375778198], [0.8429480791091919], [0.8352160453796387], [0.8281003832817078], [0.8216829895973206], [0.8159977197647095], [0.8110419511795044], [0.80678790807724], [0.8031933307647705], [0.8002083897590637], [0.7977822422981262], [0.7958645224571228], [0.7944055199623108], [0.7933574318885803], [0.7926729321479797], [0.7923047542572021], [0.792205810546875], [0.7923290133476257], [0.7926281094551086]]\n"
     ]
    }
   ],
   "source": [
    "# demonstrate prediction for next 10 days\n",
    "from numpy import array\n",
    "\n",
    "lst_output=[]\n",
    "n_steps=100\n",
    "i=0\n",
    "while(i<30):\n",
    "    \n",
    "    if(len(temp_input)>100):\n",
    "        #print(temp_input)\n",
    "        x_input=np.array(temp_input[1:])\n",
    "        print(\"{} day input {}\".format(i,x_input))\n",
    "        x_input=x_input.reshape(1,-1)\n",
    "        x_input = x_input.reshape((1, n_steps, 1))\n",
    "        #print(x_input)\n",
    "        yhat = model.predict(x_input, verbose=0)\n",
    "        print(\"{} day output {}\".format(i,yhat))\n",
    "        temp_input.extend(yhat[0].tolist())\n",
    "        temp_input=temp_input[1:]\n",
    "        #print(temp_input)\n",
    "        lst_output.extend(yhat.tolist())\n",
    "        i=i+1\n",
    "    else:\n",
    "        x_input = x_input.reshape((1, n_steps,1))\n",
    "        yhat = model.predict(x_input, verbose=0)\n",
    "        print(yhat[0])\n",
    "        temp_input.extend(yhat[0].tolist())\n",
    "        print(len(temp_input))\n",
    "        lst_output.extend(yhat.tolist())\n",
    "        i=i+1\n",
    "    \n",
    "\n",
    "print(lst_output)"
   ]
  },
  {
   "cell_type": "code",
   "execution_count": 52,
   "metadata": {
    "execution": {
     "iopub.execute_input": "2020-12-19T17:08:22.753564Z",
     "iopub.status.busy": "2020-12-19T17:08:22.752536Z",
     "iopub.status.idle": "2020-12-19T17:08:22.756155Z",
     "shell.execute_reply": "2020-12-19T17:08:22.755411Z"
    },
    "id": "UO04pT5uOAWJ",
    "papermill": {
     "duration": 1.959498,
     "end_time": "2020-12-19T17:08:22.756277",
     "exception": false,
     "start_time": "2020-12-19T17:08:20.796779",
     "status": "completed"
    },
    "tags": []
   },
   "outputs": [],
   "source": [
    "day_new=np.arange(1,101)\n",
    "day_pred=np.arange(101,131)"
   ]
  },
  {
   "cell_type": "code",
   "execution_count": 53,
   "metadata": {
    "execution": {
     "iopub.execute_input": "2020-12-19T17:08:26.725632Z",
     "iopub.status.busy": "2020-12-19T17:08:26.724712Z",
     "iopub.status.idle": "2020-12-19T17:08:26.728017Z",
     "shell.execute_reply": "2020-12-19T17:08:26.727474Z"
    },
    "id": "wfyLddOHOAWJ",
    "papermill": {
     "duration": 2.008611,
     "end_time": "2020-12-19T17:08:26.728148",
     "exception": false,
     "start_time": "2020-12-19T17:08:24.719537",
     "status": "completed"
    },
    "tags": []
   },
   "outputs": [],
   "source": [
    "import matplotlib.pyplot as plt"
   ]
  },
  {
   "cell_type": "code",
   "execution_count": 54,
   "metadata": {
    "execution": {
     "iopub.execute_input": "2020-12-19T17:08:30.647079Z",
     "iopub.status.busy": "2020-12-19T17:08:30.646059Z",
     "iopub.status.idle": "2020-12-19T17:08:30.650069Z",
     "shell.execute_reply": "2020-12-19T17:08:30.650556Z"
    },
    "id": "W5dwf_M1OAWJ",
    "outputId": "369923d2-a044-43fa-8061-951d66b42e80",
    "papermill": {
     "duration": 1.975956,
     "end_time": "2020-12-19T17:08:30.650706",
     "exception": false,
     "start_time": "2020-12-19T17:08:28.674750",
     "status": "completed"
    },
    "tags": []
   },
   "outputs": [
    {
     "data": {
      "text/plain": [
       "2005"
      ]
     },
     "execution_count": 54,
     "metadata": {},
     "output_type": "execute_result"
    }
   ],
   "source": [
    "len(df1)"
   ]
  },
  {
   "cell_type": "code",
   "execution_count": null,
   "metadata": {
    "id": "bUilN9r6OAWJ",
    "papermill": {
     "duration": 1.961756,
     "end_time": "2020-12-19T17:08:34.554834",
     "exception": false,
     "start_time": "2020-12-19T17:08:32.593078",
     "status": "completed"
    },
    "tags": []
   },
   "outputs": [],
   "source": []
  },
  {
   "cell_type": "code",
   "execution_count": 55,
   "metadata": {
    "execution": {
     "iopub.execute_input": "2020-12-19T17:08:38.454188Z",
     "iopub.status.busy": "2020-12-19T17:08:38.453113Z",
     "iopub.status.idle": "2020-12-19T17:08:38.458177Z",
     "shell.execute_reply": "2020-12-19T17:08:38.457431Z"
    },
    "id": "5f9apXRVOAWJ",
    "outputId": "e1e75ce2-afa4-4516-89a3-2213d8a6979f",
    "papermill": {
     "duration": 1.934828,
     "end_time": "2020-12-19T17:08:38.458295",
     "exception": false,
     "start_time": "2020-12-19T17:08:36.523467",
     "status": "completed"
    },
    "tags": []
   },
   "outputs": [
    {
     "data": {
      "text/plain": [
       "[22925.109999999997,\n",
       " 22932.54,\n",
       " 22907.22,\n",
       " 22910.62,\n",
       " 22967.73,\n",
       " 22993.91,\n",
       " 22950.99,\n",
       " 22976.56,\n",
       " 22980.15,\n",
       " 22994.540000000005,\n",
       " 23009.93,\n",
       " 22989.059999999998,\n",
       " 22992.04,\n",
       " 23003.58,\n",
       " 23019.460000000003,\n",
       " 22983.92,\n",
       " 22971.32,\n",
       " 22978.759999999995,\n",
       " 23026.82,\n",
       " 23048.68,\n",
       " 23063.95,\n",
       " 23039.51,\n",
       " 23011.23,\n",
       " 23006.84,\n",
       " 23047.35,\n",
       " 23003.929999999997,\n",
       " 22997.54,\n",
       " 23011.24,\n",
       " 22986.580000000005,\n",
       " 23016.299999999996,\n",
       " 23054.849999999995,\n",
       " 23058.65,\n",
       " 23022.58,\n",
       " 22983.81,\n",
       " 22970.33,\n",
       " 22974.62,\n",
       " 22975.92,\n",
       " 22958.58,\n",
       " 22970.94,\n",
       " 22902.12,\n",
       " 22916.44,\n",
       " 22902.19,\n",
       " 22966.450000000004,\n",
       " 22947.579999999998,\n",
       " 23007.15,\n",
       " 22991.19,\n",
       " 22979.52,\n",
       " 22977.65,\n",
       " 23061.64,\n",
       " 23068.65,\n",
       " 23071.33,\n",
       " 23084.060000000005,\n",
       " 23065.73,\n",
       " 23051.05,\n",
       " 23062.619999999995,\n",
       " 23000.48,\n",
       " 23044.32,\n",
       " 23081.950000000004,\n",
       " 23081.909999999996,\n",
       " 23107.92,\n",
       " 23092.56,\n",
       " 23095.09,\n",
       " 23117.06,\n",
       " 23108.26,\n",
       " 23187.149999999998,\n",
       " 23175.23,\n",
       " 23407.83,\n",
       " 23444.570000000003,\n",
       " 23517.730000000003,\n",
       " 23490.92,\n",
       " 23472.83,\n",
       " 23177.4,\n",
       " 23288.94,\n",
       " 23326.580000000005,\n",
       " 23353.379999999997,\n",
       " 23332.26,\n",
       " 23278.88,\n",
       " 23304.150000000005,\n",
       " 23375.72,\n",
       " 23499.070000000003,\n",
       " 23507.95,\n",
       " 23607.63,\n",
       " 23543.08,\n",
       " 23613.22,\n",
       " 23566.71,\n",
       " 23462.92,\n",
       " 23436.000000000004,\n",
       " 23477.269999999997,\n",
       " 23515.59,\n",
       " 23553.28,\n",
       " 23580.13,\n",
       " 23674.750000000004,\n",
       " 23884.0,\n",
       " 24020.92,\n",
       " 23953.88,\n",
       " 23910.07,\n",
       " 23927.87,\n",
       " 23925.639999999996,\n",
       " 24066.929999999997,\n",
       " 24080.73,\n",
       " 23926.7296932447,\n",
       " 23809.703864135747,\n",
       " 23728.394779392485,\n",
       " 23654.77089675665,\n",
       " 23593.832704479697,\n",
       " 23542.517383047347,\n",
       " 23495.702992087605,\n",
       " 23450.162375254633,\n",
       " 23404.21189843536,\n",
       " 23357.342837653163,\n",
       " 23310.036418291333,\n",
       " 23263.27211405516,\n",
       " 23218.160016968253,\n",
       " 23175.69367739678,\n",
       " 23136.612611082794,\n",
       " 23101.366616445783,\n",
       " 23070.141636354925,\n",
       " 23042.923266785147,\n",
       " 23019.558956016306,\n",
       " 22999.816602826122,\n",
       " 22983.422530738117,\n",
       " 22970.09749808431,\n",
       " 22959.56488211036,\n",
       " 22951.551661068203,\n",
       " 22945.795288864378,\n",
       " 22942.035838319065,\n",
       " 22940.013709616665,\n",
       " 22939.470285034182,\n",
       " 22940.146946848636,\n",
       " 22941.78966043592]"
      ]
     },
     "execution_count": 55,
     "metadata": {},
     "output_type": "execute_result"
    }
   ],
   "source": [
    "#plt.plot(day_new,scaler.inverse_transform(df1[1158:]))\n",
    "#plt.plot(day_pred,scaler.inverse_transform(lst_output))\n",
    "pllt=scaler.inverse_transform(df1[-100:]).tolist()\n",
    "pllt.extend(scaler.inverse_transform(lst_output).tolist())\n",
    "jlk=[]\n",
    "for i in pllt:\n",
    "  jlk.append(i[0])\n",
    "\n",
    "jlk"
   ]
  },
  {
   "cell_type": "code",
   "execution_count": 56,
   "metadata": {
    "execution": {
     "iopub.execute_input": "2020-12-19T17:08:42.396130Z",
     "iopub.status.busy": "2020-12-19T17:08:42.394465Z",
     "iopub.status.idle": "2020-12-19T17:08:42.398730Z",
     "shell.execute_reply": "2020-12-19T17:08:42.399424Z"
    },
    "id": "wHHblPEmjKwr",
    "papermill": {
     "duration": 2.009516,
     "end_time": "2020-12-19T17:08:42.399599",
     "exception": false,
     "start_time": "2020-12-19T17:08:40.390083",
     "status": "completed"
    },
    "tags": []
   },
   "outputs": [],
   "source": [
    "pllt=pd.Series(jlk)\n",
    "pllt.to_csv(\"Extended.csv\")"
   ]
  },
  {
   "cell_type": "code",
   "execution_count": 57,
   "metadata": {
    "execution": {
     "iopub.execute_input": "2020-12-19T17:08:46.280906Z",
     "iopub.status.busy": "2020-12-19T17:08:46.279692Z",
     "iopub.status.idle": "2020-12-19T17:08:46.505761Z",
     "shell.execute_reply": "2020-12-19T17:08:46.506315Z"
    },
    "id": "C511Pj5xOAWJ",
    "outputId": "18660440-32b0-40b7-9b27-998a248f554f",
    "papermill": {
     "duration": 2.195208,
     "end_time": "2020-12-19T17:08:46.506511",
     "exception": false,
     "start_time": "2020-12-19T17:08:44.311303",
     "status": "completed"
    },
    "tags": []
   },
   "outputs": [
    {
     "data": {
      "text/plain": [
       "[<matplotlib.lines.Line2D at 0x7fa33bfc4850>]"
      ]
     },
     "execution_count": 57,
     "metadata": {},
     "output_type": "execute_result"
    },
    {
     "data": {
      "image/png": "[encoded data removed]",
      "text/plain": [
       "<Figure size 432x288 with 1 Axes>"
      ]
     },
     "metadata": {
      "needs_background": "light"
     },
     "output_type": "display_data"
    }
   ],
   "source": [
    "df3=df1.tolist()\n",
    "df3.extend(lst_output)\n",
    "plt.plot(df3[1200:])"
   ]
  },
  {
   "cell_type": "code",
   "execution_count": 58,
   "metadata": {
    "execution": {
     "iopub.execute_input": "2020-12-19T17:08:50.520450Z",
     "iopub.status.busy": "2020-12-19T17:08:50.519395Z",
     "iopub.status.idle": "2020-12-19T17:08:50.529481Z",
     "shell.execute_reply": "2020-12-19T17:08:50.528758Z"
    },
    "id": "lsbU2LPKOAWJ",
    "papermill": {
     "duration": 2.023121,
     "end_time": "2020-12-19T17:08:50.529602",
     "exception": false,
     "start_time": "2020-12-19T17:08:48.506481",
     "status": "completed"
    },
    "tags": []
   },
   "outputs": [],
   "source": [
    "df3=scaler.inverse_transform(df3).tolist()"
   ]
  },
  {
   "cell_type": "code",
   "execution_count": 59,
   "metadata": {
    "execution": {
     "iopub.execute_input": "2020-12-19T17:08:54.398204Z",
     "iopub.status.busy": "2020-12-19T17:08:54.397522Z",
     "iopub.status.idle": "2020-12-19T17:08:54.565989Z",
     "shell.execute_reply": "2020-12-19T17:08:54.566582Z"
    },
    "id": "7lqtMOulOAWJ",
    "outputId": "4b66a72f-35d0-4e0e-dff3-3693a50f36aa",
    "papermill": {
     "duration": 2.088593,
     "end_time": "2020-12-19T17:08:54.566734",
     "exception": false,
     "start_time": "2020-12-19T17:08:52.478141",
     "status": "completed"
    },
    "tags": []
   },
   "outputs": [
    {
     "data": {
      "text/plain": [
       "[<matplotlib.lines.Line2D at 0x7fa33b81ae90>]"
      ]
     },
     "execution_count": 59,
     "metadata": {},
     "output_type": "execute_result"
    },
    {
     "data": {
      "image/png": "[encoded data removed]",
      "text/plain": [
       "<Figure size 432x288 with 1 Axes>"
      ]
     },
     "metadata": {
      "needs_background": "light"
     },
     "output_type": "display_data"
    }
   ],
   "source": [
    "plt.plot(df3)"
   ]
  },
  {
   "cell_type": "code",
   "execution_count": null,
   "metadata": {
    "execution": {
     "iopub.execute_input": "2020-12-12T03:45:08.112262Z",
     "iopub.status.busy": "2020-12-12T03:45:08.111512Z",
     "iopub.status.idle": "2020-12-12T03:45:08.116433Z",
     "shell.execute_reply": "2020-12-12T03:45:08.116901Z"
    },
    "id": "vnKnJGDXNtwW",
    "papermill": {
     "duration": 2.016644,
     "end_time": "2020-12-19T17:08:58.508666",
     "exception": false,
     "start_time": "2020-12-19T17:08:56.492022",
     "status": "completed"
    },
    "tags": []
   },
   "outputs": [],
   "source": []
  },
  {
   "cell_type": "code",
   "execution_count": null,
   "metadata": {
    "execution": {
     "iopub.execute_input": "2020-12-12T03:45:08.270234Z",
     "iopub.status.busy": "2020-12-12T03:45:08.269515Z",
     "iopub.status.idle": "2020-12-12T03:45:08.27247Z",
     "shell.execute_reply": "2020-12-12T03:45:08.271904Z"
    },
    "papermill": {
     "duration": 1.940219,
     "end_time": "2020-12-19T17:09:02.380959",
     "exception": false,
     "start_time": "2020-12-19T17:09:00.440740",
     "status": "completed"
    },
    "tags": []
   },
   "outputs": [],
   "source": []
  },
  {
   "cell_type": "code",
   "execution_count": null,
   "metadata": {
    "execution": {
     "iopub.execute_input": "2020-12-12T03:45:08.428513Z",
     "iopub.status.busy": "2020-12-12T03:45:08.427636Z",
     "iopub.status.idle": "2020-12-12T03:45:08.430774Z",
     "shell.execute_reply": "2020-12-12T03:45:08.430291Z"
    },
    "papermill": {
     "duration": 1.98569,
     "end_time": "2020-12-19T17:09:06.289482",
     "exception": false,
     "start_time": "2020-12-19T17:09:04.303792",
     "status": "completed"
    },
    "tags": []
   },
   "outputs": [],
   "source": []
  },
  {
   "cell_type": "code",
   "execution_count": null,
   "metadata": {
    "execution": {
     "iopub.execute_input": "2020-12-12T03:45:08.593181Z",
     "iopub.status.busy": "2020-12-12T03:45:08.587965Z",
     "iopub.status.idle": "2020-12-12T03:45:08.611067Z",
     "shell.execute_reply": "2020-12-12T03:45:08.610358Z"
    },
    "id": "ijMRjSb2RJuI",
    "outputId": "2f659d33-8260-436c-fcdb-8ff2e1d82cb6",
    "papermill": {
     "duration": 1.928942,
     "end_time": "2020-12-19T17:09:10.225609",
     "exception": false,
     "start_time": "2020-12-19T17:09:08.296667",
     "status": "completed"
    },
    "tags": []
   },
   "outputs": [],
   "source": []
  },
  {
   "cell_type": "code",
   "execution_count": 60,
   "metadata": {
    "execution": {
     "iopub.execute_input": "2020-12-19T17:09:14.274588Z",
     "iopub.status.busy": "2020-12-19T17:09:14.273822Z",
     "iopub.status.idle": "2020-12-19T17:09:14.387445Z",
     "shell.execute_reply": "2020-12-19T17:09:14.386864Z"
    },
    "id": "Raok6LOo0PeJ",
    "outputId": "c7b83a5d-634f-4108-eb21-ff452db74331",
    "papermill": {
     "duration": 2.091788,
     "end_time": "2020-12-19T17:09:14.387576",
     "exception": false,
     "start_time": "2020-12-19T17:09:12.295788",
     "status": "completed"
    },
    "tags": []
   },
   "outputs": [
    {
     "name": "stdout",
     "output_type": "stream",
     "text": [
      "[[24014.633]] minute output\n",
      "[[23988.088]] minute output\n"
     ]
    }
   ],
   "source": [
    "testt[\"timestamp\"] = pd.to_datetime(testt['timestamp'], unit='s')\n",
    "testt1=testt[\"close\"][-100:]\n",
    "df12=testt[\"timestamp\"]\n",
    "df2=testt1\n",
    "iop=[]\n",
    "def turn(testt1):\n",
    "    testt1=scaler.fit_transform(np.array(testt1).reshape(-1,1))\n",
    "    x_input=testt1.reshape(1,-1)\n",
    "    x_input = x_input.reshape((1, 100, 1))\n",
    "    #print(x_input)\n",
    "    yhat = model.predict(x_input, verbose=0)\n",
    "    yhat=(scaler.inverse_transform(yhat))\n",
    "    print(\"{} minute output\".format(yhat))\n",
    "    return yhat\n",
    "yo=turn(testt1)\n",
    "iop.append(yo)\n",
    "yo=pd.Series(yo[0][0])\n",
    "testt1=testt1.append(yo, ignore_index=True)\n",
    "testt1=testt1.iloc[1:]\n",
    "yo=turn(testt1)\n",
    "iop.append(yo)"
   ]
  },
  {
   "cell_type": "code",
   "execution_count": 61,
   "metadata": {
    "execution": {
     "iopub.execute_input": "2020-12-19T17:09:18.325513Z",
     "iopub.status.busy": "2020-12-19T17:09:18.324826Z",
     "iopub.status.idle": "2020-12-19T17:09:18.328231Z",
     "shell.execute_reply": "2020-12-19T17:09:18.327731Z"
    },
    "papermill": {
     "duration": 1.995213,
     "end_time": "2020-12-19T17:09:18.328360",
     "exception": false,
     "start_time": "2020-12-19T17:09:16.333147",
     "status": "completed"
    },
    "tags": []
   },
   "outputs": [],
   "source": [
    "yhat=pd.Series(np.ravel(iop))"
   ]
  },
  {
   "cell_type": "code",
   "execution_count": 62,
   "metadata": {
    "execution": {
     "iopub.execute_input": "2020-12-19T17:09:22.398523Z",
     "iopub.status.busy": "2020-12-19T17:09:22.397756Z",
     "iopub.status.idle": "2020-12-19T17:09:22.402349Z",
     "shell.execute_reply": "2020-12-19T17:09:22.402996Z"
    },
    "id": "rY3SEKDL1FoC",
    "outputId": "955890b2-3c80-4519-f31f-928c8e715173",
    "papermill": {
     "duration": 1.965923,
     "end_time": "2020-12-19T17:09:22.403143",
     "exception": false,
     "start_time": "2020-12-19T17:09:20.437220",
     "status": "completed"
    },
    "tags": []
   },
   "outputs": [],
   "source": [
    "df2=df2.append(yhat,ignore_index=True)"
   ]
  },
  {
   "cell_type": "code",
   "execution_count": 63,
   "metadata": {
    "execution": {
     "iopub.execute_input": "2020-12-19T17:09:26.256518Z",
     "iopub.status.busy": "2020-12-19T17:09:26.255691Z",
     "iopub.status.idle": "2020-12-19T17:09:26.262805Z",
     "shell.execute_reply": "2020-12-19T17:09:26.263324Z"
    },
    "id": "TlZzQPXB-aSx",
    "outputId": "aa6151a1-9256-4f9b-b0e0-56bb68cdd281",
    "papermill": {
     "duration": 1.933152,
     "end_time": "2020-12-19T17:09:26.263498",
     "exception": false,
     "start_time": "2020-12-19T17:09:24.330346",
     "status": "completed"
    },
    "tags": []
   },
   "outputs": [
    {
     "data": {
      "text/plain": [
       "0      22925.110000\n",
       "1      22932.540000\n",
       "2      22907.220000\n",
       "3      22910.620000\n",
       "4      22967.730000\n",
       "           ...     \n",
       "97     23925.640000\n",
       "98     24066.930000\n",
       "99     24080.730000\n",
       "100    24014.632812\n",
       "101    23988.087891\n",
       "Length: 102, dtype: float64"
      ]
     },
     "execution_count": 63,
     "metadata": {},
     "output_type": "execute_result"
    }
   ],
   "source": [
    "df2"
   ]
  },
  {
   "cell_type": "code",
   "execution_count": 64,
   "metadata": {
    "execution": {
     "iopub.execute_input": "2020-12-19T17:09:30.238527Z",
     "iopub.status.busy": "2020-12-19T17:09:30.237884Z",
     "iopub.status.idle": "2020-12-19T17:09:30.247426Z",
     "shell.execute_reply": "2020-12-19T17:09:30.246706Z"
    },
    "id": "v64_x6jW5_2z",
    "outputId": "e4d892a6-65e4-4704-fef0-52a3c1f4e11f",
    "papermill": {
     "duration": 1.992051,
     "end_time": "2020-12-19T17:09:30.247547",
     "exception": false,
     "start_time": "2020-12-19T17:09:28.255496",
     "status": "completed"
    },
    "tags": []
   },
   "outputs": [
    {
     "data": {
      "text/plain": [
       "DatetimeIndex(['2020-12-19 08:30:00', '2020-12-19 08:35:00',\n",
       "               '2020-12-19 08:40:00', '2020-12-19 08:45:00',\n",
       "               '2020-12-19 08:50:00', '2020-12-19 08:55:00',\n",
       "               '2020-12-19 09:00:00', '2020-12-19 09:05:00',\n",
       "               '2020-12-19 09:10:00', '2020-12-19 09:15:00',\n",
       "               ...\n",
       "               '2020-12-19 16:10:00', '2020-12-19 16:15:00',\n",
       "               '2020-12-19 16:20:00', '2020-12-19 16:25:00',\n",
       "               '2020-12-19 16:30:00', '2020-12-19 16:35:00',\n",
       "               '2020-12-19 16:40:00', '2020-12-19 16:45:00',\n",
       "               '2020-12-19 16:50:00', '2020-12-19 16:55:00'],\n",
       "              dtype='datetime64[ns]', length=102, freq='5T')"
      ]
     },
     "execution_count": 64,
     "metadata": {},
     "output_type": "execute_result"
    }
   ],
   "source": [
    "import plotly.graph_objects as go\n",
    "ann=df12.iloc[-100]\n",
    "ann=pd.date_range(start=ann,periods=102 ,freq='5T')\n",
    "ann"
   ]
  },
  {
   "cell_type": "code",
   "execution_count": 65,
   "metadata": {
    "execution": {
     "iopub.execute_input": "2020-12-19T17:09:34.142221Z",
     "iopub.status.busy": "2020-12-19T17:09:34.141470Z",
     "iopub.status.idle": "2020-12-19T17:09:34.147098Z",
     "shell.execute_reply": "2020-12-19T17:09:34.147662Z"
    },
    "id": "pd8EuXw91xJW",
    "outputId": "4161b303-d87b-438d-f5d8-72f6aa89b18e",
    "papermill": {
     "duration": 1.965501,
     "end_time": "2020-12-19T17:09:34.147846",
     "exception": false,
     "start_time": "2020-12-19T17:09:32.182345",
     "status": "completed"
    },
    "tags": []
   },
   "outputs": [
    {
     "data": {
      "text/html": [
       "<div>                            <div id=\"553c1d0c-f6c5-4d6f-98cb-75166a2d746f\" class=\"plotly-graph-div\" style=\"height:525px; width:100%;\"></div>            <script type=\"text/javascript\">                require([\"plotly\"], function(Plotly) {                    window.PLOTLYENV=window.PLOTLYENV || {};                                    if (document.getElementById(\"553c1d0c-f6c5-4d6f-98cb-75166a2d746f\")) {                    Plotly.newPlot(                        \"553c1d0c-f6c5-4d6f-98cb-75166a2d746f\",                        [{\"marker\": {\"color\": \"seagreen\"}, \"mode\": \"lines\", \"type\": \"scatter\", \"x\": [\"2020-12-19T08:30:00\", \"2020-12-19T08:35:00\", \"2020-12-19T08:40:00\", \"2020-12-19T08:45:00\", \"2020-12-19T08:50:00\", \"2020-12-19T08:55:00\", \"2020-12-19T09:00:00\", \"2020-12-19T09:05:00\", \"2020-12-19T09:10:00\", \"2020-12-19T09:15:00\", \"2020-12-19T09:20:00\", \"2020-12-19T09:25:00\", \"2020-12-19T09:30:00\", \"2020-12-19T09:35:00\", \"2020-12-19T09:40:00\", \"2020-12-19T09:45:00\", \"2020-12-19T09:50:00\", \"2020-12-19T09:55:00\", \"2020-12-19T10:00:00\", \"2020-12-19T10:05:00\", \"2020-12-19T10:10:00\", \"2020-12-19T10:15:00\", \"2020-12-19T10:20:00\", \"2020-12-19T10:25:00\", \"2020-12-19T10:30:00\", \"2020-12-19T10:35:00\", \"2020-12-19T10:40:00\", \"2020-12-19T10:45:00\", \"2020-12-19T10:50:00\", \"2020-12-19T10:55:00\", \"2020-12-19T11:00:00\", \"2020-12-19T11:05:00\", \"2020-12-19T11:10:00\", \"2020-12-19T11:15:00\", \"2020-12-19T11:20:00\", \"2020-12-19T11:25:00\", \"2020-12-19T11:30:00\", \"2020-12-19T11:35:00\", \"2020-12-19T11:40:00\", \"2020-12-19T11:45:00\", \"2020-12-19T11:50:00\", \"2020-12-19T11:55:00\", \"2020-12-19T12:00:00\", \"2020-12-19T12:05:00\", \"2020-12-19T12:10:00\", \"2020-12-19T12:15:00\", \"2020-12-19T12:20:00\", \"2020-12-19T12:25:00\", \"2020-12-19T12:30:00\", \"2020-12-19T12:35:00\", \"2020-12-19T12:40:00\", \"2020-12-19T12:45:00\", \"2020-12-19T12:50:00\", \"2020-12-19T12:55:00\", \"2020-12-19T13:00:00\", \"2020-12-19T13:05:00\", \"2020-12-19T13:10:00\", \"2020-12-19T13:15:00\", \"2020-12-19T13:20:00\", \"2020-12-19T13:25:00\", \"2020-12-19T13:30:00\", \"2020-12-19T13:35:00\", \"2020-12-19T13:40:00\", \"2020-12-19T13:45:00\", \"2020-12-19T13:50:00\", \"2020-12-19T13:55:00\", \"2020-12-19T14:00:00\", \"2020-12-19T14:05:00\", \"2020-12-19T14:10:00\", \"2020-12-19T14:15:00\", \"2020-12-19T14:20:00\", \"2020-12-19T14:25:00\", \"2020-12-19T14:30:00\", \"2020-12-19T14:35:00\", \"2020-12-19T14:40:00\", \"2020-12-19T14:45:00\", \"2020-12-19T14:50:00\", \"2020-12-19T14:55:00\", \"2020-12-19T15:00:00\", \"2020-12-19T15:05:00\", \"2020-12-19T15:10:00\", \"2020-12-19T15:15:00\", \"2020-12-19T15:20:00\", \"2020-12-19T15:25:00\", \"2020-12-19T15:30:00\", \"2020-12-19T15:35:00\", \"2020-12-19T15:40:00\", \"2020-12-19T15:45:00\", \"2020-12-19T15:50:00\", \"2020-12-19T15:55:00\", \"2020-12-19T16:00:00\", \"2020-12-19T16:05:00\", \"2020-12-19T16:10:00\", \"2020-12-19T16:15:00\", \"2020-12-19T16:20:00\", \"2020-12-19T16:25:00\", \"2020-12-19T16:30:00\", \"2020-12-19T16:35:00\", \"2020-12-19T16:40:00\", \"2020-12-19T16:45:00\", \"2020-12-19T16:50:00\", \"2020-12-19T16:55:00\"], \"y\": [22925.11, 22932.54, 22907.22, 22910.62, 22967.73, 22993.91, 22950.99, 22976.56, 22980.15, 22994.54, 23009.93, 22989.06, 22992.04, 23003.58, 23019.46, 22983.92, 22971.32, 22978.76, 23026.82, 23048.68, 23063.95, 23039.51, 23011.23, 23006.84, 23047.35, 23003.93, 22997.54, 23011.24, 22986.58, 23016.3, 23054.85, 23058.65, 23022.58, 22983.81, 22970.33, 22974.62, 22975.92, 22958.58, 22970.94, 22902.12, 22916.44, 22902.19, 22966.45, 22947.58, 23007.15, 22991.19, 22979.52, 22977.65, 23061.64, 23068.65, 23071.33, 23084.06, 23065.73, 23051.05, 23062.62, 23000.48, 23044.32, 23081.95, 23081.91, 23107.92, 23092.56, 23095.09, 23117.06, 23108.26, 23187.15, 23175.23, 23407.83, 23444.57, 23517.73, 23490.92, 23472.83, 23177.4, 23288.94, 23326.58, 23353.38, 23332.26, 23278.88, 23304.15, 23375.72, 23499.07, 23507.95, 23607.63, 23543.08, 23613.22, 23566.71, 23462.92, 23436.0, 23477.27, 23515.59, 23553.28, 23580.13, 23674.75, 23884.0, 24020.92, 23953.88, 23910.07, 23927.87, 23925.64, 24066.93, 24080.73, 24014.6328125, 23988.087890625]}],                        {\"template\": {\"data\": {\"bar\": [{\"error_x\": {\"color\": \"#2a3f5f\"}, \"error_y\": {\"color\": \"#2a3f5f\"}, \"marker\": {\"line\": {\"color\": \"#E5ECF6\", \"width\": 0.5}}, \"type\": \"bar\"}], \"barpolar\": [{\"marker\": {\"line\": {\"color\": \"#E5ECF6\", \"width\": 0.5}}, \"type\": \"barpolar\"}], \"carpet\": [{\"aaxis\": {\"endlinecolor\": \"#2a3f5f\", \"gridcolor\": \"white\", \"linecolor\": \"white\", \"minorgridcolor\": \"white\", \"startlinecolor\": \"#2a3f5f\"}, \"baxis\": {\"endlinecolor\": \"#2a3f5f\", \"gridcolor\": \"white\", \"linecolor\": \"white\", \"minorgridcolor\": \"white\", \"startlinecolor\": \"#2a3f5f\"}, \"type\": \"carpet\"}], \"choropleth\": [{\"colorbar\": {\"outlinewidth\": 0, \"ticks\": \"\"}, \"type\": \"choropleth\"}], \"contour\": [{\"colorbar\": {\"outlinewidth\": 0, \"ticks\": \"\"}, \"colorscale\": [[0.0, \"#0d0887\"], [0.1111111111111111, \"#46039f\"], [0.2222222222222222, \"#7201a8\"], [0.3333333333333333, \"#9c179e\"], [0.4444444444444444, \"#bd3786\"], [0.5555555555555556, \"#d8576b\"], [0.6666666666666666, \"#ed7953\"], [0.7777777777777778, \"#fb9f3a\"], [0.8888888888888888, \"#fdca26\"], [1.0, \"#f0f921\"]], \"type\": \"contour\"}], \"contourcarpet\": [{\"colorbar\": {\"outlinewidth\": 0, \"ticks\": \"\"}, \"type\": \"contourcarpet\"}], \"heatmap\": [{\"colorbar\": {\"outlinewidth\": 0, \"ticks\": \"\"}, \"colorscale\": [[0.0, \"#0d0887\"], [0.1111111111111111, \"#46039f\"], [0.2222222222222222, \"#7201a8\"], [0.3333333333333333, \"#9c179e\"], [0.4444444444444444, \"#bd3786\"], [0.5555555555555556, \"#d8576b\"], [0.6666666666666666, \"#ed7953\"], [0.7777777777777778, \"#fb9f3a\"], [0.8888888888888888, \"#fdca26\"], [1.0, \"#f0f921\"]], \"type\": \"heatmap\"}], \"heatmapgl\": [{\"colorbar\": {\"outlinewidth\": 0, \"ticks\": \"\"}, \"colorscale\": [[0.0, \"#0d0887\"], [0.1111111111111111, \"#46039f\"], [0.2222222222222222, \"#7201a8\"], [0.3333333333333333, \"#9c179e\"], [0.4444444444444444, \"#bd3786\"], [0.5555555555555556, \"#d8576b\"], [0.6666666666666666, \"#ed7953\"], [0.7777777777777778, \"#fb9f3a\"], [0.8888888888888888, \"#fdca26\"], [1.0, \"#f0f921\"]], \"type\": \"heatmapgl\"}], \"histogram\": [{\"marker\": {\"colorbar\": {\"outlinewidth\": 0, \"ticks\": \"\"}}, \"type\": \"histogram\"}], \"histogram2d\": [{\"colorbar\": {\"outlinewidth\": 0, \"ticks\": \"\"}, \"colorscale\": [[0.0, \"#0d0887\"], [0.1111111111111111, \"#46039f\"], [0.2222222222222222, \"#7201a8\"], [0.3333333333333333, \"#9c179e\"], [0.4444444444444444, \"#bd3786\"], [0.5555555555555556, \"#d8576b\"], [0.6666666666666666, \"#ed7953\"], [0.7777777777777778, \"#fb9f3a\"], [0.8888888888888888, \"#fdca26\"], [1.0, \"#f0f921\"]], \"type\": \"histogram2d\"}], \"histogram2dcontour\": [{\"colorbar\": {\"outlinewidth\": 0, \"ticks\": \"\"}, \"colorscale\": [[0.0, \"#0d0887\"], [0.1111111111111111, \"#46039f\"], [0.2222222222222222, \"#7201a8\"], [0.3333333333333333, \"#9c179e\"], [0.4444444444444444, \"#bd3786\"], [0.5555555555555556, \"#d8576b\"], [0.6666666666666666, \"#ed7953\"], [0.7777777777777778, \"#fb9f3a\"], [0.8888888888888888, \"#fdca26\"], [1.0, \"#f0f921\"]], \"type\": \"histogram2dcontour\"}], \"mesh3d\": [{\"colorbar\": {\"outlinewidth\": 0, \"ticks\": \"\"}, \"type\": \"mesh3d\"}], \"parcoords\": [{\"line\": {\"colorbar\": {\"outlinewidth\": 0, \"ticks\": \"\"}}, \"type\": \"parcoords\"}], \"pie\": [{\"automargin\": true, \"type\": \"pie\"}], \"scatter\": [{\"marker\": {\"colorbar\": {\"outlinewidth\": 0, \"ticks\": \"\"}}, \"type\": \"scatter\"}], \"scatter3d\": [{\"line\": {\"colorbar\": {\"outlinewidth\": 0, \"ticks\": \"\"}}, \"marker\": {\"colorbar\": {\"outlinewidth\": 0, \"ticks\": \"\"}}, \"type\": \"scatter3d\"}], \"scattercarpet\": [{\"marker\": {\"colorbar\": {\"outlinewidth\": 0, \"ticks\": \"\"}}, \"type\": \"scattercarpet\"}], \"scattergeo\": [{\"marker\": {\"colorbar\": {\"outlinewidth\": 0, \"ticks\": \"\"}}, \"type\": \"scattergeo\"}], \"scattergl\": [{\"marker\": {\"colorbar\": {\"outlinewidth\": 0, \"ticks\": \"\"}}, \"type\": \"scattergl\"}], \"scattermapbox\": [{\"marker\": {\"colorbar\": {\"outlinewidth\": 0, \"ticks\": \"\"}}, \"type\": \"scattermapbox\"}], \"scatterpolar\": [{\"marker\": {\"colorbar\": {\"outlinewidth\": 0, \"ticks\": \"\"}}, \"type\": \"scatterpolar\"}], \"scatterpolargl\": [{\"marker\": {\"colorbar\": {\"outlinewidth\": 0, \"ticks\": \"\"}}, \"type\": \"scatterpolargl\"}], \"scatterternary\": [{\"marker\": {\"colorbar\": {\"outlinewidth\": 0, \"ticks\": \"\"}}, \"type\": \"scatterternary\"}], \"surface\": [{\"colorbar\": {\"outlinewidth\": 0, \"ticks\": \"\"}, \"colorscale\": [[0.0, \"#0d0887\"], [0.1111111111111111, \"#46039f\"], [0.2222222222222222, \"#7201a8\"], [0.3333333333333333, \"#9c179e\"], [0.4444444444444444, \"#bd3786\"], [0.5555555555555556, \"#d8576b\"], [0.6666666666666666, \"#ed7953\"], [0.7777777777777778, \"#fb9f3a\"], [0.8888888888888888, \"#fdca26\"], [1.0, \"#f0f921\"]], \"type\": \"surface\"}], \"table\": [{\"cells\": {\"fill\": {\"color\": \"#EBF0F8\"}, \"line\": {\"color\": \"white\"}}, \"header\": {\"fill\": {\"color\": \"#C8D4E3\"}, \"line\": {\"color\": \"white\"}}, \"type\": \"table\"}]}, \"layout\": {\"annotationdefaults\": {\"arrowcolor\": \"#2a3f5f\", \"arrowhead\": 0, \"arrowwidth\": 1}, \"autotypenumbers\": \"strict\", \"coloraxis\": {\"colorbar\": {\"outlinewidth\": 0, \"ticks\": \"\"}}, \"colorscale\": {\"diverging\": [[0, \"#8e0152\"], [0.1, \"#c51b7d\"], [0.2, \"#de77ae\"], [0.3, \"#f1b6da\"], [0.4, \"#fde0ef\"], [0.5, \"#f7f7f7\"], [0.6, \"#e6f5d0\"], [0.7, \"#b8e186\"], [0.8, \"#7fbc41\"], [0.9, \"#4d9221\"], [1, \"#276419\"]], \"sequential\": [[0.0, \"#0d0887\"], [0.1111111111111111, \"#46039f\"], [0.2222222222222222, \"#7201a8\"], [0.3333333333333333, \"#9c179e\"], [0.4444444444444444, \"#bd3786\"], [0.5555555555555556, \"#d8576b\"], [0.6666666666666666, \"#ed7953\"], [0.7777777777777778, \"#fb9f3a\"], [0.8888888888888888, \"#fdca26\"], [1.0, \"#f0f921\"]], \"sequentialminus\": [[0.0, \"#0d0887\"], [0.1111111111111111, \"#46039f\"], [0.2222222222222222, \"#7201a8\"], [0.3333333333333333, \"#9c179e\"], [0.4444444444444444, \"#bd3786\"], [0.5555555555555556, \"#d8576b\"], [0.6666666666666666, \"#ed7953\"], [0.7777777777777778, \"#fb9f3a\"], [0.8888888888888888, \"#fdca26\"], [1.0, \"#f0f921\"]]}, \"colorway\": [\"#636efa\", \"#EF553B\", \"#00cc96\", \"#ab63fa\", \"#FFA15A\", \"#19d3f3\", \"#FF6692\", \"#B6E880\", \"#FF97FF\", \"#FECB52\"], \"font\": {\"color\": \"#2a3f5f\"}, \"geo\": {\"bgcolor\": \"white\", \"lakecolor\": \"white\", \"landcolor\": \"#E5ECF6\", \"showlakes\": true, \"showland\": true, \"subunitcolor\": \"white\"}, \"hoverlabel\": {\"align\": \"left\"}, \"hovermode\": \"closest\", \"mapbox\": {\"style\": \"light\"}, \"paper_bgcolor\": \"white\", \"plot_bgcolor\": \"#E5ECF6\", \"polar\": {\"angularaxis\": {\"gridcolor\": \"white\", \"linecolor\": \"white\", \"ticks\": \"\"}, \"bgcolor\": \"#E5ECF6\", \"radialaxis\": {\"gridcolor\": \"white\", \"linecolor\": \"white\", \"ticks\": \"\"}}, \"scene\": {\"xaxis\": {\"backgroundcolor\": \"#E5ECF6\", \"gridcolor\": \"white\", \"gridwidth\": 2, \"linecolor\": \"white\", \"showbackground\": true, \"ticks\": \"\", \"zerolinecolor\": \"white\"}, \"yaxis\": {\"backgroundcolor\": \"#E5ECF6\", \"gridcolor\": \"white\", \"gridwidth\": 2, \"linecolor\": \"white\", \"showbackground\": true, \"ticks\": \"\", \"zerolinecolor\": \"white\"}, \"zaxis\": {\"backgroundcolor\": \"#E5ECF6\", \"gridcolor\": \"white\", \"gridwidth\": 2, \"linecolor\": \"white\", \"showbackground\": true, \"ticks\": \"\", \"zerolinecolor\": \"white\"}}, \"shapedefaults\": {\"line\": {\"color\": \"#2a3f5f\"}}, \"ternary\": {\"aaxis\": {\"gridcolor\": \"white\", \"linecolor\": \"white\", \"ticks\": \"\"}, \"baxis\": {\"gridcolor\": \"white\", \"linecolor\": \"white\", \"ticks\": \"\"}, \"bgcolor\": \"#E5ECF6\", \"caxis\": {\"gridcolor\": \"white\", \"linecolor\": \"white\", \"ticks\": \"\"}}, \"title\": {\"x\": 0.05}, \"xaxis\": {\"automargin\": true, \"gridcolor\": \"white\", \"linecolor\": \"white\", \"ticks\": \"\", \"title\": {\"standoff\": 15}, \"zerolinecolor\": \"white\", \"zerolinewidth\": 2}, \"yaxis\": {\"automargin\": true, \"gridcolor\": \"white\", \"linecolor\": \"white\", \"ticks\": \"\", \"title\": {\"standoff\": 15}, \"zerolinecolor\": \"white\", \"zerolinewidth\": 2}}}, \"title\": {\"text\": \"Stock\"}, \"xaxis\": {\"rangeslider\": {\"visible\": true}}},                        {\"responsive\": true}                    ).then(function(){\n",
       "                            \n",
       "var gd = document.getElementById('553c1d0c-f6c5-4d6f-98cb-75166a2d746f');\n",
       "var x = new MutationObserver(function (mutations, observer) {{\n",
       "        var display = window.getComputedStyle(gd).display;\n",
       "        if (!display || display === 'none') {{\n",
       "            console.log([gd, 'removed!']);\n",
       "            Plotly.purge(gd);\n",
       "            observer.disconnect();\n",
       "        }}\n",
       "}});\n",
       "\n",
       "// Listen for the removal of the full notebook cells\n",
       "var notebookContainer = gd.closest('#notebook-container');\n",
       "if (notebookContainer) {{\n",
       "    x.observe(notebookContainer, {childList: true});\n",
       "}}\n",
       "\n",
       "// Listen for the clearing of the current output cell\n",
       "var outputEl = gd.closest('.output');\n",
       "if (outputEl) {{\n",
       "    x.observe(outputEl, {childList: true});\n",
       "}}\n",
       "\n",
       "                        })                };                });            </script>        </div>"
      ]
     },
     "metadata": {},
     "output_type": "display_data"
    }
   ],
   "source": [
    "import plotly.graph_objects as go\n",
    "\n",
    "fig=go.Figure(data=go.Scatter(x=ann,y=df2,mode=\"lines\",marker_color=\"seagreen\"))\n",
    "fig.update_xaxes(rangeslider_visible=True)\n",
    "fig.update_layout(title=\"Stock\")\n",
    "fig.show()"
   ]
  },
  {
   "cell_type": "code",
   "execution_count": 66,
   "metadata": {
    "execution": {
     "iopub.execute_input": "2020-12-19T17:09:38.031669Z",
     "iopub.status.busy": "2020-12-19T17:09:38.030740Z",
     "iopub.status.idle": "2020-12-19T17:09:38.403406Z",
     "shell.execute_reply": "2020-12-19T17:09:38.402788Z"
    },
    "papermill": {
     "duration": 2.290252,
     "end_time": "2020-12-19T17:09:38.403533",
     "exception": false,
     "start_time": "2020-12-19T17:09:36.113281",
     "status": "completed"
    },
    "tags": []
   },
   "outputs": [
    {
     "ename": "StdinNotImplementedError",
     "evalue": "raw_input was called, but this frontend does not support input requests.",
     "output_type": "error",
     "traceback": [
      "\u001b[0;31m---------------------------------------------------------------------------\u001b[0m",
      "\u001b[0;31mStdinNotImplementedError\u001b[0m                  Traceback (most recent call last)",
      "\u001b[0;32m<ipython-input-66-7711b6f7d52b>\u001b[0m in \u001b[0;36m<module>\u001b[0;34m\u001b[0m\n\u001b[0;32m----> 1\u001b[0;31m \u001b[0mnop\u001b[0m\u001b[0;34m=\u001b[0m\u001b[0mint\u001b[0m\u001b[0;34m(\u001b[0m\u001b[0minput\u001b[0m\u001b[0;34m(\u001b[0m\u001b[0;34m\"Enter the Number in csv :\"\u001b[0m\u001b[0;34m)\u001b[0m\u001b[0;34m)\u001b[0m\u001b[0;34m\u001b[0m\u001b[0;34m\u001b[0m\u001b[0m\n\u001b[0m",
      "\u001b[0;32m/opt/conda/lib/python3.7/site-packages/ipykernel/kernelbase.py\u001b[0m in \u001b[0;36mraw_input\u001b[0;34m(self, prompt)\u001b[0m\n\u001b[1;32m    853\u001b[0m         \u001b[0;32mif\u001b[0m \u001b[0;32mnot\u001b[0m \u001b[0mself\u001b[0m\u001b[0;34m.\u001b[0m\u001b[0m_allow_stdin\u001b[0m\u001b[0;34m:\u001b[0m\u001b[0;34m\u001b[0m\u001b[0;34m\u001b[0m\u001b[0m\n\u001b[1;32m    854\u001b[0m             raise StdinNotImplementedError(\n\u001b[0;32m--> 855\u001b[0;31m                 \u001b[0;34m\"raw_input was called, but this frontend does not support input requests.\"\u001b[0m\u001b[0;34m\u001b[0m\u001b[0;34m\u001b[0m\u001b[0m\n\u001b[0m\u001b[1;32m    856\u001b[0m             )\n\u001b[1;32m    857\u001b[0m         return self._input_request(str(prompt),\n",
      "\u001b[0;31mStdinNotImplementedError\u001b[0m: raw_input was called, but this frontend does not support input requests."
     ]
    }
   ],
   "source": [
    "nop=int(input(\"Enter the Number in csv :\"))"
   ]
  },
  {
   "cell_type": "code",
   "execution_count": null,
   "metadata": {
    "papermill": {
     "duration": 1.953927,
     "end_time": "2020-12-19T17:09:42.270731",
     "exception": false,
     "start_time": "2020-12-19T17:09:40.316804",
     "status": "completed"
    },
    "tags": []
   },
   "outputs": [],
   "source": []
  }
 ],
 "metadata": {
  "kernelspec": {
   "display_name": "Python 3",
   "language": "python",
   "name": "python3"
  },
  "language_info": {
   "codemirror_mode": {
    "name": "ipython",
    "version": 3
   },
   "file_extension": ".py",
   "mimetype": "text/x-python",
   "name": "python",
   "nbconvert_exporter": "python",
   "pygments_lexer": "ipython3",
   "version": "3.7.6"
  },
  "papermill": {
   "duration": 1364.90512,
   "end_time": "2020-12-19T17:09:44.350233",
   "environment_variables": {},
   "exception": null,
   "input_path": "__notebook__.ipynb",
   "output_path": "__notebook__.ipynb",
   "parameters": {},
   "start_time": "2020-12-19T16:46:59.445113",
   "version": "2.1.0"
  }
 },
 "nbformat": 4,
 "nbformat_minor": 4
}
